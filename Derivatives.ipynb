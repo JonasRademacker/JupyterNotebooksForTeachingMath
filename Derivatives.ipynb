{
 "cells": [
  {
   "cell_type": "markdown",
   "metadata": {},
   "source": [
    "https://docs.sympy.org/latest/tutorial/calculus.html\n",
    "\n",
    "https://www.tutorialspoint.com/sympy/sympy_plotting.htm\n",
    "\n",
    "https://docs.sympy.org/latest/modules/plotting.html#plotgrid-class"
   ]
  },
  {
   "cell_type": "code",
   "execution_count": 1,
   "metadata": {},
   "outputs": [
    {
     "name": "stdout",
     "output_type": "stream",
     "text": [
      "IPython console for SymPy 1.6.1 (Python 3.8.3-64-bit) (ground types: gmpy)\n",
      "\n",
      "These commands were executed:\n",
      ">>> from __future__ import division\n",
      ">>> from sympy import *\n",
      ">>> x, y, z, t = symbols('x y z t')\n",
      ">>> k, m, n = symbols('k m n', integer=True)\n",
      ">>> f, g, h = symbols('f g h', cls=Function)\n",
      ">>> init_printing()\n",
      "\n",
      "Documentation can be found at https://docs.sympy.org/1.6.1/\n",
      "\n"
     ]
    }
   ],
   "source": [
    "from sympy import *\n",
    "import matplotlib.pyplot as plt\n",
    "init_session()\n",
    "init_printing(use_unicode=True)\n",
    "\n",
    "import seaborn as sns\n",
    "sns.set()\n",
    "sns.set_style(\"whitegrid\", {'grid.linestyle': '--'})\n"
   ]
  },
  {
   "cell_type": "code",
   "execution_count": 2,
   "metadata": {},
   "outputs": [],
   "source": [
    "# Magic that plots sympy plots on plt.axis so I can arrange them nicely in subplots\n",
    "def move_sympyplot_to_axes(p, ax):\n",
    "    backend = p.backend(p)\n",
    "    backend.ax = ax\n",
    "#    backend.process_series()\n",
    "    backend._process_series(backend.parent._series, ax, backend.parent)\n",
    "    backend.ax.spines['right'].set_color('none')\n",
    "    backend.ax.spines['bottom'].set_position('zero')\n",
    "    backend.ax.spines['top'].set_color('none')\n",
    "    plt.close(backend.fig)\n",
    "\n",
    "# from https://stackoverflow.com/questions/46810880/display-two-sympy-plots-as-two-matplotlib-subplots?rq=1\n",
    "# with correction: This seems to be broken on Sympy 1.5, at least for me. I had to replace backend.process_series() with the following: backend._process_series(backend.parent._series, ax, backend.parent)\n",
    "    "
   ]
  },
  {
   "cell_type": "code",
   "execution_count": 3,
   "metadata": {},
   "outputs": [],
   "source": [
    "def plotFunctionAndNDerivatives(stringFct, nderiv=2, xrange=(-3,3)):\n",
    "    f     = [None]*(nderiv+1)  # f[n] = nth derivative of stringFct\n",
    "    p     = [None]*(nderiv+1)  # plot of f[n]\n",
    "    \n",
    "    plotrange     = (x, xrange[0], xrange[1])\n",
    "    fig           = plt.figure(figsize=(6,8))\n",
    "    subplotLayout = 100*(nderiv+1)+10\n",
    "    \n",
    "    nstr=\"f\"\n",
    "    print(\"\\\\begin{align}\")\n",
    "    for n in range(nderiv+1):\n",
    "        if n==0: \n",
    "            f[n] = sympify(stringFct)\n",
    "        else:\n",
    "            f[n] = simplify(diff(f[n-1]))\n",
    "        print(nstr, \"\\t&= \" , latex(f[n]))\n",
    "        p[n] = plot(f[n], plotrange, xlabel=\"x\", ylabel=nstr, show=False)\n",
    "        ax = fig.add_subplot(subplotLayout+n+1)\n",
    "        move_sympyplot_to_axes(p[n], ax)\n",
    "        nstr += \"'\"\n",
    "    print(\"\\\\end{align}\")\n",
    "    plt.show()"
   ]
  },
  {
   "cell_type": "code",
   "execution_count": 4,
   "metadata": {},
   "outputs": [
    {
     "name": "stdout",
     "output_type": "stream",
     "text": [
      "\\begin{align}\n",
      "f \t&=  x^{2} \\sin{\\left(x \\right)}\n",
      "f' \t&=  x \\left(x \\cos{\\left(x \\right)} + 2 \\sin{\\left(x \\right)}\\right)\n",
      "f'' \t&=  - x^{2} \\sin{\\left(x \\right)} + 4 x \\cos{\\left(x \\right)} + 2 \\sin{\\left(x \\right)}\n",
      "\\end{align}\n"
     ]
    }
   ],
   "source": [
    "plotFunctionAndNDerivatives(\"sin(x)*x**2\", 2, xrange=(-10,10))"
   ]
  },
  {
   "cell_type": "code",
   "execution_count": null,
   "metadata": {},
   "outputs": [],
   "source": []
  },
  {
   "cell_type": "code",
   "execution_count": null,
   "metadata": {},
   "outputs": [],
   "source": []
  }
 ],
 "metadata": {
  "kernelspec": {
   "display_name": "Python 3",
   "language": "python",
   "name": "python3"
  },
  "language_info": {
   "codemirror_mode": {
    "name": "ipython",
    "version": 3
   },
   "file_extension": ".py",
   "mimetype": "text/x-python",
   "name": "python",
   "nbconvert_exporter": "python",
   "pygments_lexer": "ipython3",
   "version": "3.8.3"
  }
 },
 "nbformat": 4,
 "nbformat_minor": 4
}
