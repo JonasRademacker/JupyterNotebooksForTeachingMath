{
 "cells": [
  {
   "cell_type": "markdown",
   "metadata": {},
   "source": [
    "# Curve Sketching\n",
    "This notebook uses sympy for providing the ingredients of curve sketching (functions, their derivatives, and where these are zero), and a sketch of the curve itself. (BTW, I know about the spelling mistake in the filename and I like it.)"
   ]
  },
  {
   "cell_type": "markdown",
   "metadata": {},
   "source": [
    "Helpful resources for writing this and things like this:\n",
    "\n",
    "https://docs.sympy.org/latest/tutorial/calculus.html\n",
    "\n",
    "https://www.tutorialspoint.com/sympy/sympy_plotting.htm\n",
    "\n",
    "https://docs.sympy.org/latest/modules/plotting.html#plotgrid-class\n",
    "\n",
    "https://stackoverflow.com/questions/46810880/display-two-sympy-plots-as-two-matplotlib-subplots?rq=1"
   ]
  },
  {
   "cell_type": "code",
   "execution_count": 1,
   "metadata": {},
   "outputs": [
    {
     "name": "stdout",
     "output_type": "stream",
     "text": [
      "IPython console for SymPy 1.6.1 (Python 3.8.3-64-bit) (ground types: gmpy)\n",
      "\n",
      "These commands were executed:\n",
      ">>> from __future__ import division\n",
      ">>> from sympy import *\n",
      ">>> x, y, z, t = symbols('x y z t')\n",
      ">>> k, m, n = symbols('k m n', integer=True)\n",
      ">>> f, g, h = symbols('f g h', cls=Function)\n",
      ">>> init_printing()\n",
      "\n",
      "Documentation can be found at https://docs.sympy.org/1.6.1/\n",
      "\n"
     ]
    }
   ],
   "source": [
    "from sympy import *\n",
    "import matplotlib.pyplot as plt\n",
    "init_session()\n",
    "init_printing(use_unicode=True)\n",
    "\n",
    "from IPython.display import display, Math, Latex\n",
    "\n",
    "from collections.abc import Iterable\n",
    "\n",
    "import seaborn as sns\n",
    "sns.set()\n",
    "sns.set_style(\"whitegrid\", {'grid.linestyle': '--'})\n",
    "\n",
    "# remove/comment line below to get plots in a seperate window\n",
    "%matplotlib inline"
   ]
  },
  {
   "cell_type": "code",
   "execution_count": 2,
   "metadata": {},
   "outputs": [],
   "source": [
    "# Magic that plots sympy plots on plt.axis so I can arrange them nicely in subplots\n",
    "def move_sympyplot_to_axes(p, ax):\n",
    "    backend = p.backend(p)\n",
    "    backend.ax = ax\n",
    "#    backend.process_series()\n",
    "    backend._process_series(backend.parent._series, ax, backend.parent)\n",
    "    backend.ax.spines['right'].set_color('none')\n",
    "    backend.ax.spines['bottom'].set_position('zero')\n",
    "    backend.ax.spines['top'].set_color('none')\n",
    "    plt.close(backend.fig)\n",
    "\n",
    "# from https://stackoverflow.com/questions/46810880/display-two-sympy-plots-as-two-matplotlib-subplots?rq=1\n",
    "# with correction: This seems to be broken on Sympy 1.5, at least for me. I had to replace backend.process_series() with the following: backend._process_series(backend.parent._series, ax, backend.parent)\n",
    "    "
   ]
  },
  {
   "cell_type": "code",
   "execution_count": 3,
   "metadata": {},
   "outputs": [],
   "source": [
    "def makeString(f, sf=0):\n",
    "    if(sf <=0):\n",
    "        return latex(f)\n",
    "    else:\n",
    "        return str(f.evalf(sf))\n",
    "    \n",
    "\n",
    "def printFunctionAndDerivatives(fc, s=0, sf=0):\n",
    "    mstr=\"f\"\n",
    "    strng = \"\"\n",
    "    strng += \"\\\\text{at}\\\\;x = \" + makeString(s, sf) + \":\\\\;\"\n",
    "    for f in fc:\n",
    "        fx = simplify(f.subs(x, s))\n",
    "        strng += mstr + \" = \" + makeString(fx, sf)\n",
    "        mstr += \"'\"\n",
    "        strng += \",\\\\;\"\n",
    "    display(Math(strng))\n",
    "    \n",
    "def classifyPoint(fc, s=0):\n",
    "    string = \"\"\n",
    "    null = sympify(\"0\")\n",
    "    if len(fc) < 2:\n",
    "        return\n",
    "    else:\n",
    "        if fc[1].subs(x,s).simplify() == null:\n",
    "            if len(fc) < 3:\n",
    "                string += \"stationary point\"\n",
    "            else:\n",
    "                if fc[2].subs(x,s) < 0:\n",
    "                    string += \"maximum\"\n",
    "                elif fc[2].subs(x,s) > 0:\n",
    "                    string += \"minimum\"\n",
    "                else:\n",
    "                    if len(fc) < 4:\n",
    "                        string += \"stationary point\"\n",
    "                    else:\n",
    "                        if fc[3].subs(x,s).simplify() != null:\n",
    "                            string += \"saddle point\"\n",
    "                        else:\n",
    "                            string += \"stationary point\"   \n",
    "        if fc[2].subs(x,s).simplify() == null and fc[1].subs(x,s).simplify() != null:\n",
    "            if len(fc) >= 4:\n",
    "                if fc[3].subs(x,s).simplify() != 0:\n",
    "                    string += \"point of inflection\"\n",
    "                else:\n",
    "                    string += \"f''=0\"\n",
    "                    \n",
    "    if(\"\" != string):\n",
    "        print(string)\n",
    "\n",
    "\n",
    "    \n",
    "def CurveSketching(stringNum, stringDen=\"1\", xranges=[(-3,3)], nderiv=3, plotnderiv=0, maxSols=100):\n",
    "    fc    = [None]*(nderiv+1)  # fc[n] = nth derivative of stringFct\n",
    "\n",
    "\n",
    "    if stringDen == \"\":\n",
    "        stringDen=\"1\"\n",
    "        \n",
    "    num=sympify(stringNum)\n",
    "    den=sympify(stringDen)\n",
    "    \n",
    "    fcn  = num/den #sympify(stringFcn)\n",
    "    \n",
    "    poles = solveset(1/fcn, x, domain=S.Reals)\n",
    "    poldiv=div(num, den)\n",
    "    asymptote = poldiv[0].simplify()\n",
    "\n",
    "    fig           = plt.figure(figsize=(6,8))\n",
    "    subplotLayout = 100*(plotnderiv+1)+10\n",
    "    \n",
    "    strng = \"f(x) = \" + latex(fcn) \n",
    "    if poldiv[1] != 0:\n",
    "        rm = (poldiv[1]/den).simplify()\n",
    "        strng += \" = \" + latex(poldiv[0] + rm) \n",
    "        #strng += \" + \" + latex(rm)\n",
    "        #strng += \" + \\\\frac{\" + latex(poldiv[1]) + \"}{\" + latex(den) + \"}\"\n",
    "    display(Math(strng))\n",
    "    if len(poles) > 0:\n",
    "        strng = \" \\\\text{potential poles for}\\\\; x \\\\in \" + latex(poles)\n",
    "        display(Math(strng))\n",
    "\n",
    "    if asymptote.simplify() != fcn.simplify():\n",
    "        strng = \"\\\\text{asymptote:}\\\\; a(x) = \" + latex(asymptote) \n",
    "        strng += \"\\\\;\\\\;\\\\text{(meaningful only for rational functions)}\"\n",
    "        #strng += \"\\\\;\\\\;\\\\mathrm{(meaningful} \\\\; \\\\mathrm{only} \\\\; \\\\mathrm{for} \\\\; \\\\mathrm{rational} \\\\; \\\\mathrm{functions)}\"\n",
    "        display(Math(strng))\n",
    "\n",
    "    print('==============================================')\n",
    "\n",
    "    nstr=\"f\"\n",
    "    #print(\"\\\\begin{align}\")\n",
    "    for n in range(nderiv+1):\n",
    "        if n==0: \n",
    "            fc[n] = simplify(fcn)\n",
    "        else:\n",
    "            fc[n] = simplify(diff(fc[n-1]))\n",
    "\n",
    "    strng = \"f(0) = \" + latex(fcn.subs(x, 0))\n",
    "    display(Math(strng))\n",
    "    print('---------------------------')\n",
    "    printFunctionAndDerivatives(fc, 0)\n",
    "    print('==============================================')\n",
    "\n",
    "    \n",
    "    for n in range(nderiv+1):\n",
    "        strng =  nstr + \" = \" + latex(fc[n]) \n",
    "        display(Math(strng))\n",
    "        sol=solveset(fc[n], x, domain=S.Reals)\n",
    "        \n",
    "        display(Math(nstr + \" = 0\\\\;\\\\text{for}\\\\; x \\\\in \" + latex(sol)))\n",
    "        nstr += \"'\"\n",
    "\n",
    "        if not isinstance(sol, Iterable):\n",
    "            continue\n",
    "            \n",
    "        it = iter(sol)\n",
    "        if 0 == it:\n",
    "            continue\n",
    "        \n",
    "        \n",
    "        try:\n",
    "        #if True:\n",
    "            counter=0\n",
    "            for s in sol:\n",
    "                counter +=1\n",
    "                print('---------------------------')\n",
    "                if n==1 or n==2 :\n",
    "                    classifyPoint(fc, s)\n",
    "                printFunctionAndDerivatives(fc, s)\n",
    "                printFunctionAndDerivatives(fc, s, sf=3)\n",
    "                \n",
    "                if counter > maxSols: # the sets solveset returns can be countable-infinite\n",
    "                    display(Math(\"\\\\vdots\"))\n",
    "                    break\n",
    "        except:\n",
    "            pass      # this ugliness is necessary because sometimes solveset produces an error when it tries to return an iterator which I can't seem to be able to protect against (see attempts above) - see what happens if you remove the except/pass in the sin(x)/x example\n",
    "        \n",
    "        print('==============================================')\n",
    "            \n",
    "    nstr=\"f\"\n",
    "    totalRange = (x, xranges[0][0], xranges[-1][1])\n",
    "    for n in range(plotnderiv+1):\n",
    "        #pprint(nstr, \"\\t&= \" , latex(fc[n]))\n",
    "        ax = fig.add_subplot(subplotLayout+n+1)\n",
    "        if(n==0):\n",
    "            pl = plot(asymptote, totalRange, xlabel=\"x\", ylabel=nstr, show=False)\n",
    "            pl.linecolor='b'\n",
    "            move_sympyplot_to_axes(pl, ax)\n",
    "        for xrange in xranges:\n",
    "            plotrange     = (x, xrange[0], xrange[1])\n",
    "            pl = plot(fc[n], plotrange, xlabel=\"x\", ylabel=nstr, show=False)\n",
    "            move_sympyplot_to_axes(pl, ax)\n",
    "\n",
    "        nstr += \"'\"\n",
    "\n",
    "    #print(\"\\\\end{align}\")\n",
    "    plt.show()"
   ]
  },
  {
   "cell_type": "code",
   "execution_count": 4,
   "metadata": {},
   "outputs": [
    {
     "data": {
      "text/latex": [
       "$\\displaystyle f(x) = \\frac{x^{3} - 2 x^{2} + x}{x^{2} - 1} = x - 2 + \\frac{2}{x + 1}$"
      ],
      "text/plain": [
       "<IPython.core.display.Math object>"
      ]
     },
     "metadata": {},
     "output_type": "display_data"
    },
    {
     "data": {
      "text/latex": [
       "$\\displaystyle  \\text{potential poles for}\\; x \\in \\left\\{-1\\right\\}$"
      ],
      "text/plain": [
       "<IPython.core.display.Math object>"
      ]
     },
     "metadata": {},
     "output_type": "display_data"
    },
    {
     "data": {
      "text/latex": [
       "$\\displaystyle \\text{asymptote:}\\; a(x) = x - 2\\;\\;\\text{(meaningful only for rational functions)}$"
      ],
      "text/plain": [
       "<IPython.core.display.Math object>"
      ]
     },
     "metadata": {},
     "output_type": "display_data"
    },
    {
     "name": "stdout",
     "output_type": "stream",
     "text": [
      "==============================================\n"
     ]
    },
    {
     "data": {
      "text/latex": [
       "$\\displaystyle f(0) = 0$"
      ],
      "text/plain": [
       "<IPython.core.display.Math object>"
      ]
     },
     "metadata": {},
     "output_type": "display_data"
    },
    {
     "name": "stdout",
     "output_type": "stream",
     "text": [
      "---------------------------\n"
     ]
    },
    {
     "data": {
      "text/latex": [
       "$\\displaystyle \\text{at}\\;x = 0:\\;f = 0,\\;f' = -1,\\;f'' = 4,\\;f''' = -12,\\;$"
      ],
      "text/plain": [
       "<IPython.core.display.Math object>"
      ]
     },
     "metadata": {},
     "output_type": "display_data"
    },
    {
     "name": "stdout",
     "output_type": "stream",
     "text": [
      "==============================================\n"
     ]
    },
    {
     "data": {
      "text/latex": [
       "$\\displaystyle f = \\frac{x \\left(x - 1\\right)}{x + 1}$"
      ],
      "text/plain": [
       "<IPython.core.display.Math object>"
      ]
     },
     "metadata": {},
     "output_type": "display_data"
    },
    {
     "data": {
      "text/latex": [
       "$\\displaystyle f = 0\\;\\text{for}\\; x \\in \\left\\{0, 1\\right\\}$"
      ],
      "text/plain": [
       "<IPython.core.display.Math object>"
      ]
     },
     "metadata": {},
     "output_type": "display_data"
    },
    {
     "name": "stdout",
     "output_type": "stream",
     "text": [
      "---------------------------\n"
     ]
    },
    {
     "data": {
      "text/latex": [
       "$\\displaystyle \\text{at}\\;x = 0:\\;f = 0,\\;f' = -1,\\;f'' = 4,\\;f''' = -12,\\;$"
      ],
      "text/plain": [
       "<IPython.core.display.Math object>"
      ]
     },
     "metadata": {},
     "output_type": "display_data"
    },
    {
     "data": {
      "text/latex": [
       "$\\displaystyle \\text{at}\\;x = 0:\\;f = 0,\\;f' = -1.00,\\;f'' = 4.00,\\;f''' = -12.0,\\;$"
      ],
      "text/plain": [
       "<IPython.core.display.Math object>"
      ]
     },
     "metadata": {},
     "output_type": "display_data"
    },
    {
     "name": "stdout",
     "output_type": "stream",
     "text": [
      "---------------------------\n"
     ]
    },
    {
     "data": {
      "text/latex": [
       "$\\displaystyle \\text{at}\\;x = 1:\\;f = 0,\\;f' = \\frac{1}{2},\\;f'' = \\frac{1}{2},\\;f''' = - \\frac{3}{4},\\;$"
      ],
      "text/plain": [
       "<IPython.core.display.Math object>"
      ]
     },
     "metadata": {},
     "output_type": "display_data"
    },
    {
     "data": {
      "text/latex": [
       "$\\displaystyle \\text{at}\\;x = 1.00:\\;f = 0,\\;f' = 0.500,\\;f'' = 0.500,\\;f''' = -0.750,\\;$"
      ],
      "text/plain": [
       "<IPython.core.display.Math object>"
      ]
     },
     "metadata": {},
     "output_type": "display_data"
    },
    {
     "name": "stdout",
     "output_type": "stream",
     "text": [
      "==============================================\n"
     ]
    },
    {
     "data": {
      "text/latex": [
       "$\\displaystyle f' = \\frac{x^{2} + 2 x - 1}{x^{2} + 2 x + 1}$"
      ],
      "text/plain": [
       "<IPython.core.display.Math object>"
      ]
     },
     "metadata": {},
     "output_type": "display_data"
    },
    {
     "data": {
      "text/latex": [
       "$\\displaystyle f' = 0\\;\\text{for}\\; x \\in \\left\\{-1 + \\sqrt{2}, - \\sqrt{2} - 1\\right\\}$"
      ],
      "text/plain": [
       "<IPython.core.display.Math object>"
      ]
     },
     "metadata": {},
     "output_type": "display_data"
    },
    {
     "name": "stdout",
     "output_type": "stream",
     "text": [
      "---------------------------\n",
      "minimum\n"
     ]
    },
    {
     "data": {
      "text/latex": [
       "$\\displaystyle \\text{at}\\;x = -1 + \\sqrt{2}:\\;f = -3 + 2 \\sqrt{2},\\;f' = 0,\\;f'' = \\sqrt{2},\\;f''' = -3,\\;$"
      ],
      "text/plain": [
       "<IPython.core.display.Math object>"
      ]
     },
     "metadata": {},
     "output_type": "display_data"
    },
    {
     "data": {
      "text/latex": [
       "$\\displaystyle \\text{at}\\;x = 0.414:\\;f = -0.172,\\;f' = 0,\\;f'' = 1.41,\\;f''' = -3.00,\\;$"
      ],
      "text/plain": [
       "<IPython.core.display.Math object>"
      ]
     },
     "metadata": {},
     "output_type": "display_data"
    },
    {
     "name": "stdout",
     "output_type": "stream",
     "text": [
      "---------------------------\n",
      "maximum\n"
     ]
    },
    {
     "data": {
      "text/latex": [
       "$\\displaystyle \\text{at}\\;x = - \\sqrt{2} - 1:\\;f = -3 - 2 \\sqrt{2},\\;f' = 0,\\;f'' = - \\sqrt{2},\\;f''' = -3,\\;$"
      ],
      "text/plain": [
       "<IPython.core.display.Math object>"
      ]
     },
     "metadata": {},
     "output_type": "display_data"
    },
    {
     "data": {
      "text/latex": [
       "$\\displaystyle \\text{at}\\;x = -2.41:\\;f = -5.83,\\;f' = 0,\\;f'' = -1.41,\\;f''' = -3.00,\\;$"
      ],
      "text/plain": [
       "<IPython.core.display.Math object>"
      ]
     },
     "metadata": {},
     "output_type": "display_data"
    },
    {
     "name": "stdout",
     "output_type": "stream",
     "text": [
      "==============================================\n"
     ]
    },
    {
     "data": {
      "text/latex": [
       "$\\displaystyle f'' = \\frac{4 \\left(x + 1\\right)}{\\left(x^{2} + 2 x + 1\\right)^{2}}$"
      ],
      "text/plain": [
       "<IPython.core.display.Math object>"
      ]
     },
     "metadata": {},
     "output_type": "display_data"
    },
    {
     "data": {
      "text/latex": [
       "$\\displaystyle f'' = 0\\;\\text{for}\\; x \\in \\emptyset$"
      ],
      "text/plain": [
       "<IPython.core.display.Math object>"
      ]
     },
     "metadata": {},
     "output_type": "display_data"
    },
    {
     "name": "stdout",
     "output_type": "stream",
     "text": [
      "==============================================\n"
     ]
    },
    {
     "data": {
      "text/latex": [
       "$\\displaystyle f''' = - \\frac{12}{x^{4} + 4 x^{3} + 6 x^{2} + 4 x + 1}$"
      ],
      "text/plain": [
       "<IPython.core.display.Math object>"
      ]
     },
     "metadata": {},
     "output_type": "display_data"
    },
    {
     "data": {
      "text/latex": [
       "$\\displaystyle f''' = 0\\;\\text{for}\\; x \\in \\emptyset$"
      ],
      "text/plain": [
       "<IPython.core.display.Math object>"
      ]
     },
     "metadata": {},
     "output_type": "display_data"
    },
    {
     "name": "stdout",
     "output_type": "stream",
     "text": [
      "==============================================\n"
     ]
    },
    {
     "data": {
      "image/png": "[encoded data removed]",
      "text/plain": [
       "<Figure size 432x576 with 1 Axes>"
      ]
     },
     "metadata": {
      "needs_background": "light"
     },
     "output_type": "display_data"
    }
   ],
   "source": [
    "CurveSketching(\"(x**3 -2*x**2 + x)\", \"x**2 - 1\", xranges=[(-5,-1.2), (-0.8,5)])"
   ]
  },
  {
   "cell_type": "code",
   "execution_count": 5,
   "metadata": {},
   "outputs": [
    {
     "data": {
      "text/latex": [
       "$\\displaystyle f(x) = x^{3} - 4 x^{2} + x$"
      ],
      "text/plain": [
       "<IPython.core.display.Math object>"
      ]
     },
     "metadata": {},
     "output_type": "display_data"
    },
    {
     "name": "stdout",
     "output_type": "stream",
     "text": [
      "==============================================\n"
     ]
    },
    {
     "data": {
      "text/latex": [
       "$\\displaystyle f(0) = 0$"
      ],
      "text/plain": [
       "<IPython.core.display.Math object>"
      ]
     },
     "metadata": {},
     "output_type": "display_data"
    },
    {
     "name": "stdout",
     "output_type": "stream",
     "text": [
      "---------------------------\n"
     ]
    },
    {
     "data": {
      "text/latex": [
       "$\\displaystyle \\text{at}\\;x = 0:\\;f = 0,\\;f' = 1,\\;f'' = -8,\\;f''' = 6,\\;$"
      ],
      "text/plain": [
       "<IPython.core.display.Math object>"
      ]
     },
     "metadata": {},
     "output_type": "display_data"
    },
    {
     "name": "stdout",
     "output_type": "stream",
     "text": [
      "==============================================\n"
     ]
    },
    {
     "data": {
      "text/latex": [
       "$\\displaystyle f = x \\left(x^{2} - 4 x + 1\\right)$"
      ],
      "text/plain": [
       "<IPython.core.display.Math object>"
      ]
     },
     "metadata": {},
     "output_type": "display_data"
    },
    {
     "data": {
      "text/latex": [
       "$\\displaystyle f = 0\\;\\text{for}\\; x \\in \\left\\{0, 2 - \\sqrt{3}, \\sqrt{3} + 2\\right\\}$"
      ],
      "text/plain": [
       "<IPython.core.display.Math object>"
      ]
     },
     "metadata": {},
     "output_type": "display_data"
    },
    {
     "name": "stdout",
     "output_type": "stream",
     "text": [
      "---------------------------\n"
     ]
    },
    {
     "data": {
      "text/latex": [
       "$\\displaystyle \\text{at}\\;x = 0:\\;f = 0,\\;f' = 1,\\;f'' = -8,\\;f''' = 6,\\;$"
      ],
      "text/plain": [
       "<IPython.core.display.Math object>"
      ]
     },
     "metadata": {},
     "output_type": "display_data"
    },
    {
     "data": {
      "text/latex": [
       "$\\displaystyle \\text{at}\\;x = 0:\\;f = 0,\\;f' = 1.00,\\;f'' = -8.00,\\;f''' = 6.00,\\;$"
      ],
      "text/plain": [
       "<IPython.core.display.Math object>"
      ]
     },
     "metadata": {},
     "output_type": "display_data"
    },
    {
     "name": "stdout",
     "output_type": "stream",
     "text": [
      "---------------------------\n"
     ]
    },
    {
     "data": {
      "text/latex": [
       "$\\displaystyle \\text{at}\\;x = \\sqrt{3} + 2:\\;f = 0,\\;f' = 6 + 4 \\sqrt{3},\\;f'' = 4 + 6 \\sqrt{3},\\;f''' = 6,\\;$"
      ],
      "text/plain": [
       "<IPython.core.display.Math object>"
      ]
     },
     "metadata": {},
     "output_type": "display_data"
    },
    {
     "data": {
      "text/latex": [
       "$\\displaystyle \\text{at}\\;x = 3.73:\\;f = 0,\\;f' = 12.9,\\;f'' = 14.4,\\;f''' = 6.00,\\;$"
      ],
      "text/plain": [
       "<IPython.core.display.Math object>"
      ]
     },
     "metadata": {},
     "output_type": "display_data"
    },
    {
     "name": "stdout",
     "output_type": "stream",
     "text": [
      "---------------------------\n"
     ]
    },
    {
     "data": {
      "text/latex": [
       "$\\displaystyle \\text{at}\\;x = 2 - \\sqrt{3}:\\;f = 0,\\;f' = 6 - 4 \\sqrt{3},\\;f'' = 4 - 6 \\sqrt{3},\\;f''' = 6,\\;$"
      ],
      "text/plain": [
       "<IPython.core.display.Math object>"
      ]
     },
     "metadata": {},
     "output_type": "display_data"
    },
    {
     "data": {
      "text/latex": [
       "$\\displaystyle \\text{at}\\;x = 0.268:\\;f = 0,\\;f' = -0.928,\\;f'' = -6.39,\\;f''' = 6.00,\\;$"
      ],
      "text/plain": [
       "<IPython.core.display.Math object>"
      ]
     },
     "metadata": {},
     "output_type": "display_data"
    },
    {
     "name": "stdout",
     "output_type": "stream",
     "text": [
      "==============================================\n"
     ]
    },
    {
     "data": {
      "text/latex": [
       "$\\displaystyle f' = 3 x^{2} - 8 x + 1$"
      ],
      "text/plain": [
       "<IPython.core.display.Math object>"
      ]
     },
     "metadata": {},
     "output_type": "display_data"
    },
    {
     "data": {
      "text/latex": [
       "$\\displaystyle f' = 0\\;\\text{for}\\; x \\in \\left\\{\\frac{4}{3} - \\frac{\\sqrt{13}}{3}, \\frac{\\sqrt{13}}{3} + \\frac{4}{3}\\right\\}$"
      ],
      "text/plain": [
       "<IPython.core.display.Math object>"
      ]
     },
     "metadata": {},
     "output_type": "display_data"
    },
    {
     "name": "stdout",
     "output_type": "stream",
     "text": [
      "---------------------------\n",
      "maximum\n"
     ]
    },
    {
     "data": {
      "text/latex": [
       "$\\displaystyle \\text{at}\\;x = \\frac{4}{3} - \\frac{\\sqrt{13}}{3}:\\;f = - \\frac{92}{27} + \\frac{26 \\sqrt{13}}{27},\\;f' = 0,\\;f'' = - 2 \\sqrt{13},\\;f''' = 6,\\;$"
      ],
      "text/plain": [
       "<IPython.core.display.Math object>"
      ]
     },
     "metadata": {},
     "output_type": "display_data"
    },
    {
     "data": {
      "text/latex": [
       "$\\displaystyle \\text{at}\\;x = 0.131:\\;f = 0.0646,\\;f' = 0,\\;f'' = -7.21,\\;f''' = 6.00,\\;$"
      ],
      "text/plain": [
       "<IPython.core.display.Math object>"
      ]
     },
     "metadata": {},
     "output_type": "display_data"
    },
    {
     "name": "stdout",
     "output_type": "stream",
     "text": [
      "---------------------------\n",
      "minimum\n"
     ]
    },
    {
     "data": {
      "text/latex": [
       "$\\displaystyle \\text{at}\\;x = \\frac{\\sqrt{13}}{3} + \\frac{4}{3}:\\;f = - \\frac{26 \\sqrt{13}}{27} - \\frac{92}{27},\\;f' = 0,\\;f'' = 2 \\sqrt{13},\\;f''' = 6,\\;$"
      ],
      "text/plain": [
       "<IPython.core.display.Math object>"
      ]
     },
     "metadata": {},
     "output_type": "display_data"
    },
    {
     "data": {
      "text/latex": [
       "$\\displaystyle \\text{at}\\;x = 2.54:\\;f = -6.88,\\;f' = 0,\\;f'' = 7.21,\\;f''' = 6.00,\\;$"
      ],
      "text/plain": [
       "<IPython.core.display.Math object>"
      ]
     },
     "metadata": {},
     "output_type": "display_data"
    },
    {
     "name": "stdout",
     "output_type": "stream",
     "text": [
      "==============================================\n"
     ]
    },
    {
     "data": {
      "text/latex": [
       "$\\displaystyle f'' = 6 x - 8$"
      ],
      "text/plain": [
       "<IPython.core.display.Math object>"
      ]
     },
     "metadata": {},
     "output_type": "display_data"
    },
    {
     "data": {
      "text/latex": [
       "$\\displaystyle f'' = 0\\;\\text{for}\\; x \\in \\left\\{\\frac{4}{3}\\right\\}$"
      ],
      "text/plain": [
       "<IPython.core.display.Math object>"
      ]
     },
     "metadata": {},
     "output_type": "display_data"
    },
    {
     "name": "stdout",
     "output_type": "stream",
     "text": [
      "---------------------------\n",
      "point of inflection\n"
     ]
    },
    {
     "data": {
      "text/latex": [
       "$\\displaystyle \\text{at}\\;x = \\frac{4}{3}:\\;f = - \\frac{92}{27},\\;f' = - \\frac{13}{3},\\;f'' = 0,\\;f''' = 6,\\;$"
      ],
      "text/plain": [
       "<IPython.core.display.Math object>"
      ]
     },
     "metadata": {},
     "output_type": "display_data"
    },
    {
     "data": {
      "text/latex": [
       "$\\displaystyle \\text{at}\\;x = 1.33:\\;f = -3.41,\\;f' = -4.33,\\;f'' = 0,\\;f''' = 6.00,\\;$"
      ],
      "text/plain": [
       "<IPython.core.display.Math object>"
      ]
     },
     "metadata": {},
     "output_type": "display_data"
    },
    {
     "name": "stdout",
     "output_type": "stream",
     "text": [
      "==============================================\n"
     ]
    },
    {
     "data": {
      "text/latex": [
       "$\\displaystyle f''' = 6$"
      ],
      "text/plain": [
       "<IPython.core.display.Math object>"
      ]
     },
     "metadata": {},
     "output_type": "display_data"
    },
    {
     "data": {
      "text/latex": [
       "$\\displaystyle f''' = 0\\;\\text{for}\\; x \\in \\emptyset$"
      ],
      "text/plain": [
       "<IPython.core.display.Math object>"
      ]
     },
     "metadata": {},
     "output_type": "display_data"
    },
    {
     "name": "stdout",
     "output_type": "stream",
     "text": [
      "==============================================\n"
     ]
    },
    {
     "data": {
      "image/png": "[encoded data removed]",
      "text/plain": [
       "<Figure size 432x576 with 2 Axes>"
      ]
     },
     "metadata": {
      "needs_background": "light"
     },
     "output_type": "display_data"
    }
   ],
   "source": [
    "CurveSketching(\"(x**3 -4*x**2 + x)\", plotnderiv=1, xranges=[(-3,5)])"
   ]
  },
  {
   "cell_type": "code",
   "execution_count": 6,
   "metadata": {},
   "outputs": [
    {
     "data": {
      "text/latex": [
       "$\\displaystyle f(x) = - \\frac{\\left(x - 2\\right)^{2}}{x + 2} = - x + 6 - \\frac{16}{x + 2}$"
      ],
      "text/plain": [
       "<IPython.core.display.Math object>"
      ]
     },
     "metadata": {},
     "output_type": "display_data"
    },
    {
     "data": {
      "text/latex": [
       "$\\displaystyle  \\text{potential poles for}\\; x \\in \\left\\{-2\\right\\}$"
      ],
      "text/plain": [
       "<IPython.core.display.Math object>"
      ]
     },
     "metadata": {},
     "output_type": "display_data"
    },
    {
     "data": {
      "text/latex": [
       "$\\displaystyle \\text{asymptote:}\\; a(x) = 6 - x\\;\\;\\text{(meaningful only for rational functions)}$"
      ],
      "text/plain": [
       "<IPython.core.display.Math object>"
      ]
     },
     "metadata": {},
     "output_type": "display_data"
    },
    {
     "name": "stdout",
     "output_type": "stream",
     "text": [
      "==============================================\n"
     ]
    },
    {
     "data": {
      "text/latex": [
       "$\\displaystyle f(0) = -2$"
      ],
      "text/plain": [
       "<IPython.core.display.Math object>"
      ]
     },
     "metadata": {},
     "output_type": "display_data"
    },
    {
     "name": "stdout",
     "output_type": "stream",
     "text": [
      "---------------------------\n"
     ]
    },
    {
     "data": {
      "text/latex": [
       "$\\displaystyle \\text{at}\\;x = 0:\\;f = -2,\\;f' = 3,\\;f'' = -4,\\;f''' = 6,\\;$"
      ],
      "text/plain": [
       "<IPython.core.display.Math object>"
      ]
     },
     "metadata": {},
     "output_type": "display_data"
    },
    {
     "name": "stdout",
     "output_type": "stream",
     "text": [
      "==============================================\n"
     ]
    },
    {
     "data": {
      "text/latex": [
       "$\\displaystyle f = - \\frac{\\left(x - 2\\right)^{2}}{x + 2}$"
      ],
      "text/plain": [
       "<IPython.core.display.Math object>"
      ]
     },
     "metadata": {},
     "output_type": "display_data"
    },
    {
     "data": {
      "text/latex": [
       "$\\displaystyle f = 0\\;\\text{for}\\; x \\in \\left\\{2\\right\\}$"
      ],
      "text/plain": [
       "<IPython.core.display.Math object>"
      ]
     },
     "metadata": {},
     "output_type": "display_data"
    },
    {
     "name": "stdout",
     "output_type": "stream",
     "text": [
      "---------------------------\n"
     ]
    },
    {
     "data": {
      "text/latex": [
       "$\\displaystyle \\text{at}\\;x = 2:\\;f = 0,\\;f' = 0,\\;f'' = - \\frac{1}{2},\\;f''' = \\frac{3}{8},\\;$"
      ],
      "text/plain": [
       "<IPython.core.display.Math object>"
      ]
     },
     "metadata": {},
     "output_type": "display_data"
    },
    {
     "data": {
      "text/latex": [
       "$\\displaystyle \\text{at}\\;x = 2.00:\\;f = 0,\\;f' = 0,\\;f'' = -0.500,\\;f''' = 0.375,\\;$"
      ],
      "text/plain": [
       "<IPython.core.display.Math object>"
      ]
     },
     "metadata": {},
     "output_type": "display_data"
    },
    {
     "name": "stdout",
     "output_type": "stream",
     "text": [
      "==============================================\n"
     ]
    },
    {
     "data": {
      "text/latex": [
       "$\\displaystyle f' = \\frac{2 \\left(2 - x\\right) \\left(x + 2\\right) + \\left(x - 2\\right)^{2}}{\\left(x + 2\\right)^{2}}$"
      ],
      "text/plain": [
       "<IPython.core.display.Math object>"
      ]
     },
     "metadata": {},
     "output_type": "display_data"
    },
    {
     "data": {
      "text/latex": [
       "$\\displaystyle f' = 0\\;\\text{for}\\; x \\in \\left\\{-6, 2\\right\\}$"
      ],
      "text/plain": [
       "<IPython.core.display.Math object>"
      ]
     },
     "metadata": {},
     "output_type": "display_data"
    },
    {
     "name": "stdout",
     "output_type": "stream",
     "text": [
      "---------------------------\n",
      "minimum\n"
     ]
    },
    {
     "data": {
      "text/latex": [
       "$\\displaystyle \\text{at}\\;x = -6:\\;f = 16,\\;f' = 0,\\;f'' = \\frac{1}{2},\\;f''' = \\frac{3}{8},\\;$"
      ],
      "text/plain": [
       "<IPython.core.display.Math object>"
      ]
     },
     "metadata": {},
     "output_type": "display_data"
    },
    {
     "data": {
      "text/latex": [
       "$\\displaystyle \\text{at}\\;x = -6.00:\\;f = 16.0,\\;f' = 0,\\;f'' = 0.500,\\;f''' = 0.375,\\;$"
      ],
      "text/plain": [
       "<IPython.core.display.Math object>"
      ]
     },
     "metadata": {},
     "output_type": "display_data"
    },
    {
     "name": "stdout",
     "output_type": "stream",
     "text": [
      "---------------------------\n",
      "maximum\n"
     ]
    },
    {
     "data": {
      "text/latex": [
       "$\\displaystyle \\text{at}\\;x = 2:\\;f = 0,\\;f' = 0,\\;f'' = - \\frac{1}{2},\\;f''' = \\frac{3}{8},\\;$"
      ],
      "text/plain": [
       "<IPython.core.display.Math object>"
      ]
     },
     "metadata": {},
     "output_type": "display_data"
    },
    {
     "data": {
      "text/latex": [
       "$\\displaystyle \\text{at}\\;x = 2.00:\\;f = 0,\\;f' = 0,\\;f'' = -0.500,\\;f''' = 0.375,\\;$"
      ],
      "text/plain": [
       "<IPython.core.display.Math object>"
      ]
     },
     "metadata": {},
     "output_type": "display_data"
    },
    {
     "name": "stdout",
     "output_type": "stream",
     "text": [
      "==============================================\n"
     ]
    },
    {
     "data": {
      "text/latex": [
       "$\\displaystyle f'' = - \\frac{32}{x^{3} + 6 x^{2} + 12 x + 8}$"
      ],
      "text/plain": [
       "<IPython.core.display.Math object>"
      ]
     },
     "metadata": {},
     "output_type": "display_data"
    },
    {
     "data": {
      "text/latex": [
       "$\\displaystyle f'' = 0\\;\\text{for}\\; x \\in \\emptyset$"
      ],
      "text/plain": [
       "<IPython.core.display.Math object>"
      ]
     },
     "metadata": {},
     "output_type": "display_data"
    },
    {
     "name": "stdout",
     "output_type": "stream",
     "text": [
      "==============================================\n"
     ]
    },
    {
     "data": {
      "text/latex": [
       "$\\displaystyle f''' = \\frac{96}{x^{4} + 8 x^{3} + 24 x^{2} + 32 x + 16}$"
      ],
      "text/plain": [
       "<IPython.core.display.Math object>"
      ]
     },
     "metadata": {},
     "output_type": "display_data"
    },
    {
     "data": {
      "text/latex": [
       "$\\displaystyle f''' = 0\\;\\text{for}\\; x \\in \\emptyset$"
      ],
      "text/plain": [
       "<IPython.core.display.Math object>"
      ]
     },
     "metadata": {},
     "output_type": "display_data"
    },
    {
     "name": "stdout",
     "output_type": "stream",
     "text": [
      "==============================================\n"
     ]
    },
    {
     "data": {
      "image/png": "[encoded data removed]",
      "text/plain": [
       "<Figure size 432x576 with 1 Axes>"
      ]
     },
     "metadata": {
      "needs_background": "light"
     },
     "output_type": "display_data"
    }
   ],
   "source": [
    "CurveSketching(\"-(x-2)**2\", \"x+2\", xranges=[(-15, -3), (-1, 10)])"
   ]
  },
  {
   "cell_type": "code",
   "execution_count": 7,
   "metadata": {},
   "outputs": [
    {
     "data": {
      "text/latex": [
       "$\\displaystyle f(x) = x^{4} - 2 x^{2}$"
      ],
      "text/plain": [
       "<IPython.core.display.Math object>"
      ]
     },
     "metadata": {},
     "output_type": "display_data"
    },
    {
     "name": "stdout",
     "output_type": "stream",
     "text": [
      "==============================================\n"
     ]
    },
    {
     "data": {
      "text/latex": [
       "$\\displaystyle f(0) = 0$"
      ],
      "text/plain": [
       "<IPython.core.display.Math object>"
      ]
     },
     "metadata": {},
     "output_type": "display_data"
    },
    {
     "name": "stdout",
     "output_type": "stream",
     "text": [
      "---------------------------\n"
     ]
    },
    {
     "data": {
      "text/latex": [
       "$\\displaystyle \\text{at}\\;x = 0:\\;f = 0,\\;f' = 0,\\;f'' = -4,\\;f''' = 0,\\;$"
      ],
      "text/plain": [
       "<IPython.core.display.Math object>"
      ]
     },
     "metadata": {},
     "output_type": "display_data"
    },
    {
     "name": "stdout",
     "output_type": "stream",
     "text": [
      "==============================================\n"
     ]
    },
    {
     "data": {
      "text/latex": [
       "$\\displaystyle f = x^{2} \\left(x^{2} - 2\\right)$"
      ],
      "text/plain": [
       "<IPython.core.display.Math object>"
      ]
     },
     "metadata": {},
     "output_type": "display_data"
    },
    {
     "data": {
      "text/latex": [
       "$\\displaystyle f = 0\\;\\text{for}\\; x \\in \\left\\{0, - \\sqrt{2}, \\sqrt{2}\\right\\}$"
      ],
      "text/plain": [
       "<IPython.core.display.Math object>"
      ]
     },
     "metadata": {},
     "output_type": "display_data"
    },
    {
     "name": "stdout",
     "output_type": "stream",
     "text": [
      "---------------------------\n"
     ]
    },
    {
     "data": {
      "text/latex": [
       "$\\displaystyle \\text{at}\\;x = 0:\\;f = 0,\\;f' = 0,\\;f'' = -4,\\;f''' = 0,\\;$"
      ],
      "text/plain": [
       "<IPython.core.display.Math object>"
      ]
     },
     "metadata": {},
     "output_type": "display_data"
    },
    {
     "data": {
      "text/latex": [
       "$\\displaystyle \\text{at}\\;x = 0:\\;f = 0,\\;f' = 0,\\;f'' = -4.00,\\;f''' = 0,\\;$"
      ],
      "text/plain": [
       "<IPython.core.display.Math object>"
      ]
     },
     "metadata": {},
     "output_type": "display_data"
    },
    {
     "name": "stdout",
     "output_type": "stream",
     "text": [
      "---------------------------\n"
     ]
    },
    {
     "data": {
      "text/latex": [
       "$\\displaystyle \\text{at}\\;x = \\sqrt{2}:\\;f = 0,\\;f' = 4 \\sqrt{2},\\;f'' = 20,\\;f''' = 24 \\sqrt{2},\\;$"
      ],
      "text/plain": [
       "<IPython.core.display.Math object>"
      ]
     },
     "metadata": {},
     "output_type": "display_data"
    },
    {
     "data": {
      "text/latex": [
       "$\\displaystyle \\text{at}\\;x = 1.41:\\;f = 0,\\;f' = 5.66,\\;f'' = 20.0,\\;f''' = 33.9,\\;$"
      ],
      "text/plain": [
       "<IPython.core.display.Math object>"
      ]
     },
     "metadata": {},
     "output_type": "display_data"
    },
    {
     "name": "stdout",
     "output_type": "stream",
     "text": [
      "---------------------------\n"
     ]
    },
    {
     "data": {
      "text/latex": [
       "$\\displaystyle \\text{at}\\;x = - \\sqrt{2}:\\;f = 0,\\;f' = - 4 \\sqrt{2},\\;f'' = 20,\\;f''' = - 24 \\sqrt{2},\\;$"
      ],
      "text/plain": [
       "<IPython.core.display.Math object>"
      ]
     },
     "metadata": {},
     "output_type": "display_data"
    },
    {
     "data": {
      "text/latex": [
       "$\\displaystyle \\text{at}\\;x = -1.41:\\;f = 0,\\;f' = -5.66,\\;f'' = 20.0,\\;f''' = -33.9,\\;$"
      ],
      "text/plain": [
       "<IPython.core.display.Math object>"
      ]
     },
     "metadata": {},
     "output_type": "display_data"
    },
    {
     "name": "stdout",
     "output_type": "stream",
     "text": [
      "==============================================\n"
     ]
    },
    {
     "data": {
      "text/latex": [
       "$\\displaystyle f' = 4 x \\left(x^{2} - 1\\right)$"
      ],
      "text/plain": [
       "<IPython.core.display.Math object>"
      ]
     },
     "metadata": {},
     "output_type": "display_data"
    },
    {
     "data": {
      "text/latex": [
       "$\\displaystyle f' = 0\\;\\text{for}\\; x \\in \\left\\{-1, 0, 1\\right\\}$"
      ],
      "text/plain": [
       "<IPython.core.display.Math object>"
      ]
     },
     "metadata": {},
     "output_type": "display_data"
    },
    {
     "name": "stdout",
     "output_type": "stream",
     "text": [
      "---------------------------\n",
      "minimum\n"
     ]
    },
    {
     "data": {
      "text/latex": [
       "$\\displaystyle \\text{at}\\;x = -1:\\;f = -1,\\;f' = 0,\\;f'' = 8,\\;f''' = -24,\\;$"
      ],
      "text/plain": [
       "<IPython.core.display.Math object>"
      ]
     },
     "metadata": {},
     "output_type": "display_data"
    },
    {
     "data": {
      "text/latex": [
       "$\\displaystyle \\text{at}\\;x = -1.00:\\;f = -1.00,\\;f' = 0,\\;f'' = 8.00,\\;f''' = -24.0,\\;$"
      ],
      "text/plain": [
       "<IPython.core.display.Math object>"
      ]
     },
     "metadata": {},
     "output_type": "display_data"
    },
    {
     "name": "stdout",
     "output_type": "stream",
     "text": [
      "---------------------------\n",
      "maximum\n"
     ]
    },
    {
     "data": {
      "text/latex": [
       "$\\displaystyle \\text{at}\\;x = 0:\\;f = 0,\\;f' = 0,\\;f'' = -4,\\;f''' = 0,\\;$"
      ],
      "text/plain": [
       "<IPython.core.display.Math object>"
      ]
     },
     "metadata": {},
     "output_type": "display_data"
    },
    {
     "data": {
      "text/latex": [
       "$\\displaystyle \\text{at}\\;x = 0:\\;f = 0,\\;f' = 0,\\;f'' = -4.00,\\;f''' = 0,\\;$"
      ],
      "text/plain": [
       "<IPython.core.display.Math object>"
      ]
     },
     "metadata": {},
     "output_type": "display_data"
    },
    {
     "name": "stdout",
     "output_type": "stream",
     "text": [
      "---------------------------\n",
      "minimum\n"
     ]
    },
    {
     "data": {
      "text/latex": [
       "$\\displaystyle \\text{at}\\;x = 1:\\;f = -1,\\;f' = 0,\\;f'' = 8,\\;f''' = 24,\\;$"
      ],
      "text/plain": [
       "<IPython.core.display.Math object>"
      ]
     },
     "metadata": {},
     "output_type": "display_data"
    },
    {
     "data": {
      "text/latex": [
       "$\\displaystyle \\text{at}\\;x = 1.00:\\;f = -1.00,\\;f' = 0,\\;f'' = 8.00,\\;f''' = 24.0,\\;$"
      ],
      "text/plain": [
       "<IPython.core.display.Math object>"
      ]
     },
     "metadata": {},
     "output_type": "display_data"
    },
    {
     "name": "stdout",
     "output_type": "stream",
     "text": [
      "==============================================\n"
     ]
    },
    {
     "data": {
      "text/latex": [
       "$\\displaystyle f'' = 12 x^{2} - 4$"
      ],
      "text/plain": [
       "<IPython.core.display.Math object>"
      ]
     },
     "metadata": {},
     "output_type": "display_data"
    },
    {
     "data": {
      "text/latex": [
       "$\\displaystyle f'' = 0\\;\\text{for}\\; x \\in \\left\\{- \\frac{\\sqrt{3}}{3}, \\frac{\\sqrt{3}}{3}\\right\\}$"
      ],
      "text/plain": [
       "<IPython.core.display.Math object>"
      ]
     },
     "metadata": {},
     "output_type": "display_data"
    },
    {
     "name": "stdout",
     "output_type": "stream",
     "text": [
      "---------------------------\n",
      "point of inflection\n"
     ]
    },
    {
     "data": {
      "text/latex": [
       "$\\displaystyle \\text{at}\\;x = - \\frac{\\sqrt{3}}{3}:\\;f = - \\frac{5}{9},\\;f' = \\frac{8 \\sqrt{3}}{9},\\;f'' = 0,\\;f''' = - 8 \\sqrt{3},\\;$"
      ],
      "text/plain": [
       "<IPython.core.display.Math object>"
      ]
     },
     "metadata": {},
     "output_type": "display_data"
    },
    {
     "data": {
      "text/latex": [
       "$\\displaystyle \\text{at}\\;x = -0.577:\\;f = -0.556,\\;f' = 1.54,\\;f'' = 0,\\;f''' = -13.9,\\;$"
      ],
      "text/plain": [
       "<IPython.core.display.Math object>"
      ]
     },
     "metadata": {},
     "output_type": "display_data"
    },
    {
     "name": "stdout",
     "output_type": "stream",
     "text": [
      "---------------------------\n",
      "point of inflection\n"
     ]
    },
    {
     "data": {
      "text/latex": [
       "$\\displaystyle \\text{at}\\;x = \\frac{\\sqrt{3}}{3}:\\;f = - \\frac{5}{9},\\;f' = - \\frac{8 \\sqrt{3}}{9},\\;f'' = 0,\\;f''' = 8 \\sqrt{3},\\;$"
      ],
      "text/plain": [
       "<IPython.core.display.Math object>"
      ]
     },
     "metadata": {},
     "output_type": "display_data"
    },
    {
     "data": {
      "text/latex": [
       "$\\displaystyle \\text{at}\\;x = 0.577:\\;f = -0.556,\\;f' = -1.54,\\;f'' = 0,\\;f''' = 13.9,\\;$"
      ],
      "text/plain": [
       "<IPython.core.display.Math object>"
      ]
     },
     "metadata": {},
     "output_type": "display_data"
    },
    {
     "name": "stdout",
     "output_type": "stream",
     "text": [
      "==============================================\n"
     ]
    },
    {
     "data": {
      "text/latex": [
       "$\\displaystyle f''' = 24 x$"
      ],
      "text/plain": [
       "<IPython.core.display.Math object>"
      ]
     },
     "metadata": {},
     "output_type": "display_data"
    },
    {
     "data": {
      "text/latex": [
       "$\\displaystyle f''' = 0\\;\\text{for}\\; x \\in \\left\\{0\\right\\}$"
      ],
      "text/plain": [
       "<IPython.core.display.Math object>"
      ]
     },
     "metadata": {},
     "output_type": "display_data"
    },
    {
     "name": "stdout",
     "output_type": "stream",
     "text": [
      "---------------------------\n"
     ]
    },
    {
     "data": {
      "text/latex": [
       "$\\displaystyle \\text{at}\\;x = 0:\\;f = 0,\\;f' = 0,\\;f'' = -4,\\;f''' = 0,\\;$"
      ],
      "text/plain": [
       "<IPython.core.display.Math object>"
      ]
     },
     "metadata": {},
     "output_type": "display_data"
    },
    {
     "data": {
      "text/latex": [
       "$\\displaystyle \\text{at}\\;x = 0:\\;f = 0,\\;f' = 0,\\;f'' = -4.00,\\;f''' = 0,\\;$"
      ],
      "text/plain": [
       "<IPython.core.display.Math object>"
      ]
     },
     "metadata": {},
     "output_type": "display_data"
    },
    {
     "name": "stdout",
     "output_type": "stream",
     "text": [
      "==============================================\n"
     ]
    },
    {
     "data": {
      "image/png": "[encoded data removed]",
      "text/plain": [
       "<Figure size 432x576 with 1 Axes>"
      ]
     },
     "metadata": {
      "needs_background": "light"
     },
     "output_type": "display_data"
    }
   ],
   "source": [
    "CurveSketching(\"x**4 - 2*x**2\",xranges=[(-1.6, 1.6)])"
   ]
  },
  {
   "cell_type": "code",
   "execution_count": 8,
   "metadata": {},
   "outputs": [
    {
     "data": {
      "text/latex": [
       "$\\displaystyle f(x) = \\frac{\\left(x - 3\\right)^{2}}{x - 1} = x - 5 + \\frac{4}{x - 1}$"
      ],
      "text/plain": [
       "<IPython.core.display.Math object>"
      ]
     },
     "metadata": {},
     "output_type": "display_data"
    },
    {
     "data": {
      "text/latex": [
       "$\\displaystyle  \\text{potential poles for}\\; x \\in \\left\\{1\\right\\}$"
      ],
      "text/plain": [
       "<IPython.core.display.Math object>"
      ]
     },
     "metadata": {},
     "output_type": "display_data"
    },
    {
     "data": {
      "text/latex": [
       "$\\displaystyle \\text{asymptote:}\\; a(x) = x - 5\\;\\;\\text{(meaningful only for rational functions)}$"
      ],
      "text/plain": [
       "<IPython.core.display.Math object>"
      ]
     },
     "metadata": {},
     "output_type": "display_data"
    },
    {
     "name": "stdout",
     "output_type": "stream",
     "text": [
      "==============================================\n"
     ]
    },
    {
     "data": {
      "text/latex": [
       "$\\displaystyle f(0) = -9$"
      ],
      "text/plain": [
       "<IPython.core.display.Math object>"
      ]
     },
     "metadata": {},
     "output_type": "display_data"
    },
    {
     "name": "stdout",
     "output_type": "stream",
     "text": [
      "---------------------------\n"
     ]
    },
    {
     "data": {
      "text/latex": [
       "$\\displaystyle \\text{at}\\;x = 0:\\;f = -9,\\;f' = -3,\\;f'' = -8,\\;f''' = -24,\\;$"
      ],
      "text/plain": [
       "<IPython.core.display.Math object>"
      ]
     },
     "metadata": {},
     "output_type": "display_data"
    },
    {
     "name": "stdout",
     "output_type": "stream",
     "text": [
      "==============================================\n"
     ]
    },
    {
     "data": {
      "text/latex": [
       "$\\displaystyle f = \\frac{\\left(x - 3\\right)^{2}}{x - 1}$"
      ],
      "text/plain": [
       "<IPython.core.display.Math object>"
      ]
     },
     "metadata": {},
     "output_type": "display_data"
    },
    {
     "data": {
      "text/latex": [
       "$\\displaystyle f = 0\\;\\text{for}\\; x \\in \\left\\{3\\right\\}$"
      ],
      "text/plain": [
       "<IPython.core.display.Math object>"
      ]
     },
     "metadata": {},
     "output_type": "display_data"
    },
    {
     "name": "stdout",
     "output_type": "stream",
     "text": [
      "---------------------------\n"
     ]
    },
    {
     "data": {
      "text/latex": [
       "$\\displaystyle \\text{at}\\;x = 3:\\;f = 0,\\;f' = 0,\\;f'' = 1,\\;f''' = - \\frac{3}{2},\\;$"
      ],
      "text/plain": [
       "<IPython.core.display.Math object>"
      ]
     },
     "metadata": {},
     "output_type": "display_data"
    },
    {
     "data": {
      "text/latex": [
       "$\\displaystyle \\text{at}\\;x = 3.00:\\;f = 0,\\;f' = 0,\\;f'' = 1.00,\\;f''' = -1.50,\\;$"
      ],
      "text/plain": [
       "<IPython.core.display.Math object>"
      ]
     },
     "metadata": {},
     "output_type": "display_data"
    },
    {
     "name": "stdout",
     "output_type": "stream",
     "text": [
      "==============================================\n"
     ]
    },
    {
     "data": {
      "text/latex": [
       "$\\displaystyle f' = \\frac{x^{2} - 2 x - 3}{x^{2} - 2 x + 1}$"
      ],
      "text/plain": [
       "<IPython.core.display.Math object>"
      ]
     },
     "metadata": {},
     "output_type": "display_data"
    },
    {
     "data": {
      "text/latex": [
       "$\\displaystyle f' = 0\\;\\text{for}\\; x \\in \\left\\{-1, 3\\right\\}$"
      ],
      "text/plain": [
       "<IPython.core.display.Math object>"
      ]
     },
     "metadata": {},
     "output_type": "display_data"
    },
    {
     "name": "stdout",
     "output_type": "stream",
     "text": [
      "---------------------------\n",
      "maximum\n"
     ]
    },
    {
     "data": {
      "text/latex": [
       "$\\displaystyle \\text{at}\\;x = -1:\\;f = -8,\\;f' = 0,\\;f'' = -1,\\;f''' = - \\frac{3}{2},\\;$"
      ],
      "text/plain": [
       "<IPython.core.display.Math object>"
      ]
     },
     "metadata": {},
     "output_type": "display_data"
    },
    {
     "data": {
      "text/latex": [
       "$\\displaystyle \\text{at}\\;x = -1.00:\\;f = -8.00,\\;f' = 0,\\;f'' = -1.00,\\;f''' = -1.50,\\;$"
      ],
      "text/plain": [
       "<IPython.core.display.Math object>"
      ]
     },
     "metadata": {},
     "output_type": "display_data"
    },
    {
     "name": "stdout",
     "output_type": "stream",
     "text": [
      "---------------------------\n",
      "minimum\n"
     ]
    },
    {
     "data": {
      "text/latex": [
       "$\\displaystyle \\text{at}\\;x = 3:\\;f = 0,\\;f' = 0,\\;f'' = 1,\\;f''' = - \\frac{3}{2},\\;$"
      ],
      "text/plain": [
       "<IPython.core.display.Math object>"
      ]
     },
     "metadata": {},
     "output_type": "display_data"
    },
    {
     "data": {
      "text/latex": [
       "$\\displaystyle \\text{at}\\;x = 3.00:\\;f = 0,\\;f' = 0,\\;f'' = 1.00,\\;f''' = -1.50,\\;$"
      ],
      "text/plain": [
       "<IPython.core.display.Math object>"
      ]
     },
     "metadata": {},
     "output_type": "display_data"
    },
    {
     "name": "stdout",
     "output_type": "stream",
     "text": [
      "==============================================\n"
     ]
    },
    {
     "data": {
      "text/latex": [
       "$\\displaystyle f'' = \\frac{8 \\left(x - 1\\right)}{\\left(x^{2} - 2 x + 1\\right)^{2}}$"
      ],
      "text/plain": [
       "<IPython.core.display.Math object>"
      ]
     },
     "metadata": {},
     "output_type": "display_data"
    },
    {
     "data": {
      "text/latex": [
       "$\\displaystyle f'' = 0\\;\\text{for}\\; x \\in \\emptyset$"
      ],
      "text/plain": [
       "<IPython.core.display.Math object>"
      ]
     },
     "metadata": {},
     "output_type": "display_data"
    },
    {
     "name": "stdout",
     "output_type": "stream",
     "text": [
      "==============================================\n"
     ]
    },
    {
     "data": {
      "text/latex": [
       "$\\displaystyle f''' = - \\frac{24}{x^{4} - 4 x^{3} + 6 x^{2} - 4 x + 1}$"
      ],
      "text/plain": [
       "<IPython.core.display.Math object>"
      ]
     },
     "metadata": {},
     "output_type": "display_data"
    },
    {
     "data": {
      "text/latex": [
       "$\\displaystyle f''' = 0\\;\\text{for}\\; x \\in \\emptyset$"
      ],
      "text/plain": [
       "<IPython.core.display.Math object>"
      ]
     },
     "metadata": {},
     "output_type": "display_data"
    },
    {
     "name": "stdout",
     "output_type": "stream",
     "text": [
      "==============================================\n"
     ]
    },
    {
     "data": {
      "image/png": "[encoded data removed]",
      "text/plain": [
       "<Figure size 432x576 with 1 Axes>"
      ]
     },
     "metadata": {
      "needs_background": "light"
     },
     "output_type": "display_data"
    }
   ],
   "source": [
    "CurveSketching(\" (x-3)**2\", \"x-1\",xranges=[(-5, 0.7),(1.3, 8)])"
   ]
  },
  {
   "cell_type": "code",
   "execution_count": 9,
   "metadata": {},
   "outputs": [
    {
     "data": {
      "text/latex": [
       "$\\displaystyle f(x) = x^{4} - x^{3} - 3 x^{2} + 5 x - 2$"
      ],
      "text/plain": [
       "<IPython.core.display.Math object>"
      ]
     },
     "metadata": {},
     "output_type": "display_data"
    },
    {
     "name": "stdout",
     "output_type": "stream",
     "text": [
      "==============================================\n"
     ]
    },
    {
     "data": {
      "text/latex": [
       "$\\displaystyle f(0) = -2$"
      ],
      "text/plain": [
       "<IPython.core.display.Math object>"
      ]
     },
     "metadata": {},
     "output_type": "display_data"
    },
    {
     "name": "stdout",
     "output_type": "stream",
     "text": [
      "---------------------------\n"
     ]
    },
    {
     "data": {
      "text/latex": [
       "$\\displaystyle \\text{at}\\;x = 0:\\;f = -2,\\;f' = 5,\\;f'' = -6,\\;f''' = -6,\\;$"
      ],
      "text/plain": [
       "<IPython.core.display.Math object>"
      ]
     },
     "metadata": {},
     "output_type": "display_data"
    },
    {
     "name": "stdout",
     "output_type": "stream",
     "text": [
      "==============================================\n"
     ]
    },
    {
     "data": {
      "text/latex": [
       "$\\displaystyle f = x^{4} - x^{3} - 3 x^{2} + 5 x - 2$"
      ],
      "text/plain": [
       "<IPython.core.display.Math object>"
      ]
     },
     "metadata": {},
     "output_type": "display_data"
    },
    {
     "data": {
      "text/latex": [
       "$\\displaystyle f = 0\\;\\text{for}\\; x \\in \\left\\{-2, 1\\right\\}$"
      ],
      "text/plain": [
       "<IPython.core.display.Math object>"
      ]
     },
     "metadata": {},
     "output_type": "display_data"
    },
    {
     "name": "stdout",
     "output_type": "stream",
     "text": [
      "---------------------------\n"
     ]
    },
    {
     "data": {
      "text/latex": [
       "$\\displaystyle \\text{at}\\;x = -2:\\;f = 0,\\;f' = -27,\\;f'' = 54,\\;f''' = -54,\\;$"
      ],
      "text/plain": [
       "<IPython.core.display.Math object>"
      ]
     },
     "metadata": {},
     "output_type": "display_data"
    },
    {
     "data": {
      "text/latex": [
       "$\\displaystyle \\text{at}\\;x = -2.00:\\;f = 0,\\;f' = -27.0,\\;f'' = 54.0,\\;f''' = -54.0,\\;$"
      ],
      "text/plain": [
       "<IPython.core.display.Math object>"
      ]
     },
     "metadata": {},
     "output_type": "display_data"
    },
    {
     "name": "stdout",
     "output_type": "stream",
     "text": [
      "---------------------------\n"
     ]
    },
    {
     "data": {
      "text/latex": [
       "$\\displaystyle \\text{at}\\;x = 1:\\;f = 0,\\;f' = 0,\\;f'' = 0,\\;f''' = 18,\\;$"
      ],
      "text/plain": [
       "<IPython.core.display.Math object>"
      ]
     },
     "metadata": {},
     "output_type": "display_data"
    },
    {
     "data": {
      "text/latex": [
       "$\\displaystyle \\text{at}\\;x = 1.00:\\;f = 0,\\;f' = 0,\\;f'' = 0,\\;f''' = 18.0,\\;$"
      ],
      "text/plain": [
       "<IPython.core.display.Math object>"
      ]
     },
     "metadata": {},
     "output_type": "display_data"
    },
    {
     "name": "stdout",
     "output_type": "stream",
     "text": [
      "==============================================\n"
     ]
    },
    {
     "data": {
      "text/latex": [
       "$\\displaystyle f' = 4 x^{3} - 3 x^{2} - 6 x + 5$"
      ],
      "text/plain": [
       "<IPython.core.display.Math object>"
      ]
     },
     "metadata": {},
     "output_type": "display_data"
    },
    {
     "data": {
      "text/latex": [
       "$\\displaystyle f' = 0\\;\\text{for}\\; x \\in \\left\\{- \\frac{5}{4}, 1\\right\\}$"
      ],
      "text/plain": [
       "<IPython.core.display.Math object>"
      ]
     },
     "metadata": {},
     "output_type": "display_data"
    },
    {
     "name": "stdout",
     "output_type": "stream",
     "text": [
      "---------------------------\n",
      "minimum\n"
     ]
    },
    {
     "data": {
      "text/latex": [
       "$\\displaystyle \\text{at}\\;x = - \\frac{5}{4}:\\;f = - \\frac{2187}{256},\\;f' = 0,\\;f'' = \\frac{81}{4},\\;f''' = -36,\\;$"
      ],
      "text/plain": [
       "<IPython.core.display.Math object>"
      ]
     },
     "metadata": {},
     "output_type": "display_data"
    },
    {
     "data": {
      "text/latex": [
       "$\\displaystyle \\text{at}\\;x = -1.25:\\;f = -8.54,\\;f' = 0,\\;f'' = 20.3,\\;f''' = -36.0,\\;$"
      ],
      "text/plain": [
       "<IPython.core.display.Math object>"
      ]
     },
     "metadata": {},
     "output_type": "display_data"
    },
    {
     "name": "stdout",
     "output_type": "stream",
     "text": [
      "---------------------------\n",
      "saddle point\n"
     ]
    },
    {
     "data": {
      "text/latex": [
       "$\\displaystyle \\text{at}\\;x = 1:\\;f = 0,\\;f' = 0,\\;f'' = 0,\\;f''' = 18,\\;$"
      ],
      "text/plain": [
       "<IPython.core.display.Math object>"
      ]
     },
     "metadata": {},
     "output_type": "display_data"
    },
    {
     "data": {
      "text/latex": [
       "$\\displaystyle \\text{at}\\;x = 1.00:\\;f = 0,\\;f' = 0,\\;f'' = 0,\\;f''' = 18.0,\\;$"
      ],
      "text/plain": [
       "<IPython.core.display.Math object>"
      ]
     },
     "metadata": {},
     "output_type": "display_data"
    },
    {
     "name": "stdout",
     "output_type": "stream",
     "text": [
      "==============================================\n"
     ]
    },
    {
     "data": {
      "text/latex": [
       "$\\displaystyle f'' = 12 x^{2} - 6 x - 6$"
      ],
      "text/plain": [
       "<IPython.core.display.Math object>"
      ]
     },
     "metadata": {},
     "output_type": "display_data"
    },
    {
     "data": {
      "text/latex": [
       "$\\displaystyle f'' = 0\\;\\text{for}\\; x \\in \\left\\{- \\frac{1}{2}, 1\\right\\}$"
      ],
      "text/plain": [
       "<IPython.core.display.Math object>"
      ]
     },
     "metadata": {},
     "output_type": "display_data"
    },
    {
     "name": "stdout",
     "output_type": "stream",
     "text": [
      "---------------------------\n",
      "point of inflection\n"
     ]
    },
    {
     "data": {
      "text/latex": [
       "$\\displaystyle \\text{at}\\;x = - \\frac{1}{2}:\\;f = - \\frac{81}{16},\\;f' = \\frac{27}{4},\\;f'' = 0,\\;f''' = -18,\\;$"
      ],
      "text/plain": [
       "<IPython.core.display.Math object>"
      ]
     },
     "metadata": {},
     "output_type": "display_data"
    },
    {
     "data": {
      "text/latex": [
       "$\\displaystyle \\text{at}\\;x = -0.500:\\;f = -5.06,\\;f' = 6.75,\\;f'' = 0,\\;f''' = -18.0,\\;$"
      ],
      "text/plain": [
       "<IPython.core.display.Math object>"
      ]
     },
     "metadata": {},
     "output_type": "display_data"
    },
    {
     "name": "stdout",
     "output_type": "stream",
     "text": [
      "---------------------------\n",
      "saddle point\n"
     ]
    },
    {
     "data": {
      "text/latex": [
       "$\\displaystyle \\text{at}\\;x = 1:\\;f = 0,\\;f' = 0,\\;f'' = 0,\\;f''' = 18,\\;$"
      ],
      "text/plain": [
       "<IPython.core.display.Math object>"
      ]
     },
     "metadata": {},
     "output_type": "display_data"
    },
    {
     "data": {
      "text/latex": [
       "$\\displaystyle \\text{at}\\;x = 1.00:\\;f = 0,\\;f' = 0,\\;f'' = 0,\\;f''' = 18.0,\\;$"
      ],
      "text/plain": [
       "<IPython.core.display.Math object>"
      ]
     },
     "metadata": {},
     "output_type": "display_data"
    },
    {
     "name": "stdout",
     "output_type": "stream",
     "text": [
      "==============================================\n"
     ]
    },
    {
     "data": {
      "text/latex": [
       "$\\displaystyle f''' = 24 x - 6$"
      ],
      "text/plain": [
       "<IPython.core.display.Math object>"
      ]
     },
     "metadata": {},
     "output_type": "display_data"
    },
    {
     "data": {
      "text/latex": [
       "$\\displaystyle f''' = 0\\;\\text{for}\\; x \\in \\left\\{\\frac{1}{4}\\right\\}$"
      ],
      "text/plain": [
       "<IPython.core.display.Math object>"
      ]
     },
     "metadata": {},
     "output_type": "display_data"
    },
    {
     "name": "stdout",
     "output_type": "stream",
     "text": [
      "---------------------------\n"
     ]
    },
    {
     "data": {
      "text/latex": [
       "$\\displaystyle \\text{at}\\;x = \\frac{1}{4}:\\;f = - \\frac{243}{256},\\;f' = \\frac{27}{8},\\;f'' = - \\frac{27}{4},\\;f''' = 0,\\;$"
      ],
      "text/plain": [
       "<IPython.core.display.Math object>"
      ]
     },
     "metadata": {},
     "output_type": "display_data"
    },
    {
     "data": {
      "text/latex": [
       "$\\displaystyle \\text{at}\\;x = 0.250:\\;f = -0.949,\\;f' = 3.38,\\;f'' = -6.75,\\;f''' = 0,\\;$"
      ],
      "text/plain": [
       "<IPython.core.display.Math object>"
      ]
     },
     "metadata": {},
     "output_type": "display_data"
    },
    {
     "name": "stdout",
     "output_type": "stream",
     "text": [
      "==============================================\n"
     ]
    },
    {
     "data": {
      "image/png": "[encoded data removed]",
      "text/plain": [
       "<Figure size 432x576 with 1 Axes>"
      ]
     },
     "metadata": {
      "needs_background": "light"
     },
     "output_type": "display_data"
    }
   ],
   "source": [
    "CurveSketching(\"(x**4 -x**3 -3*x**2 + 5*x - 2)\", xranges=[(-2.2,2.1)])"
   ]
  },
  {
   "cell_type": "code",
   "execution_count": 10,
   "metadata": {},
   "outputs": [
    {
     "data": {
      "text/latex": [
       "$\\displaystyle f(x) = x^{3} - 3 x$"
      ],
      "text/plain": [
       "<IPython.core.display.Math object>"
      ]
     },
     "metadata": {},
     "output_type": "display_data"
    },
    {
     "name": "stdout",
     "output_type": "stream",
     "text": [
      "==============================================\n"
     ]
    },
    {
     "data": {
      "text/latex": [
       "$\\displaystyle f(0) = 0$"
      ],
      "text/plain": [
       "<IPython.core.display.Math object>"
      ]
     },
     "metadata": {},
     "output_type": "display_data"
    },
    {
     "name": "stdout",
     "output_type": "stream",
     "text": [
      "---------------------------\n"
     ]
    },
    {
     "data": {
      "text/latex": [
       "$\\displaystyle \\text{at}\\;x = 0:\\;f = 0,\\;f' = -3,\\;f'' = 0,\\;f''' = 6,\\;$"
      ],
      "text/plain": [
       "<IPython.core.display.Math object>"
      ]
     },
     "metadata": {},
     "output_type": "display_data"
    },
    {
     "name": "stdout",
     "output_type": "stream",
     "text": [
      "==============================================\n"
     ]
    },
    {
     "data": {
      "text/latex": [
       "$\\displaystyle f = x \\left(x^{2} - 3\\right)$"
      ],
      "text/plain": [
       "<IPython.core.display.Math object>"
      ]
     },
     "metadata": {},
     "output_type": "display_data"
    },
    {
     "data": {
      "text/latex": [
       "$\\displaystyle f = 0\\;\\text{for}\\; x \\in \\left\\{0, - \\sqrt{3}, \\sqrt{3}\\right\\}$"
      ],
      "text/plain": [
       "<IPython.core.display.Math object>"
      ]
     },
     "metadata": {},
     "output_type": "display_data"
    },
    {
     "name": "stdout",
     "output_type": "stream",
     "text": [
      "---------------------------\n"
     ]
    },
    {
     "data": {
      "text/latex": [
       "$\\displaystyle \\text{at}\\;x = 0:\\;f = 0,\\;f' = -3,\\;f'' = 0,\\;f''' = 6,\\;$"
      ],
      "text/plain": [
       "<IPython.core.display.Math object>"
      ]
     },
     "metadata": {},
     "output_type": "display_data"
    },
    {
     "data": {
      "text/latex": [
       "$\\displaystyle \\text{at}\\;x = 0:\\;f = 0,\\;f' = -3.00,\\;f'' = 0,\\;f''' = 6.00,\\;$"
      ],
      "text/plain": [
       "<IPython.core.display.Math object>"
      ]
     },
     "metadata": {},
     "output_type": "display_data"
    },
    {
     "name": "stdout",
     "output_type": "stream",
     "text": [
      "---------------------------\n"
     ]
    },
    {
     "data": {
      "text/latex": [
       "$\\displaystyle \\text{at}\\;x = \\sqrt{3}:\\;f = 0,\\;f' = 6,\\;f'' = 6 \\sqrt{3},\\;f''' = 6,\\;$"
      ],
      "text/plain": [
       "<IPython.core.display.Math object>"
      ]
     },
     "metadata": {},
     "output_type": "display_data"
    },
    {
     "data": {
      "text/latex": [
       "$\\displaystyle \\text{at}\\;x = 1.73:\\;f = 0,\\;f' = 6.00,\\;f'' = 10.4,\\;f''' = 6.00,\\;$"
      ],
      "text/plain": [
       "<IPython.core.display.Math object>"
      ]
     },
     "metadata": {},
     "output_type": "display_data"
    },
    {
     "name": "stdout",
     "output_type": "stream",
     "text": [
      "---------------------------\n"
     ]
    },
    {
     "data": {
      "text/latex": [
       "$\\displaystyle \\text{at}\\;x = - \\sqrt{3}:\\;f = 0,\\;f' = 6,\\;f'' = - 6 \\sqrt{3},\\;f''' = 6,\\;$"
      ],
      "text/plain": [
       "<IPython.core.display.Math object>"
      ]
     },
     "metadata": {},
     "output_type": "display_data"
    },
    {
     "data": {
      "text/latex": [
       "$\\displaystyle \\text{at}\\;x = -1.73:\\;f = 0,\\;f' = 6.00,\\;f'' = -10.4,\\;f''' = 6.00,\\;$"
      ],
      "text/plain": [
       "<IPython.core.display.Math object>"
      ]
     },
     "metadata": {},
     "output_type": "display_data"
    },
    {
     "name": "stdout",
     "output_type": "stream",
     "text": [
      "==============================================\n"
     ]
    },
    {
     "data": {
      "text/latex": [
       "$\\displaystyle f' = 3 x^{2} - 3$"
      ],
      "text/plain": [
       "<IPython.core.display.Math object>"
      ]
     },
     "metadata": {},
     "output_type": "display_data"
    },
    {
     "data": {
      "text/latex": [
       "$\\displaystyle f' = 0\\;\\text{for}\\; x \\in \\left\\{-1, 1\\right\\}$"
      ],
      "text/plain": [
       "<IPython.core.display.Math object>"
      ]
     },
     "metadata": {},
     "output_type": "display_data"
    },
    {
     "name": "stdout",
     "output_type": "stream",
     "text": [
      "---------------------------\n",
      "maximum\n"
     ]
    },
    {
     "data": {
      "text/latex": [
       "$\\displaystyle \\text{at}\\;x = -1:\\;f = 2,\\;f' = 0,\\;f'' = -6,\\;f''' = 6,\\;$"
      ],
      "text/plain": [
       "<IPython.core.display.Math object>"
      ]
     },
     "metadata": {},
     "output_type": "display_data"
    },
    {
     "data": {
      "text/latex": [
       "$\\displaystyle \\text{at}\\;x = -1.00:\\;f = 2.00,\\;f' = 0,\\;f'' = -6.00,\\;f''' = 6.00,\\;$"
      ],
      "text/plain": [
       "<IPython.core.display.Math object>"
      ]
     },
     "metadata": {},
     "output_type": "display_data"
    },
    {
     "name": "stdout",
     "output_type": "stream",
     "text": [
      "---------------------------\n",
      "minimum\n"
     ]
    },
    {
     "data": {
      "text/latex": [
       "$\\displaystyle \\text{at}\\;x = 1:\\;f = -2,\\;f' = 0,\\;f'' = 6,\\;f''' = 6,\\;$"
      ],
      "text/plain": [
       "<IPython.core.display.Math object>"
      ]
     },
     "metadata": {},
     "output_type": "display_data"
    },
    {
     "data": {
      "text/latex": [
       "$\\displaystyle \\text{at}\\;x = 1.00:\\;f = -2.00,\\;f' = 0,\\;f'' = 6.00,\\;f''' = 6.00,\\;$"
      ],
      "text/plain": [
       "<IPython.core.display.Math object>"
      ]
     },
     "metadata": {},
     "output_type": "display_data"
    },
    {
     "name": "stdout",
     "output_type": "stream",
     "text": [
      "==============================================\n"
     ]
    },
    {
     "data": {
      "text/latex": [
       "$\\displaystyle f'' = 6 x$"
      ],
      "text/plain": [
       "<IPython.core.display.Math object>"
      ]
     },
     "metadata": {},
     "output_type": "display_data"
    },
    {
     "data": {
      "text/latex": [
       "$\\displaystyle f'' = 0\\;\\text{for}\\; x \\in \\left\\{0\\right\\}$"
      ],
      "text/plain": [
       "<IPython.core.display.Math object>"
      ]
     },
     "metadata": {},
     "output_type": "display_data"
    },
    {
     "name": "stdout",
     "output_type": "stream",
     "text": [
      "---------------------------\n",
      "point of inflection\n"
     ]
    },
    {
     "data": {
      "text/latex": [
       "$\\displaystyle \\text{at}\\;x = 0:\\;f = 0,\\;f' = -3,\\;f'' = 0,\\;f''' = 6,\\;$"
      ],
      "text/plain": [
       "<IPython.core.display.Math object>"
      ]
     },
     "metadata": {},
     "output_type": "display_data"
    },
    {
     "data": {
      "text/latex": [
       "$\\displaystyle \\text{at}\\;x = 0:\\;f = 0,\\;f' = -3.00,\\;f'' = 0,\\;f''' = 6.00,\\;$"
      ],
      "text/plain": [
       "<IPython.core.display.Math object>"
      ]
     },
     "metadata": {},
     "output_type": "display_data"
    },
    {
     "name": "stdout",
     "output_type": "stream",
     "text": [
      "==============================================\n"
     ]
    },
    {
     "data": {
      "text/latex": [
       "$\\displaystyle f''' = 6$"
      ],
      "text/plain": [
       "<IPython.core.display.Math object>"
      ]
     },
     "metadata": {},
     "output_type": "display_data"
    },
    {
     "data": {
      "text/latex": [
       "$\\displaystyle f''' = 0\\;\\text{for}\\; x \\in \\emptyset$"
      ],
      "text/plain": [
       "<IPython.core.display.Math object>"
      ]
     },
     "metadata": {},
     "output_type": "display_data"
    },
    {
     "name": "stdout",
     "output_type": "stream",
     "text": [
      "==============================================\n"
     ]
    },
    {
     "data": {
      "image/png": "[encoded data removed]",
      "text/plain": [
       "<Figure size 432x576 with 1 Axes>"
      ]
     },
     "metadata": {
      "needs_background": "light"
     },
     "output_type": "display_data"
    }
   ],
   "source": [
    "CurveSketching(\"x**3 - 3*x\",xranges=[(-2.2, 2.2)])"
   ]
  },
  {
   "cell_type": "code",
   "execution_count": 11,
   "metadata": {},
   "outputs": [
    {
     "data": {
      "text/latex": [
       "$\\displaystyle f(x) = \\frac{3 x^{3} + 3 x - 6}{x} = 3 x^{2} + 3 - \\frac{6}{x}$"
      ],
      "text/plain": [
       "<IPython.core.display.Math object>"
      ]
     },
     "metadata": {},
     "output_type": "display_data"
    },
    {
     "data": {
      "text/latex": [
       "$\\displaystyle  \\text{potential poles for}\\; x \\in \\left\\{0\\right\\}$"
      ],
      "text/plain": [
       "<IPython.core.display.Math object>"
      ]
     },
     "metadata": {},
     "output_type": "display_data"
    },
    {
     "data": {
      "text/latex": [
       "$\\displaystyle \\text{asymptote:}\\; a(x) = 3 x^{2} + 3\\;\\;\\text{(meaningful only for rational functions)}$"
      ],
      "text/plain": [
       "<IPython.core.display.Math object>"
      ]
     },
     "metadata": {},
     "output_type": "display_data"
    },
    {
     "name": "stdout",
     "output_type": "stream",
     "text": [
      "==============================================\n"
     ]
    },
    {
     "data": {
      "text/latex": [
       "$\\displaystyle f(0) = \\tilde{\\infty}$"
      ],
      "text/plain": [
       "<IPython.core.display.Math object>"
      ]
     },
     "metadata": {},
     "output_type": "display_data"
    },
    {
     "name": "stdout",
     "output_type": "stream",
     "text": [
      "---------------------------\n"
     ]
    },
    {
     "data": {
      "text/latex": [
       "$\\displaystyle \\text{at}\\;x = 0:\\;f = \\tilde{\\infty},\\;f' = \\tilde{\\infty},\\;f'' = \\tilde{\\infty},\\;f''' = \\tilde{\\infty},\\;$"
      ],
      "text/plain": [
       "<IPython.core.display.Math object>"
      ]
     },
     "metadata": {},
     "output_type": "display_data"
    },
    {
     "name": "stdout",
     "output_type": "stream",
     "text": [
      "==============================================\n"
     ]
    },
    {
     "data": {
      "text/latex": [
       "$\\displaystyle f = 3 x^{2} + 3 - \\frac{6}{x}$"
      ],
      "text/plain": [
       "<IPython.core.display.Math object>"
      ]
     },
     "metadata": {},
     "output_type": "display_data"
    },
    {
     "data": {
      "text/latex": [
       "$\\displaystyle f = 0\\;\\text{for}\\; x \\in \\left\\{1\\right\\}$"
      ],
      "text/plain": [
       "<IPython.core.display.Math object>"
      ]
     },
     "metadata": {},
     "output_type": "display_data"
    },
    {
     "name": "stdout",
     "output_type": "stream",
     "text": [
      "---------------------------\n"
     ]
    },
    {
     "data": {
      "text/latex": [
       "$\\displaystyle \\text{at}\\;x = 1:\\;f = 0,\\;f' = 12,\\;f'' = -6,\\;f''' = 36,\\;$"
      ],
      "text/plain": [
       "<IPython.core.display.Math object>"
      ]
     },
     "metadata": {},
     "output_type": "display_data"
    },
    {
     "data": {
      "text/latex": [
       "$\\displaystyle \\text{at}\\;x = 1.00:\\;f = 0,\\;f' = 12.0,\\;f'' = -6.00,\\;f''' = 36.0,\\;$"
      ],
      "text/plain": [
       "<IPython.core.display.Math object>"
      ]
     },
     "metadata": {},
     "output_type": "display_data"
    },
    {
     "name": "stdout",
     "output_type": "stream",
     "text": [
      "==============================================\n"
     ]
    },
    {
     "data": {
      "text/latex": [
       "$\\displaystyle f' = 6 x + \\frac{6}{x^{2}}$"
      ],
      "text/plain": [
       "<IPython.core.display.Math object>"
      ]
     },
     "metadata": {},
     "output_type": "display_data"
    },
    {
     "data": {
      "text/latex": [
       "$\\displaystyle f' = 0\\;\\text{for}\\; x \\in \\left\\{-1\\right\\}$"
      ],
      "text/plain": [
       "<IPython.core.display.Math object>"
      ]
     },
     "metadata": {},
     "output_type": "display_data"
    },
    {
     "name": "stdout",
     "output_type": "stream",
     "text": [
      "---------------------------\n",
      "minimum\n"
     ]
    },
    {
     "data": {
      "text/latex": [
       "$\\displaystyle \\text{at}\\;x = -1:\\;f = 12,\\;f' = 0,\\;f'' = 18,\\;f''' = 36,\\;$"
      ],
      "text/plain": [
       "<IPython.core.display.Math object>"
      ]
     },
     "metadata": {},
     "output_type": "display_data"
    },
    {
     "data": {
      "text/latex": [
       "$\\displaystyle \\text{at}\\;x = -1.00:\\;f = 12.0,\\;f' = 0,\\;f'' = 18.0,\\;f''' = 36.0,\\;$"
      ],
      "text/plain": [
       "<IPython.core.display.Math object>"
      ]
     },
     "metadata": {},
     "output_type": "display_data"
    },
    {
     "name": "stdout",
     "output_type": "stream",
     "text": [
      "==============================================\n"
     ]
    },
    {
     "data": {
      "text/latex": [
       "$\\displaystyle f'' = 6 - \\frac{12}{x^{3}}$"
      ],
      "text/plain": [
       "<IPython.core.display.Math object>"
      ]
     },
     "metadata": {},
     "output_type": "display_data"
    },
    {
     "data": {
      "text/latex": [
       "$\\displaystyle f'' = 0\\;\\text{for}\\; x \\in \\left\\{\\sqrt[3]{2}\\right\\}$"
      ],
      "text/plain": [
       "<IPython.core.display.Math object>"
      ]
     },
     "metadata": {},
     "output_type": "display_data"
    },
    {
     "name": "stdout",
     "output_type": "stream",
     "text": [
      "---------------------------\n",
      "point of inflection\n"
     ]
    },
    {
     "data": {
      "text/latex": [
       "$\\displaystyle \\text{at}\\;x = \\sqrt[3]{2}:\\;f = 3,\\;f' = 9 \\sqrt[3]{2},\\;f'' = 0,\\;f''' = 9 \\cdot 2^{\\frac{2}{3}},\\;$"
      ],
      "text/plain": [
       "<IPython.core.display.Math object>"
      ]
     },
     "metadata": {},
     "output_type": "display_data"
    },
    {
     "data": {
      "text/latex": [
       "$\\displaystyle \\text{at}\\;x = 1.26:\\;f = 3.00,\\;f' = 11.3,\\;f'' = 0,\\;f''' = 14.3,\\;$"
      ],
      "text/plain": [
       "<IPython.core.display.Math object>"
      ]
     },
     "metadata": {},
     "output_type": "display_data"
    },
    {
     "name": "stdout",
     "output_type": "stream",
     "text": [
      "==============================================\n"
     ]
    },
    {
     "data": {
      "text/latex": [
       "$\\displaystyle f''' = \\frac{36}{x^{4}}$"
      ],
      "text/plain": [
       "<IPython.core.display.Math object>"
      ]
     },
     "metadata": {},
     "output_type": "display_data"
    },
    {
     "data": {
      "text/latex": [
       "$\\displaystyle f''' = 0\\;\\text{for}\\; x \\in \\emptyset$"
      ],
      "text/plain": [
       "<IPython.core.display.Math object>"
      ]
     },
     "metadata": {},
     "output_type": "display_data"
    },
    {
     "name": "stdout",
     "output_type": "stream",
     "text": [
      "==============================================\n"
     ]
    },
    {
     "data": {
      "image/png": "[encoded data removed]",
      "text/plain": [
       "<Figure size 432x576 with 1 Axes>"
      ]
     },
     "metadata": {
      "needs_background": "light"
     },
     "output_type": "display_data"
    }
   ],
   "source": [
    "CurveSketching(\"3*x**3 + 3*x -6\", \"x\", xranges=[(-4, -0.1), (0.1, 4)])"
   ]
  },
  {
   "cell_type": "code",
   "execution_count": 12,
   "metadata": {},
   "outputs": [
    {
     "data": {
      "image/png": "[encoded data removed]",
      "text/latex": [
       "$\\displaystyle \\left( x, \\  x + 7\\right)$"
      ],
      "text/plain": [
       "(x, x + 7)"
      ]
     },
     "execution_count": 12,
     "metadata": {},
     "output_type": "execute_result"
    }
   ],
   "source": [
    "div(sympify(\"x**3 + 3*x +7\"), sympify(\"x**2+2\"))"
   ]
  },
  {
   "cell_type": "code",
   "execution_count": 13,
   "metadata": {},
   "outputs": [
    {
     "data": {
      "text/latex": [
       "$\\displaystyle f(x) = \\frac{\\sin{\\left(x \\right)}}{x} = \\frac{\\sin{\\left(x \\right)}}{x}$"
      ],
      "text/plain": [
       "<IPython.core.display.Math object>"
      ]
     },
     "metadata": {},
     "output_type": "display_data"
    },
    {
     "data": {
      "text/latex": [
       "$\\displaystyle \\text{asymptote:}\\; a(x) = 0\\;\\;\\text{(meaningful only for rational functions)}$"
      ],
      "text/plain": [
       "<IPython.core.display.Math object>"
      ]
     },
     "metadata": {},
     "output_type": "display_data"
    },
    {
     "name": "stdout",
     "output_type": "stream",
     "text": [
      "==============================================\n"
     ]
    },
    {
     "data": {
      "text/latex": [
       "$\\displaystyle f(0) = \\text{NaN}$"
      ],
      "text/plain": [
       "<IPython.core.display.Math object>"
      ]
     },
     "metadata": {},
     "output_type": "display_data"
    },
    {
     "name": "stdout",
     "output_type": "stream",
     "text": [
      "---------------------------\n"
     ]
    },
    {
     "data": {
      "text/latex": [
       "$\\displaystyle \\text{at}\\;x = 0:\\;f = \\text{NaN},\\;f' = \\text{NaN},\\;f'' = \\text{NaN},\\;f''' = \\text{NaN},\\;$"
      ],
      "text/plain": [
       "<IPython.core.display.Math object>"
      ]
     },
     "metadata": {},
     "output_type": "display_data"
    },
    {
     "name": "stdout",
     "output_type": "stream",
     "text": [
      "==============================================\n"
     ]
    },
    {
     "data": {
      "text/latex": [
       "$\\displaystyle f = \\frac{\\sin{\\left(x \\right)}}{x}$"
      ],
      "text/plain": [
       "<IPython.core.display.Math object>"
      ]
     },
     "metadata": {},
     "output_type": "display_data"
    },
    {
     "data": {
      "text/latex": [
       "$\\displaystyle f = 0\\;\\text{for}\\; x \\in \\left(\\left\\{2 n \\pi\\; |\\; n \\in \\mathbb{Z}\\right\\} \\setminus \\left\\{0\\right\\}\\right) \\cup \\left(\\left\\{2 n \\pi + \\pi\\; |\\; n \\in \\mathbb{Z}\\right\\} \\setminus \\left\\{0\\right\\}\\right)$"
      ],
      "text/plain": [
       "<IPython.core.display.Math object>"
      ]
     },
     "metadata": {},
     "output_type": "display_data"
    },
    {
     "name": "stdout",
     "output_type": "stream",
     "text": [
      "---------------------------\n"
     ]
    },
    {
     "data": {
      "text/latex": [
       "$\\displaystyle \\text{at}\\;x = 2 \\pi:\\;f = 0,\\;f' = \\frac{1}{2 \\pi},\\;f'' = - \\frac{1}{2 \\pi^{2}},\\;f''' = \\frac{3 - 2 \\pi^{2}}{4 \\pi^{3}},\\;$"
      ],
      "text/plain": [
       "<IPython.core.display.Math object>"
      ]
     },
     "metadata": {},
     "output_type": "display_data"
    },
    {
     "data": {
      "text/latex": [
       "$\\displaystyle \\text{at}\\;x = 6.28:\\;f = 0,\\;f' = 0.159,\\;f'' = -0.0507,\\;f''' = -0.135,\\;$"
      ],
      "text/plain": [
       "<IPython.core.display.Math object>"
      ]
     },
     "metadata": {},
     "output_type": "display_data"
    },
    {
     "name": "stdout",
     "output_type": "stream",
     "text": [
      "---------------------------\n"
     ]
    },
    {
     "data": {
      "text/latex": [
       "$\\displaystyle \\text{at}\\;x = \\pi:\\;f = 0,\\;f' = - \\frac{1}{\\pi},\\;f'' = \\frac{2}{\\pi^{2}},\\;f''' = \\frac{-6 + \\pi^{2}}{\\pi^{3}},\\;$"
      ],
      "text/plain": [
       "<IPython.core.display.Math object>"
      ]
     },
     "metadata": {},
     "output_type": "display_data"
    },
    {
     "data": {
      "text/latex": [
       "$\\displaystyle \\text{at}\\;x = 3.14:\\;f = 0,\\;f' = -0.318,\\;f'' = 0.203,\\;f''' = 0.125,\\;$"
      ],
      "text/plain": [
       "<IPython.core.display.Math object>"
      ]
     },
     "metadata": {},
     "output_type": "display_data"
    },
    {
     "name": "stdout",
     "output_type": "stream",
     "text": [
      "---------------------------\n"
     ]
    },
    {
     "data": {
      "text/latex": [
       "$\\displaystyle \\text{at}\\;x = - 2 \\pi:\\;f = 0,\\;f' = - \\frac{1}{2 \\pi},\\;f'' = - \\frac{1}{2 \\pi^{2}},\\;f''' = \\frac{-3 + 2 \\pi^{2}}{4 \\pi^{3}},\\;$"
      ],
      "text/plain": [
       "<IPython.core.display.Math object>"
      ]
     },
     "metadata": {},
     "output_type": "display_data"
    },
    {
     "data": {
      "text/latex": [
       "$\\displaystyle \\text{at}\\;x = -6.28:\\;f = 0,\\;f' = -0.159,\\;f'' = -0.0507,\\;f''' = 0.135,\\;$"
      ],
      "text/plain": [
       "<IPython.core.display.Math object>"
      ]
     },
     "metadata": {},
     "output_type": "display_data"
    },
    {
     "name": "stdout",
     "output_type": "stream",
     "text": [
      "---------------------------\n"
     ]
    },
    {
     "data": {
      "text/latex": [
       "$\\displaystyle \\text{at}\\;x = 3 \\pi:\\;f = 0,\\;f' = - \\frac{1}{3 \\pi},\\;f'' = \\frac{2}{9 \\pi^{2}},\\;f''' = \\frac{-2 + 3 \\pi^{2}}{9 \\pi^{3}},\\;$"
      ],
      "text/plain": [
       "<IPython.core.display.Math object>"
      ]
     },
     "metadata": {},
     "output_type": "display_data"
    },
    {
     "data": {
      "text/latex": [
       "$\\displaystyle \\text{at}\\;x = 9.43:\\;f = 0,\\;f' = -0.106,\\;f'' = 0.0225,\\;f''' = 0.0989,\\;$"
      ],
      "text/plain": [
       "<IPython.core.display.Math object>"
      ]
     },
     "metadata": {},
     "output_type": "display_data"
    },
    {
     "data": {
      "text/latex": [
       "$\\displaystyle \\vdots$"
      ],
      "text/plain": [
       "<IPython.core.display.Math object>"
      ]
     },
     "metadata": {},
     "output_type": "display_data"
    },
    {
     "name": "stdout",
     "output_type": "stream",
     "text": [
      "==============================================\n"
     ]
    },
    {
     "data": {
      "text/latex": [
       "$\\displaystyle f' = \\frac{x \\cos{\\left(x \\right)} - \\sin{\\left(x \\right)}}{x^{2}}$"
      ],
      "text/plain": [
       "<IPython.core.display.Math object>"
      ]
     },
     "metadata": {},
     "output_type": "display_data"
    },
    {
     "data": {
      "text/latex": [
       "$\\displaystyle f' = 0\\;\\text{for}\\; x \\in \\left\\{x \\mid x \\in \\mathbb{R} \\wedge x \\cos{\\left(x \\right)} - \\sin{\\left(x \\right)} = 0 \\right\\} \\setminus \\left\\{0\\right\\}$"
      ],
      "text/plain": [
       "<IPython.core.display.Math object>"
      ]
     },
     "metadata": {},
     "output_type": "display_data"
    },
    {
     "name": "stdout",
     "output_type": "stream",
     "text": [
      "==============================================\n"
     ]
    },
    {
     "data": {
      "text/latex": [
       "$\\displaystyle f'' = \\frac{- x^{2} \\sin{\\left(x \\right)} - 2 x \\cos{\\left(x \\right)} + 2 \\sin{\\left(x \\right)}}{x^{3}}$"
      ],
      "text/plain": [
       "<IPython.core.display.Math object>"
      ]
     },
     "metadata": {},
     "output_type": "display_data"
    },
    {
     "data": {
      "text/latex": [
       "$\\displaystyle f'' = 0\\;\\text{for}\\; x \\in \\left\\{x \\mid x \\in \\mathbb{R} \\wedge - x^{2} \\sin{\\left(x \\right)} - 2 x \\cos{\\left(x \\right)} + 2 \\sin{\\left(x \\right)} = 0 \\right\\} \\setminus \\left\\{0\\right\\}$"
      ],
      "text/plain": [
       "<IPython.core.display.Math object>"
      ]
     },
     "metadata": {},
     "output_type": "display_data"
    },
    {
     "name": "stdout",
     "output_type": "stream",
     "text": [
      "==============================================\n"
     ]
    },
    {
     "data": {
      "text/latex": [
       "$\\displaystyle f''' = \\frac{- x^{3} \\cos{\\left(x \\right)} + 3 x^{2} \\sin{\\left(x \\right)} + 6 x \\cos{\\left(x \\right)} - 6 \\sin{\\left(x \\right)}}{x^{4}}$"
      ],
      "text/plain": [
       "<IPython.core.display.Math object>"
      ]
     },
     "metadata": {},
     "output_type": "display_data"
    },
    {
     "data": {
      "text/latex": [
       "$\\displaystyle f''' = 0\\;\\text{for}\\; x \\in \\left\\{x \\mid x \\in \\mathbb{R} \\wedge - x^{3} \\cos{\\left(x \\right)} + 3 x^{2} \\sin{\\left(x \\right)} + 6 x \\cos{\\left(x \\right)} - 6 \\sin{\\left(x \\right)} = 0 \\right\\} \\setminus \\left\\{0\\right\\}$"
      ],
      "text/plain": [
       "<IPython.core.display.Math object>"
      ]
     },
     "metadata": {},
     "output_type": "display_data"
    },
    {
     "name": "stdout",
     "output_type": "stream",
     "text": [
      "==============================================\n"
     ]
    },
    {
     "data": {
      "image/png": "[encoded data removed]",
      "text/plain": [
       "<Figure size 432x576 with 1 Axes>"
      ]
     },
     "metadata": {
      "needs_background": "light"
     },
     "output_type": "display_data"
    }
   ],
   "source": [
    "CurveSketching(\"sin(x)\", \"x\", xranges=[(-20, -0.001), (0.001, 20)], maxSols=3)"
   ]
  },
  {
   "cell_type": "code",
   "execution_count": 14,
   "metadata": {},
   "outputs": [
    {
     "data": {
      "text/latex": [
       "$\\displaystyle f(x) = \\frac{x^{2} \\log{\\left(x^{2} \\right)}}{2}$"
      ],
      "text/plain": [
       "<IPython.core.display.Math object>"
      ]
     },
     "metadata": {},
     "output_type": "display_data"
    },
    {
     "name": "stdout",
     "output_type": "stream",
     "text": [
      "==============================================\n"
     ]
    },
    {
     "data": {
      "text/latex": [
       "$\\displaystyle f(0) = \\text{NaN}$"
      ],
      "text/plain": [
       "<IPython.core.display.Math object>"
      ]
     },
     "metadata": {},
     "output_type": "display_data"
    },
    {
     "name": "stdout",
     "output_type": "stream",
     "text": [
      "---------------------------\n"
     ]
    },
    {
     "data": {
      "text/latex": [
       "$\\displaystyle \\text{at}\\;x = 0:\\;f = \\text{NaN},\\;f' = \\text{NaN},\\;f'' = \\tilde{\\infty},\\;f''' = \\tilde{\\infty},\\;$"
      ],
      "text/plain": [
       "<IPython.core.display.Math object>"
      ]
     },
     "metadata": {},
     "output_type": "display_data"
    },
    {
     "name": "stdout",
     "output_type": "stream",
     "text": [
      "==============================================\n"
     ]
    },
    {
     "data": {
      "text/latex": [
       "$\\displaystyle f = \\frac{x^{2} \\log{\\left(x^{2} \\right)}}{2}$"
      ],
      "text/plain": [
       "<IPython.core.display.Math object>"
      ]
     },
     "metadata": {},
     "output_type": "display_data"
    },
    {
     "data": {
      "text/latex": [
       "$\\displaystyle f = 0\\;\\text{for}\\; x \\in \\left\\{-1, 1\\right\\}$"
      ],
      "text/plain": [
       "<IPython.core.display.Math object>"
      ]
     },
     "metadata": {},
     "output_type": "display_data"
    },
    {
     "name": "stdout",
     "output_type": "stream",
     "text": [
      "---------------------------\n"
     ]
    },
    {
     "data": {
      "text/latex": [
       "$\\displaystyle \\text{at}\\;x = -1:\\;f = 0,\\;f' = -1,\\;f'' = 3,\\;f''' = -2,\\;$"
      ],
      "text/plain": [
       "<IPython.core.display.Math object>"
      ]
     },
     "metadata": {},
     "output_type": "display_data"
    },
    {
     "data": {
      "text/latex": [
       "$\\displaystyle \\text{at}\\;x = -1.00:\\;f = 0,\\;f' = -1.00,\\;f'' = 3.00,\\;f''' = -2.00,\\;$"
      ],
      "text/plain": [
       "<IPython.core.display.Math object>"
      ]
     },
     "metadata": {},
     "output_type": "display_data"
    },
    {
     "name": "stdout",
     "output_type": "stream",
     "text": [
      "---------------------------\n"
     ]
    },
    {
     "data": {
      "text/latex": [
       "$\\displaystyle \\text{at}\\;x = 1:\\;f = 0,\\;f' = 1,\\;f'' = 3,\\;f''' = 2,\\;$"
      ],
      "text/plain": [
       "<IPython.core.display.Math object>"
      ]
     },
     "metadata": {},
     "output_type": "display_data"
    },
    {
     "data": {
      "text/latex": [
       "$\\displaystyle \\text{at}\\;x = 1.00:\\;f = 0,\\;f' = 1.00,\\;f'' = 3.00,\\;f''' = 2.00,\\;$"
      ],
      "text/plain": [
       "<IPython.core.display.Math object>"
      ]
     },
     "metadata": {},
     "output_type": "display_data"
    },
    {
     "name": "stdout",
     "output_type": "stream",
     "text": [
      "==============================================\n"
     ]
    },
    {
     "data": {
      "text/latex": [
       "$\\displaystyle f' = x \\left(\\log{\\left(x^{2} \\right)} + 1\\right)$"
      ],
      "text/plain": [
       "<IPython.core.display.Math object>"
      ]
     },
     "metadata": {},
     "output_type": "display_data"
    },
    {
     "data": {
      "text/latex": [
       "$\\displaystyle f' = 0\\;\\text{for}\\; x \\in \\left\\{- \\frac{1}{e^{\\frac{1}{2}}}, e^{- \\frac{1}{2}}\\right\\}$"
      ],
      "text/plain": [
       "<IPython.core.display.Math object>"
      ]
     },
     "metadata": {},
     "output_type": "display_data"
    },
    {
     "name": "stdout",
     "output_type": "stream",
     "text": [
      "---------------------------\n",
      "minimum\n"
     ]
    },
    {
     "data": {
      "text/latex": [
       "$\\displaystyle \\text{at}\\;x = e^{- \\frac{1}{2}}:\\;f = - \\frac{1}{2 e},\\;f' = 0,\\;f'' = 2,\\;f''' = 2 e^{\\frac{1}{2}},\\;$"
      ],
      "text/plain": [
       "<IPython.core.display.Math object>"
      ]
     },
     "metadata": {},
     "output_type": "display_data"
    },
    {
     "data": {
      "text/latex": [
       "$\\displaystyle \\text{at}\\;x = 0.607:\\;f = -0.184,\\;f' = 0,\\;f'' = 2.00,\\;f''' = 3.30,\\;$"
      ],
      "text/plain": [
       "<IPython.core.display.Math object>"
      ]
     },
     "metadata": {},
     "output_type": "display_data"
    },
    {
     "name": "stdout",
     "output_type": "stream",
     "text": [
      "---------------------------\n",
      "minimum\n"
     ]
    },
    {
     "data": {
      "text/latex": [
       "$\\displaystyle \\text{at}\\;x = - \\frac{1}{e^{\\frac{1}{2}}}:\\;f = - \\frac{1}{2 e},\\;f' = 0,\\;f'' = 2,\\;f''' = - 2 e^{\\frac{1}{2}},\\;$"
      ],
      "text/plain": [
       "<IPython.core.display.Math object>"
      ]
     },
     "metadata": {},
     "output_type": "display_data"
    },
    {
     "data": {
      "text/latex": [
       "$\\displaystyle \\text{at}\\;x = -0.607:\\;f = -0.184,\\;f' = 0,\\;f'' = 2.00,\\;f''' = -3.30,\\;$"
      ],
      "text/plain": [
       "<IPython.core.display.Math object>"
      ]
     },
     "metadata": {},
     "output_type": "display_data"
    },
    {
     "name": "stdout",
     "output_type": "stream",
     "text": [
      "==============================================\n"
     ]
    },
    {
     "data": {
      "text/latex": [
       "$\\displaystyle f'' = \\log{\\left(x^{2} \\right)} + 3$"
      ],
      "text/plain": [
       "<IPython.core.display.Math object>"
      ]
     },
     "metadata": {},
     "output_type": "display_data"
    },
    {
     "data": {
      "text/latex": [
       "$\\displaystyle f'' = 0\\;\\text{for}\\; x \\in \\left\\{- \\frac{1}{e^{\\frac{3}{2}}}, e^{- \\frac{3}{2}}\\right\\}$"
      ],
      "text/plain": [
       "<IPython.core.display.Math object>"
      ]
     },
     "metadata": {},
     "output_type": "display_data"
    },
    {
     "name": "stdout",
     "output_type": "stream",
     "text": [
      "---------------------------\n",
      "point of inflection\n"
     ]
    },
    {
     "data": {
      "text/latex": [
       "$\\displaystyle \\text{at}\\;x = e^{- \\frac{3}{2}}:\\;f = - \\frac{3}{2 e^{3}},\\;f' = - \\frac{2}{e^{\\frac{3}{2}}},\\;f'' = 0,\\;f''' = 2 e^{\\frac{3}{2}},\\;$"
      ],
      "text/plain": [
       "<IPython.core.display.Math object>"
      ]
     },
     "metadata": {},
     "output_type": "display_data"
    },
    {
     "data": {
      "text/latex": [
       "$\\displaystyle \\text{at}\\;x = 0.223:\\;f = -0.0747,\\;f' = -0.446,\\;f'' = 0,\\;f''' = 8.96,\\;$"
      ],
      "text/plain": [
       "<IPython.core.display.Math object>"
      ]
     },
     "metadata": {},
     "output_type": "display_data"
    },
    {
     "name": "stdout",
     "output_type": "stream",
     "text": [
      "---------------------------\n",
      "point of inflection\n"
     ]
    },
    {
     "data": {
      "text/latex": [
       "$\\displaystyle \\text{at}\\;x = - \\frac{1}{e^{\\frac{3}{2}}}:\\;f = - \\frac{3}{2 e^{3}},\\;f' = \\frac{2}{e^{\\frac{3}{2}}},\\;f'' = 0,\\;f''' = - 2 e^{\\frac{3}{2}},\\;$"
      ],
      "text/plain": [
       "<IPython.core.display.Math object>"
      ]
     },
     "metadata": {},
     "output_type": "display_data"
    },
    {
     "data": {
      "text/latex": [
       "$\\displaystyle \\text{at}\\;x = -0.223:\\;f = -0.0747,\\;f' = 0.446,\\;f'' = 0,\\;f''' = -8.96,\\;$"
      ],
      "text/plain": [
       "<IPython.core.display.Math object>"
      ]
     },
     "metadata": {},
     "output_type": "display_data"
    },
    {
     "name": "stdout",
     "output_type": "stream",
     "text": [
      "==============================================\n"
     ]
    },
    {
     "data": {
      "text/latex": [
       "$\\displaystyle f''' = \\frac{2}{x}$"
      ],
      "text/plain": [
       "<IPython.core.display.Math object>"
      ]
     },
     "metadata": {},
     "output_type": "display_data"
    },
    {
     "data": {
      "text/latex": [
       "$\\displaystyle f''' = 0\\;\\text{for}\\; x \\in \\emptyset$"
      ],
      "text/plain": [
       "<IPython.core.display.Math object>"
      ]
     },
     "metadata": {},
     "output_type": "display_data"
    },
    {
     "name": "stdout",
     "output_type": "stream",
     "text": [
      "==============================================\n"
     ]
    },
    {
     "data": {
      "image/png": "[encoded data removed]",
      "text/plain": [
       "<Figure size 432x576 with 1 Axes>"
      ]
     },
     "metadata": {
      "needs_background": "light"
     },
     "output_type": "display_data"
    }
   ],
   "source": [
    "CurveSketching(\"1/2 * ln(x**2)*x^2\", xranges=[(-1.15, -0.0001),(0.0001, 1.15)]) # same as x^2 ln(|x|) from lecture, using ln(|x|) = ln(sqrt(x^2))=0.5 ln(x^2)"
   ]
  },
  {
   "cell_type": "code",
   "execution_count": 15,
   "metadata": {
    "scrolled": false
   },
   "outputs": [
    {
     "data": {
      "text/latex": [
       "$\\displaystyle f(x) = \\left(4 x - 2\\right) e^{- \\frac{x}{2}}$"
      ],
      "text/plain": [
       "<IPython.core.display.Math object>"
      ]
     },
     "metadata": {},
     "output_type": "display_data"
    },
    {
     "name": "stdout",
     "output_type": "stream",
     "text": [
      "==============================================\n"
     ]
    },
    {
     "data": {
      "text/latex": [
       "$\\displaystyle f(0) = -2$"
      ],
      "text/plain": [
       "<IPython.core.display.Math object>"
      ]
     },
     "metadata": {},
     "output_type": "display_data"
    },
    {
     "name": "stdout",
     "output_type": "stream",
     "text": [
      "---------------------------\n"
     ]
    },
    {
     "data": {
      "text/latex": [
       "$\\displaystyle \\text{at}\\;x = 0:\\;f = -2,\\;f' = 5,\\;f'' = - \\frac{9}{2},\\;f''' = \\frac{13}{4},\\;$"
      ],
      "text/plain": [
       "<IPython.core.display.Math object>"
      ]
     },
     "metadata": {},
     "output_type": "display_data"
    },
    {
     "name": "stdout",
     "output_type": "stream",
     "text": [
      "==============================================\n"
     ]
    },
    {
     "data": {
      "text/latex": [
       "$\\displaystyle f = 2 \\left(2 x - 1\\right) e^{- \\frac{x}{2}}$"
      ],
      "text/plain": [
       "<IPython.core.display.Math object>"
      ]
     },
     "metadata": {},
     "output_type": "display_data"
    },
    {
     "data": {
      "text/latex": [
       "$\\displaystyle f = 0\\;\\text{for}\\; x \\in \\left\\{\\frac{1}{2}\\right\\}$"
      ],
      "text/plain": [
       "<IPython.core.display.Math object>"
      ]
     },
     "metadata": {},
     "output_type": "display_data"
    },
    {
     "name": "stdout",
     "output_type": "stream",
     "text": [
      "---------------------------\n"
     ]
    },
    {
     "data": {
      "text/latex": [
       "$\\displaystyle \\text{at}\\;x = \\frac{1}{2}:\\;f = 0,\\;f' = \\frac{4}{e^{\\frac{1}{4}}},\\;f'' = - \\frac{4}{e^{\\frac{1}{4}}},\\;f''' = \\frac{3}{e^{\\frac{1}{4}}},\\;$"
      ],
      "text/plain": [
       "<IPython.core.display.Math object>"
      ]
     },
     "metadata": {},
     "output_type": "display_data"
    },
    {
     "data": {
      "text/latex": [
       "$\\displaystyle \\text{at}\\;x = 0.500:\\;f = 0,\\;f' = 3.12,\\;f'' = -3.12,\\;f''' = 2.34,\\;$"
      ],
      "text/plain": [
       "<IPython.core.display.Math object>"
      ]
     },
     "metadata": {},
     "output_type": "display_data"
    },
    {
     "name": "stdout",
     "output_type": "stream",
     "text": [
      "==============================================\n"
     ]
    },
    {
     "data": {
      "text/latex": [
       "$\\displaystyle f' = \\left(5 - 2 x\\right) e^{- \\frac{x}{2}}$"
      ],
      "text/plain": [
       "<IPython.core.display.Math object>"
      ]
     },
     "metadata": {},
     "output_type": "display_data"
    },
    {
     "data": {
      "text/latex": [
       "$\\displaystyle f' = 0\\;\\text{for}\\; x \\in \\left\\{\\frac{5}{2}\\right\\}$"
      ],
      "text/plain": [
       "<IPython.core.display.Math object>"
      ]
     },
     "metadata": {},
     "output_type": "display_data"
    },
    {
     "name": "stdout",
     "output_type": "stream",
     "text": [
      "---------------------------\n",
      "maximum\n"
     ]
    },
    {
     "data": {
      "text/latex": [
       "$\\displaystyle \\text{at}\\;x = \\frac{5}{2}:\\;f = \\frac{8}{e^{\\frac{5}{4}}},\\;f' = 0,\\;f'' = - \\frac{2}{e^{\\frac{5}{4}}},\\;f''' = \\frac{2}{e^{\\frac{5}{4}}},\\;$"
      ],
      "text/plain": [
       "<IPython.core.display.Math object>"
      ]
     },
     "metadata": {},
     "output_type": "display_data"
    },
    {
     "data": {
      "text/latex": [
       "$\\displaystyle \\text{at}\\;x = 2.50:\\;f = 2.29,\\;f' = 0,\\;f'' = -0.573,\\;f''' = 0.573,\\;$"
      ],
      "text/plain": [
       "<IPython.core.display.Math object>"
      ]
     },
     "metadata": {},
     "output_type": "display_data"
    },
    {
     "name": "stdout",
     "output_type": "stream",
     "text": [
      "==============================================\n"
     ]
    },
    {
     "data": {
      "text/latex": [
       "$\\displaystyle f'' = \\left(x - \\frac{9}{2}\\right) e^{- \\frac{x}{2}}$"
      ],
      "text/plain": [
       "<IPython.core.display.Math object>"
      ]
     },
     "metadata": {},
     "output_type": "display_data"
    },
    {
     "data": {
      "text/latex": [
       "$\\displaystyle f'' = 0\\;\\text{for}\\; x \\in \\left\\{\\frac{9}{2}\\right\\}$"
      ],
      "text/plain": [
       "<IPython.core.display.Math object>"
      ]
     },
     "metadata": {},
     "output_type": "display_data"
    },
    {
     "name": "stdout",
     "output_type": "stream",
     "text": [
      "---------------------------\n",
      "point of inflection\n"
     ]
    },
    {
     "data": {
      "text/latex": [
       "$\\displaystyle \\text{at}\\;x = \\frac{9}{2}:\\;f = \\frac{16}{e^{\\frac{9}{4}}},\\;f' = - \\frac{4}{e^{\\frac{9}{4}}},\\;f'' = 0,\\;f''' = e^{- \\frac{9}{4}},\\;$"
      ],
      "text/plain": [
       "<IPython.core.display.Math object>"
      ]
     },
     "metadata": {},
     "output_type": "display_data"
    },
    {
     "data": {
      "text/latex": [
       "$\\displaystyle \\text{at}\\;x = 4.50:\\;f = 1.69,\\;f' = -0.422,\\;f'' = 0,\\;f''' = 0.105,\\;$"
      ],
      "text/plain": [
       "<IPython.core.display.Math object>"
      ]
     },
     "metadata": {},
     "output_type": "display_data"
    },
    {
     "name": "stdout",
     "output_type": "stream",
     "text": [
      "==============================================\n"
     ]
    },
    {
     "data": {
      "text/latex": [
       "$\\displaystyle f''' = \\frac{\\left(13 - 2 x\\right) e^{- \\frac{x}{2}}}{4}$"
      ],
      "text/plain": [
       "<IPython.core.display.Math object>"
      ]
     },
     "metadata": {},
     "output_type": "display_data"
    },
    {
     "data": {
      "text/latex": [
       "$\\displaystyle f''' = 0\\;\\text{for}\\; x \\in \\left\\{\\frac{13}{2}\\right\\}$"
      ],
      "text/plain": [
       "<IPython.core.display.Math object>"
      ]
     },
     "metadata": {},
     "output_type": "display_data"
    },
    {
     "name": "stdout",
     "output_type": "stream",
     "text": [
      "---------------------------\n"
     ]
    },
    {
     "data": {
      "text/latex": [
       "$\\displaystyle \\text{at}\\;x = \\frac{13}{2}:\\;f = \\frac{24}{e^{\\frac{13}{4}}},\\;f' = - \\frac{8}{e^{\\frac{13}{4}}},\\;f'' = \\frac{2}{e^{\\frac{13}{4}}},\\;f''' = 0,\\;$"
      ],
      "text/plain": [
       "<IPython.core.display.Math object>"
      ]
     },
     "metadata": {},
     "output_type": "display_data"
    },
    {
     "data": {
      "text/latex": [
       "$\\displaystyle \\text{at}\\;x = 6.50:\\;f = 0.931,\\;f' = -0.310,\\;f'' = 0.0775,\\;f''' = 0,\\;$"
      ],
      "text/plain": [
       "<IPython.core.display.Math object>"
      ]
     },
     "metadata": {},
     "output_type": "display_data"
    },
    {
     "name": "stdout",
     "output_type": "stream",
     "text": [
      "==============================================\n"
     ]
    },
    {
     "data": {
      "image/png": "[encoded data removed]",
      "text/plain": [
       "<Figure size 432x576 with 1 Axes>"
      ]
     },
     "metadata": {
      "needs_background": "light"
     },
     "output_type": "display_data"
    }
   ],
   "source": [
    "CurveSketching(\"(4*x-2)*exp(-x/2)\",xranges=[(0, 10)])"
   ]
  },
  {
   "cell_type": "code",
   "execution_count": null,
   "metadata": {},
   "outputs": [],
   "source": []
  }
 ],
 "metadata": {
  "kernelspec": {
   "display_name": "Python 3",
   "language": "python",
   "name": "python3"
  },
  "language_info": {
   "codemirror_mode": {
    "name": "ipython",
    "version": 3
   },
   "file_extension": ".py",
   "mimetype": "text/x-python",
   "name": "python",
   "nbconvert_exporter": "python",
   "pygments_lexer": "ipython3",
   "version": "3.8.3"
  }
 },
 "nbformat": 4,
 "nbformat_minor": 4
}
