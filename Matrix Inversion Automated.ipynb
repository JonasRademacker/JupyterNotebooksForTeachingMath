{
 "cells": [
  {
   "cell_type": "markdown",
   "metadata": {},
   "source": [
    "# Automated Matrix Inversion\n",
    "This notebook has an automated version of the matrix inversion through row manipulation presented previously."
   ]
  },
  {
   "cell_type": "markdown",
   "metadata": {},
   "source": [
    "https://docs.sympy.org/latest/tutorial/calculus.html\n",
    "\n",
    "https://www.tutorialspoint.com/sympy/sympy_plotting.htm\n",
    "\n",
    "https://docs.sympy.org/latest/modules/plotting.html#plotgrid-class"
   ]
  },
  {
   "cell_type": "code",
   "execution_count": 1,
   "metadata": {
    "scrolled": true
   },
   "outputs": [
    {
     "name": "stdout",
     "output_type": "stream",
     "text": [
      "IPython console for SymPy 1.9 (Python 3.9.7-64-bit) (ground types: gmpy)\n",
      "\n",
      "These commands were executed:\n",
      ">>> from __future__ import division\n",
      ">>> from sympy import *\n",
      ">>> x, y, z, t = symbols('x y z t')\n",
      ">>> k, m, n = symbols('k m n', integer=True)\n",
      ">>> f, g, h = symbols('f g h', cls=Function)\n",
      ">>> init_printing()\n",
      "\n",
      "Documentation can be found at https://docs.sympy.org/1.9/\n",
      "\n"
     ]
    }
   ],
   "source": [
    "from sympy import *\n",
    "import matplotlib.pyplot as plt\n",
    "init_session()\n",
    "init_printing(use_unicode=True)\n",
    "\n",
    "from copy import deepcopy\n",
    "\n",
    "from IPython.display import display, Math, Latex\n",
    "\n",
    "# remove/comment line below to get plots in a seperate window\n",
    "%matplotlib inline"
   ]
  },
  {
   "cell_type": "markdown",
   "metadata": {},
   "source": [
    "Below, we define three routines that manipulate matrices\n",
    "\n",
    "ShowM(M1, M2, ...) just prints the matrices M1, M2, ... (you can add as many as you like\n",
    "\n",
    "RowManip(factor, startRow, targetRow, M1, M2, ...)\n",
    "adds factor * startRow to target row, for all matrices M1, M2, ....\n",
    "(make sure that these rows both exist, otherwise you'll get a runtime error)\n",
    "\n",
    "RowSwap(row1, row1, M1, M2, ...)\n",
    "swaps rows 1 and 2 in matrices M1, M2, ...\n"
   ]
  },
  {
   "cell_type": "code",
   "execution_count": 2,
   "metadata": {},
   "outputs": [],
   "source": [
    "def ShowMSimple(*matrices):\n",
    "    for M in matrices:\n",
    "        for row in M:\n",
    "            print(row)\n",
    "        print('')\n",
    "\n",
    "def ShowM(*matrices):\n",
    "    string=\"\\(\";    \n",
    "    for M in matrices:\n",
    "        Mstr = \"   \\\\begin{pmatrix} \"\n",
    "        for row in M:\n",
    "            doAmp=False;\n",
    "            for a in row:\n",
    "                if doAmp: Mstr += \" & \"\n",
    "                else: doAmp = True\n",
    "                Mstr += str(a)\n",
    "            Mstr += \" \\\\\\\\ \"\n",
    "        Mstr += \" \\\\end{pmatrix} \\;\\;\\;\\;\\;\"\n",
    "        string += Mstr\n",
    "    string += \"\\)\"\n",
    "    # print(string)\n",
    "    display(Latex(string))\n",
    "\n",
    "    \n",
    "# Note: Now that we'll use our routines internally,\n",
    "# we number our matrix rows and columns the pyton way\n",
    "# i.e. 0, 1, 2, ...\n",
    "def RowManip(factor, sr, tr, *matrices):\n",
    "    for M in matrices:\n",
    "        for i in range(0, len(M[tr])):\n",
    "            M[tr][i] = M[tr][i]+factor*M[sr][i]\n",
    "            \n",
    "# Note: Now that we'll use our routines internally,\n",
    "# we number our matrix rows and columns  0, 1, 2, ...\n",
    "def RowSwap(r1, r2, *matrices):\n",
    "    for M in matrices:\n",
    "        temprow = M[r2]\n",
    "        M[r2]=M[r1]\n",
    "        M[r1]=temprow\n",
    "        \n",
    "def MultiplyRow(factor, r, *matrices):\n",
    "    for M in matrices:\n",
    "        for i in range(0, len(M[r])):\n",
    "            M[r][i] = factor*M[r][i]\n",
    "            \n",
    "def MultiplyMatrices(A, B):\n",
    "    # I'm doing no checking of dimensions - make sure you pass sensible matrices\n",
    "    # (or add a check yourself)\n",
    "    #ShowM(A,B)\n",
    "    rows = len(A)\n",
    "    cols = len(B[0])\n",
    "    C = [[0 for i in range(0,cols)] for j in range(0,rows)] # init results matrix\n",
    "    \n",
    "    for m in range(0, rows):\n",
    "        for n in range(0, cols):\n",
    "            for k in range(0, len(A[m])):\n",
    "                C[m][n] += A[m][k] * B[k][n]\n",
    "                   \n",
    "    return C\n",
    "            \n",
    "\n",
    "def roundM(M_in, decimals=10):\n",
    "    rows = len(M_in)\n",
    "    cols = len(M_in[0])\n",
    "    M = [[0 for i in range(0,rows)] for j in range(0,cols)] # init results matrix\n",
    "\n",
    "    for m in range(0, rows):\n",
    "        for n in range(0, cols):\n",
    "            M[m][n] = round(M_in[m][n], decimals)\n",
    "    return M"
   ]
  },
  {
   "cell_type": "markdown",
   "metadata": {},
   "source": [
    "Above we have the code for the previous examples, except that we changed the row and column numbering scheme to be more suitable for use in internal python routines (i.e. we start with 0 rather than 1). Below, we write a routine to automate the matrix inversion process that we previously did by hand."
   ]
  },
  {
   "cell_type": "code",
   "execution_count": 3,
   "metadata": {},
   "outputs": [],
   "source": [
    "def InvertMatrix(M_in, verbose=True):\n",
    "    M = deepcopy(M_in) ## we won't manipulate M_in itself.\n",
    "    \n",
    "    ## we assume it's a nxn (i.e. square) matrix.\n",
    "    dim = len(M)\n",
    "    I  = [[0 for i in range(0, dim)] for i in range(0, dim)]\n",
    "    for k in range(0,dim):\n",
    "        I[k][k]=1\n",
    "    \n",
    "    if verbose:\n",
    "        print(\"Our starting point is this\")\n",
    "        ShowM(M, I)\n",
    "        \n",
    "    for n in range(0, dim):  ## we are looping over columns\n",
    "        ## first we find the largest element in current column \n",
    "        if verbose: print(\"Finding pivot in column \", n+1)\n",
    "        maxi   = -1\n",
    "        pivrow =  0\n",
    "        for m in range(n, dim):\n",
    "            ##print(abs(M[m][n]))\n",
    "            if abs(M[m][n]) > maxi :\n",
    "                maxi = abs(M[m][n])\n",
    "                pivrow = m\n",
    "                ##print(pivrow, \", \", maxi)\n",
    "                \n",
    "        if maxi == 0: \n",
    "            print(\"Singular matrix, cannot be inverted\")\n",
    "            return I\n",
    "        \n",
    "        ## found pivot - we will put this on the top\n",
    "        ## of the sub-matrix we are concerned with:\n",
    "        RowSwap(n, pivrow, M, I)\n",
    "        if verbose: \n",
    "            print(\"Swapping rows \", n+1, \", \", pivrow +1,\" gives:\")\n",
    "            ShowM(M, I)\n",
    "        \n",
    "        ## now we row-manipulate all rows (except current pivot) to\n",
    "        ## set all other elements in the current column to zero.\n",
    "        if M[n][n] == 0: break;\n",
    "        for m in range(0, dim):\n",
    "            if n != m: RowManip(-M[m][n]/M[n][n], n, m, M, I)\n",
    "        \n",
    "        if verbose:\n",
    "            print(\"Eliminating all elements in column \", n+1, \" (except in row \", n+1, \", of course) gives:\")\n",
    "            ShowM(M, I)\n",
    "        \n",
    "    ## We now have a diagonal matrix.\n",
    "    ## Now need to set those diagonal elements to 1\n",
    "    if verbose: print(\"Now multilying rows to set diagonal elements to one:\")\n",
    "    for m in range(0, dim):\n",
    "        d = M[m][m]\n",
    "        if d != 0:\n",
    "            MultiplyRow(1/d, m, M, I)\n",
    "    \n",
    "    if(verbose):\n",
    "        ShowM(M, I)\n",
    "        print(\"So, our inverse is:\")\n",
    "        ShowM(I)\n",
    "        print(\"or, sometimes prittier, rounded to 10 decimal places:\")\n",
    "        ShowM(roundM(I))\n",
    "        print(\"Trying it out:\")\n",
    "        C = MultiplyMatrices(M_in, I);\n",
    "        ShowM(M_in, I)\n",
    "        print(\"=\")\n",
    "        ShowM(roundM(C))\n",
    "    \n",
    "    return I"
   ]
  },
  {
   "cell_type": "markdown",
   "metadata": {},
   "source": [
    "Let's now use it."
   ]
  },
  {
   "cell_type": "code",
   "execution_count": 4,
   "metadata": {},
   "outputs": [
    {
     "name": "stdout",
     "output_type": "stream",
     "text": [
      "Our starting point is this\n"
     ]
    },
    {
     "data": {
      "text/latex": [
       "\\(   \\begin{pmatrix} 1 & 2 & 3 \\\\ 2 & 3 & 4 \\\\ 2 & 1 & 1 \\\\  \\end{pmatrix} \\;\\;\\;\\;\\;   \\begin{pmatrix} 1 & 0 & 0 \\\\ 0 & 1 & 0 \\\\ 0 & 0 & 1 \\\\  \\end{pmatrix} \\;\\;\\;\\;\\;\\)"
      ],
      "text/plain": [
       "<IPython.core.display.Latex object>"
      ]
     },
     "metadata": {},
     "output_type": "display_data"
    },
    {
     "name": "stdout",
     "output_type": "stream",
     "text": [
      "Finding pivot in column  1\n",
      "Swapping rows  1 ,  2  gives:\n"
     ]
    },
    {
     "data": {
      "text/latex": [
       "\\(   \\begin{pmatrix} 2 & 3 & 4 \\\\ 1 & 2 & 3 \\\\ 2 & 1 & 1 \\\\  \\end{pmatrix} \\;\\;\\;\\;\\;   \\begin{pmatrix} 0 & 1 & 0 \\\\ 1 & 0 & 0 \\\\ 0 & 0 & 1 \\\\  \\end{pmatrix} \\;\\;\\;\\;\\;\\)"
      ],
      "text/plain": [
       "<IPython.core.display.Latex object>"
      ]
     },
     "metadata": {},
     "output_type": "display_data"
    },
    {
     "name": "stdout",
     "output_type": "stream",
     "text": [
      "Eliminating all elements in column  1  (except in row  1 , of course) gives:\n"
     ]
    },
    {
     "data": {
      "text/latex": [
       "\\(   \\begin{pmatrix} 2 & 3 & 4 \\\\ 0.0 & 0.5 & 1.0 \\\\ 0.0 & -2.0 & -3.0 \\\\  \\end{pmatrix} \\;\\;\\;\\;\\;   \\begin{pmatrix} 0 & 1 & 0 \\\\ 1.0 & -0.5 & 0.0 \\\\ 0.0 & -1.0 & 1.0 \\\\  \\end{pmatrix} \\;\\;\\;\\;\\;\\)"
      ],
      "text/plain": [
       "<IPython.core.display.Latex object>"
      ]
     },
     "metadata": {},
     "output_type": "display_data"
    },
    {
     "name": "stdout",
     "output_type": "stream",
     "text": [
      "Finding pivot in column  2\n",
      "Swapping rows  2 ,  3  gives:\n"
     ]
    },
    {
     "data": {
      "text/latex": [
       "\\(   \\begin{pmatrix} 2 & 3 & 4 \\\\ 0.0 & -2.0 & -3.0 \\\\ 0.0 & 0.5 & 1.0 \\\\  \\end{pmatrix} \\;\\;\\;\\;\\;   \\begin{pmatrix} 0 & 1 & 0 \\\\ 0.0 & -1.0 & 1.0 \\\\ 1.0 & -0.5 & 0.0 \\\\  \\end{pmatrix} \\;\\;\\;\\;\\;\\)"
      ],
      "text/plain": [
       "<IPython.core.display.Latex object>"
      ]
     },
     "metadata": {},
     "output_type": "display_data"
    },
    {
     "name": "stdout",
     "output_type": "stream",
     "text": [
      "Eliminating all elements in column  2  (except in row  2 , of course) gives:\n"
     ]
    },
    {
     "data": {
      "text/latex": [
       "\\(   \\begin{pmatrix} 2.0 & 0.0 & -0.5 \\\\ 0.0 & -2.0 & -3.0 \\\\ 0.0 & 0.0 & 0.25 \\\\  \\end{pmatrix} \\;\\;\\;\\;\\;   \\begin{pmatrix} 0.0 & -0.5 & 1.5 \\\\ 0.0 & -1.0 & 1.0 \\\\ 1.0 & -0.75 & 0.25 \\\\  \\end{pmatrix} \\;\\;\\;\\;\\;\\)"
      ],
      "text/plain": [
       "<IPython.core.display.Latex object>"
      ]
     },
     "metadata": {},
     "output_type": "display_data"
    },
    {
     "name": "stdout",
     "output_type": "stream",
     "text": [
      "Finding pivot in column  3\n",
      "Swapping rows  3 ,  3  gives:\n"
     ]
    },
    {
     "data": {
      "text/latex": [
       "\\(   \\begin{pmatrix} 2.0 & 0.0 & -0.5 \\\\ 0.0 & -2.0 & -3.0 \\\\ 0.0 & 0.0 & 0.25 \\\\  \\end{pmatrix} \\;\\;\\;\\;\\;   \\begin{pmatrix} 0.0 & -0.5 & 1.5 \\\\ 0.0 & -1.0 & 1.0 \\\\ 1.0 & -0.75 & 0.25 \\\\  \\end{pmatrix} \\;\\;\\;\\;\\;\\)"
      ],
      "text/plain": [
       "<IPython.core.display.Latex object>"
      ]
     },
     "metadata": {},
     "output_type": "display_data"
    },
    {
     "name": "stdout",
     "output_type": "stream",
     "text": [
      "Eliminating all elements in column  3  (except in row  3 , of course) gives:\n"
     ]
    },
    {
     "data": {
      "text/latex": [
       "\\(   \\begin{pmatrix} 2.0 & 0.0 & 0.0 \\\\ 0.0 & -2.0 & 0.0 \\\\ 0.0 & 0.0 & 0.25 \\\\  \\end{pmatrix} \\;\\;\\;\\;\\;   \\begin{pmatrix} 2.0 & -2.0 & 2.0 \\\\ 12.0 & -10.0 & 4.0 \\\\ 1.0 & -0.75 & 0.25 \\\\  \\end{pmatrix} \\;\\;\\;\\;\\;\\)"
      ],
      "text/plain": [
       "<IPython.core.display.Latex object>"
      ]
     },
     "metadata": {},
     "output_type": "display_data"
    },
    {
     "name": "stdout",
     "output_type": "stream",
     "text": [
      "Now multilying rows to set diagonal elements to one:\n"
     ]
    },
    {
     "data": {
      "text/latex": [
       "\\(   \\begin{pmatrix} 1.0 & 0.0 & 0.0 \\\\ -0.0 & 1.0 & -0.0 \\\\ 0.0 & 0.0 & 1.0 \\\\  \\end{pmatrix} \\;\\;\\;\\;\\;   \\begin{pmatrix} 1.0 & -1.0 & 1.0 \\\\ -6.0 & 5.0 & -2.0 \\\\ 4.0 & -3.0 & 1.0 \\\\  \\end{pmatrix} \\;\\;\\;\\;\\;\\)"
      ],
      "text/plain": [
       "<IPython.core.display.Latex object>"
      ]
     },
     "metadata": {},
     "output_type": "display_data"
    },
    {
     "name": "stdout",
     "output_type": "stream",
     "text": [
      "So, our inverse is:\n"
     ]
    },
    {
     "data": {
      "text/latex": [
       "\\(   \\begin{pmatrix} 1.0 & -1.0 & 1.0 \\\\ -6.0 & 5.0 & -2.0 \\\\ 4.0 & -3.0 & 1.0 \\\\  \\end{pmatrix} \\;\\;\\;\\;\\;\\)"
      ],
      "text/plain": [
       "<IPython.core.display.Latex object>"
      ]
     },
     "metadata": {},
     "output_type": "display_data"
    },
    {
     "name": "stdout",
     "output_type": "stream",
     "text": [
      "or, sometimes prittier, rounded to 10 decimal places:\n"
     ]
    },
    {
     "data": {
      "text/latex": [
       "\\(   \\begin{pmatrix} 1.0 & -1.0 & 1.0 \\\\ -6.0 & 5.0 & -2.0 \\\\ 4.0 & -3.0 & 1.0 \\\\  \\end{pmatrix} \\;\\;\\;\\;\\;\\)"
      ],
      "text/plain": [
       "<IPython.core.display.Latex object>"
      ]
     },
     "metadata": {},
     "output_type": "display_data"
    },
    {
     "name": "stdout",
     "output_type": "stream",
     "text": [
      "Trying it out:\n"
     ]
    },
    {
     "data": {
      "text/latex": [
       "\\(   \\begin{pmatrix} 1 & 2 & 3 \\\\ 2 & 3 & 4 \\\\ 2 & 1 & 1 \\\\  \\end{pmatrix} \\;\\;\\;\\;\\;   \\begin{pmatrix} 1.0 & -1.0 & 1.0 \\\\ -6.0 & 5.0 & -2.0 \\\\ 4.0 & -3.0 & 1.0 \\\\  \\end{pmatrix} \\;\\;\\;\\;\\;\\)"
      ],
      "text/plain": [
       "<IPython.core.display.Latex object>"
      ]
     },
     "metadata": {},
     "output_type": "display_data"
    },
    {
     "name": "stdout",
     "output_type": "stream",
     "text": [
      "=\n"
     ]
    },
    {
     "data": {
      "text/latex": [
       "\\(   \\begin{pmatrix} 1.0 & 0.0 & 0.0 \\\\ 0.0 & 1.0 & 0.0 \\\\ 0.0 & 0.0 & 1.0 \\\\  \\end{pmatrix} \\;\\;\\;\\;\\;\\)"
      ],
      "text/plain": [
       "<IPython.core.display.Latex object>"
      ]
     },
     "metadata": {},
     "output_type": "display_data"
    },
    {
     "data": {
      "image/png": "[encoded data removed]",
      "text/latex": [
       "$\\displaystyle \\left[ \\left[ 1.0, \\  -1.0, \\  1.0\\right], \\  \\left[ -6.0, \\  5.0, \\  -2.0\\right], \\  \\left[ 4.0, \\  -3.0, \\  1.0\\right]\\right]$"
      ],
      "text/plain": [
       "[[1.0, -1.0, 1.0], [-6.0, 5.0, -2.0], [4.0, -3.0, 1.0]]"
      ]
     },
     "execution_count": 4,
     "metadata": {},
     "output_type": "execute_result"
    }
   ],
   "source": [
    "M33= [[1, 2, 3]\n",
    "     ,[2, 3, 4]\n",
    "     ,[2, 1, 1]]\n",
    "\n",
    "InvertMatrix(M33)"
   ]
  },
  {
   "cell_type": "markdown",
   "metadata": {},
   "source": [
    "# Using matrix inverstion to solve equations:"
   ]
  },
  {
   "cell_type": "markdown",
   "metadata": {},
   "source": [
    "How about using it to solve this system of equation:\n",
    "\n",
    "$\n",
    "\\begin{align*}\n",
    " 5 x_1 + 2 x_2 + 9 x_3 + x_4 &= 11 \\\\\n",
    " 2 x_1 + 3 x_2 +10 x_3 + 2 x_4 &= 12 \\\\\n",
    "   x_1 +   x_2 +   x_3 + 4 x_4 &= 13 \\\\\n",
    "         6 x_2 +17 x_3 +   x_4 &= 14\n",
    "\\end{align*}\n",
    "$\n",
    "\n",
    "We start by writing this as\n",
    "\n",
    "$\n",
    "\\begin{pmatrix}\n",
    " 5 & 2 &  9 & 1 \\\\\n",
    " 2 & 3 & 10 & 2 \\\\\n",
    " 1 & 1 &  1 & 4  \\\\\n",
    " 0 & 6 & 17 & 1\n",
    "\\end{pmatrix}\n",
    "\\begin{pmatrix}\n",
    "x_1 \\\\ x_2 \\\\ x_3 \\\\ x_4\n",
    "\\end{pmatrix}\n",
    "=\n",
    "\\begin{pmatrix}\n",
    "11 \\\\ 12 \\\\ 13 \\\\ 14\n",
    "\\end{pmatrix}\n",
    "$\n",
    "\n",
    "Now, if we find\n",
    "$\n",
    "\\begin{pmatrix}\n",
    " 5 & 2 &  9 & 1 \\\\\n",
    " 2 & 3 & 10 & 2 \\\\\n",
    " 1 & 1 &  1 & 4  \\\\\n",
    " 0 & 6 & 17 & 1\n",
    "\\end{pmatrix}^{-1}\n",
    "$ \n",
    "we have solved the problem, because\n",
    "\n",
    "\n",
    "$\n",
    "\\begin{pmatrix}\n",
    " 5 & 2 &  9 & 1 \\\\\n",
    " 2 & 3 & 10 & 2 \\\\\n",
    " 1 & 1 &  1 & 4  \\\\\n",
    " 0 & 6 & 17 & 1\n",
    "\\end{pmatrix}^{-1}\n",
    "\\begin{pmatrix}\n",
    " 5 & 2 &  9 & 1 \\\\\n",
    " 2 & 3 & 10 & 2 \\\\\n",
    " 1 & 1 &  1 & 4  \\\\\n",
    " 0 & 6 & 17 & 1\n",
    "\\end{pmatrix}\n",
    "\\begin{pmatrix}\n",
    "x_1 \\\\ x_2 \\\\ x_3 \\\\ x_4\n",
    "\\end{pmatrix}\n",
    "=\n",
    "\\begin{pmatrix}\n",
    " 5 & 2 &  9 & 1 \\\\\n",
    " 2 & 3 & 10 & 2 \\\\\n",
    " 1 & 1 &  1 & 4  \\\\\n",
    " 0 & 6 & 17 & 1\n",
    "\\end{pmatrix}^{-1}\n",
    "\\begin{pmatrix}\n",
    "11 \\\\ 12 \\\\ 13 \\\\ 14\n",
    "\\end{pmatrix}\n",
    "$\n",
    "\n",
    "and hence\n",
    "\n",
    "$\n",
    "\\begin{pmatrix}\n",
    "x_1 \\\\ x_2 \\\\ x_3 \\\\ x_4\n",
    "\\end{pmatrix}\n",
    "=\n",
    "\\begin{pmatrix}\n",
    " 5 & 2 &  9 & 1 \\\\\n",
    " 2 & 3 & 10 & 2 \\\\\n",
    " 1 & 1 &  1 & 4  \\\\\n",
    " 0 & 6 & 17 & 1\n",
    "\\end{pmatrix}^{-1}\n",
    "\\begin{pmatrix}\n",
    "11 \\\\ 12 \\\\ 13 \\\\ 14\n",
    "\\end{pmatrix}\n",
    "$\n",
    "\n"
   ]
  },
  {
   "cell_type": "markdown",
   "metadata": {},
   "source": [
    "Let's create python versions of the matrix \n",
    "$ M_{44} = \\begin{pmatrix}\n",
    " 5 & 2 &  9 & 1 \\\\\n",
    " 2 & 3 & 10 & 2 \\\\\n",
    " 1 & 1 &  1 & 4  \\\\\n",
    " 0 & 6 & 17 & 1\n",
    "\\end{pmatrix}\n",
    "$ \n",
    "and the vector on the right hand side of the equation,\n",
    "$\n",
    "\\begin{pmatrix}\n",
    "11 \\\\ 12 \\\\ 13 \\\\ 14\n",
    "\\end{pmatrix}\n",
    "$\n",
    "."
   ]
  },
  {
   "cell_type": "code",
   "execution_count": 5,
   "metadata": {},
   "outputs": [],
   "source": [
    "M44= [[5, 2,  9, 1]\n",
    "     ,[2, 3, 10, 2]\n",
    "     ,[1, 1,  1, 4]\n",
    "     ,[0, 6, 17, 1]]\n",
    "\n",
    "b  = [[11]\n",
    "    , [12]\n",
    "    , [13]\n",
    "    , [14]] ## the seemingly superfluous brackets are needed because all our routies expect matrices, \n",
    "            ## i.e. arrays of row vectors. [11] is a row with one element (i.e. OK),\n",
    "            ## while 11 is not a row (our programmes will choke on this)"
   ]
  },
  {
   "cell_type": "markdown",
   "metadata": {},
   "source": [
    "Now we invert $M_{44}$ using our programme:"
   ]
  },
  {
   "cell_type": "code",
   "execution_count": 6,
   "metadata": {},
   "outputs": [
    {
     "name": "stdout",
     "output_type": "stream",
     "text": [
      "Our starting point is this\n"
     ]
    },
    {
     "data": {
      "text/latex": [
       "\\(   \\begin{pmatrix} 5 & 2 & 9 & 1 \\\\ 2 & 3 & 10 & 2 \\\\ 1 & 1 & 1 & 4 \\\\ 0 & 6 & 17 & 1 \\\\  \\end{pmatrix} \\;\\;\\;\\;\\;   \\begin{pmatrix} 1 & 0 & 0 & 0 \\\\ 0 & 1 & 0 & 0 \\\\ 0 & 0 & 1 & 0 \\\\ 0 & 0 & 0 & 1 \\\\  \\end{pmatrix} \\;\\;\\;\\;\\;\\)"
      ],
      "text/plain": [
       "<IPython.core.display.Latex object>"
      ]
     },
     "metadata": {},
     "output_type": "display_data"
    },
    {
     "name": "stdout",
     "output_type": "stream",
     "text": [
      "Finding pivot in column  1\n",
      "Swapping rows  1 ,  1  gives:\n"
     ]
    },
    {
     "data": {
      "text/latex": [
       "\\(   \\begin{pmatrix} 5 & 2 & 9 & 1 \\\\ 2 & 3 & 10 & 2 \\\\ 1 & 1 & 1 & 4 \\\\ 0 & 6 & 17 & 1 \\\\  \\end{pmatrix} \\;\\;\\;\\;\\;   \\begin{pmatrix} 1 & 0 & 0 & 0 \\\\ 0 & 1 & 0 & 0 \\\\ 0 & 0 & 1 & 0 \\\\ 0 & 0 & 0 & 1 \\\\  \\end{pmatrix} \\;\\;\\;\\;\\;\\)"
      ],
      "text/plain": [
       "<IPython.core.display.Latex object>"
      ]
     },
     "metadata": {},
     "output_type": "display_data"
    },
    {
     "name": "stdout",
     "output_type": "stream",
     "text": [
      "Eliminating all elements in column  1  (except in row  1 , of course) gives:\n"
     ]
    },
    {
     "data": {
      "text/latex": [
       "\\(   \\begin{pmatrix} 5 & 2 & 9 & 1 \\\\ 0.0 & 2.2 & 6.4 & 1.6 \\\\ 0.0 & 0.6 & -0.8 & 3.8 \\\\ 0.0 & 6.0 & 17.0 & 1.0 \\\\  \\end{pmatrix} \\;\\;\\;\\;\\;   \\begin{pmatrix} 1 & 0 & 0 & 0 \\\\ -0.4 & 1.0 & 0.0 & 0.0 \\\\ -0.2 & 0.0 & 1.0 & 0.0 \\\\ 0.0 & 0.0 & 0.0 & 1.0 \\\\  \\end{pmatrix} \\;\\;\\;\\;\\;\\)"
      ],
      "text/plain": [
       "<IPython.core.display.Latex object>"
      ]
     },
     "metadata": {},
     "output_type": "display_data"
    },
    {
     "name": "stdout",
     "output_type": "stream",
     "text": [
      "Finding pivot in column  2\n",
      "Swapping rows  2 ,  4  gives:\n"
     ]
    },
    {
     "data": {
      "text/latex": [
       "\\(   \\begin{pmatrix} 5 & 2 & 9 & 1 \\\\ 0.0 & 6.0 & 17.0 & 1.0 \\\\ 0.0 & 0.6 & -0.8 & 3.8 \\\\ 0.0 & 2.2 & 6.4 & 1.6 \\\\  \\end{pmatrix} \\;\\;\\;\\;\\;   \\begin{pmatrix} 1 & 0 & 0 & 0 \\\\ 0.0 & 0.0 & 0.0 & 1.0 \\\\ -0.2 & 0.0 & 1.0 & 0.0 \\\\ -0.4 & 1.0 & 0.0 & 0.0 \\\\  \\end{pmatrix} \\;\\;\\;\\;\\;\\)"
      ],
      "text/plain": [
       "<IPython.core.display.Latex object>"
      ]
     },
     "metadata": {},
     "output_type": "display_data"
    },
    {
     "name": "stdout",
     "output_type": "stream",
     "text": [
      "Eliminating all elements in column  2  (except in row  2 , of course) gives:\n"
     ]
    },
    {
     "data": {
      "text/latex": [
       "\\(   \\begin{pmatrix} 5.0 & 0.0 & 3.333333333333334 & 0.6666666666666667 \\\\ 0.0 & 6.0 & 17.0 & 1.0 \\\\ 0.0 & 0.0 & -2.5 & 3.6999999999999997 \\\\ 0.0 & 0.0 & 0.16666666666666607 & 1.2333333333333334 \\\\  \\end{pmatrix} \\;\\;\\;\\;\\;   \\begin{pmatrix} 1.0 & 0.0 & 0.0 & -0.3333333333333333 \\\\ 0.0 & 0.0 & 0.0 & 1.0 \\\\ -0.2 & 0.0 & 1.0 & -0.09999999999999999 \\\\ -0.4 & 1.0 & 0.0 & -0.3666666666666667 \\\\  \\end{pmatrix} \\;\\;\\;\\;\\;\\)"
      ],
      "text/plain": [
       "<IPython.core.display.Latex object>"
      ]
     },
     "metadata": {},
     "output_type": "display_data"
    },
    {
     "name": "stdout",
     "output_type": "stream",
     "text": [
      "Finding pivot in column  3\n",
      "Swapping rows  3 ,  3  gives:\n"
     ]
    },
    {
     "data": {
      "text/latex": [
       "\\(   \\begin{pmatrix} 5.0 & 0.0 & 3.333333333333334 & 0.6666666666666667 \\\\ 0.0 & 6.0 & 17.0 & 1.0 \\\\ 0.0 & 0.0 & -2.5 & 3.6999999999999997 \\\\ 0.0 & 0.0 & 0.16666666666666607 & 1.2333333333333334 \\\\  \\end{pmatrix} \\;\\;\\;\\;\\;   \\begin{pmatrix} 1.0 & 0.0 & 0.0 & -0.3333333333333333 \\\\ 0.0 & 0.0 & 0.0 & 1.0 \\\\ -0.2 & 0.0 & 1.0 & -0.09999999999999999 \\\\ -0.4 & 1.0 & 0.0 & -0.3666666666666667 \\\\  \\end{pmatrix} \\;\\;\\;\\;\\;\\)"
      ],
      "text/plain": [
       "<IPython.core.display.Latex object>"
      ]
     },
     "metadata": {},
     "output_type": "display_data"
    },
    {
     "name": "stdout",
     "output_type": "stream",
     "text": [
      "Eliminating all elements in column  3  (except in row  3 , of course) gives:\n"
     ]
    },
    {
     "data": {
      "text/latex": [
       "\\(   \\begin{pmatrix} 5.0 & 0.0 & 0.0 & 5.6000000000000005 \\\\ 0.0 & 6.0 & 0.0 & 26.159999999999997 \\\\ 0.0 & 0.0 & -2.5 & 3.6999999999999997 \\\\ 0.0 & 0.0 & 0.0 & 1.479999999999999 \\\\  \\end{pmatrix} \\;\\;\\;\\;\\;   \\begin{pmatrix} 0.7333333333333333 & 0.0 & 1.3333333333333335 & -0.4666666666666667 \\\\ -1.36 & 0.0 & 6.8 & 0.32000000000000006 \\\\ -0.2 & 0.0 & 1.0 & -0.09999999999999999 \\\\ -0.41333333333333333 & 1.0 & 0.06666666666666643 & -0.37333333333333335 \\\\  \\end{pmatrix} \\;\\;\\;\\;\\;\\)"
      ],
      "text/plain": [
       "<IPython.core.display.Latex object>"
      ]
     },
     "metadata": {},
     "output_type": "display_data"
    },
    {
     "name": "stdout",
     "output_type": "stream",
     "text": [
      "Finding pivot in column  4\n",
      "Swapping rows  4 ,  4  gives:\n"
     ]
    },
    {
     "data": {
      "text/latex": [
       "\\(   \\begin{pmatrix} 5.0 & 0.0 & 0.0 & 5.6000000000000005 \\\\ 0.0 & 6.0 & 0.0 & 26.159999999999997 \\\\ 0.0 & 0.0 & -2.5 & 3.6999999999999997 \\\\ 0.0 & 0.0 & 0.0 & 1.479999999999999 \\\\  \\end{pmatrix} \\;\\;\\;\\;\\;   \\begin{pmatrix} 0.7333333333333333 & 0.0 & 1.3333333333333335 & -0.4666666666666667 \\\\ -1.36 & 0.0 & 6.8 & 0.32000000000000006 \\\\ -0.2 & 0.0 & 1.0 & -0.09999999999999999 \\\\ -0.41333333333333333 & 1.0 & 0.06666666666666643 & -0.37333333333333335 \\\\  \\end{pmatrix} \\;\\;\\;\\;\\;\\)"
      ],
      "text/plain": [
       "<IPython.core.display.Latex object>"
      ]
     },
     "metadata": {},
     "output_type": "display_data"
    },
    {
     "name": "stdout",
     "output_type": "stream",
     "text": [
      "Eliminating all elements in column  4  (except in row  4 , of course) gives:\n"
     ]
    },
    {
     "data": {
      "text/latex": [
       "\\(   \\begin{pmatrix} 5.0 & 0.0 & 0.0 & 0.0 \\\\ 0.0 & 6.0 & 0.0 & 0.0 \\\\ 0.0 & 0.0 & -2.5 & 0.0 \\\\ 0.0 & 0.0 & 0.0 & 1.479999999999999 \\\\  \\end{pmatrix} \\;\\;\\;\\;\\;   \\begin{pmatrix} 2.2972972972972983 & -3.7837837837837864 & 1.081081081081082 & 0.945945945945947 \\\\ 5.945945945945949 & -17.675675675675684 & 5.621621621621625 & 6.918918918918923 \\\\ 0.8333333333333339 & -2.5000000000000013 & 0.8333333333333338 & 0.8333333333333339 \\\\ -0.41333333333333333 & 1.0 & 0.06666666666666643 & -0.37333333333333335 \\\\  \\end{pmatrix} \\;\\;\\;\\;\\;\\)"
      ],
      "text/plain": [
       "<IPython.core.display.Latex object>"
      ]
     },
     "metadata": {},
     "output_type": "display_data"
    },
    {
     "name": "stdout",
     "output_type": "stream",
     "text": [
      "Now multilying rows to set diagonal elements to one:\n"
     ]
    },
    {
     "data": {
      "text/latex": [
       "\\(   \\begin{pmatrix} 1.0 & 0.0 & 0.0 & 0.0 \\\\ 0.0 & 1.0 & 0.0 & 0.0 \\\\ -0.0 & -0.0 & 1.0 & -0.0 \\\\ 0.0 & 0.0 & 0.0 & 1.0 \\\\  \\end{pmatrix} \\;\\;\\;\\;\\;   \\begin{pmatrix} 0.45945945945945965 & -0.7567567567567574 & 0.21621621621621642 & 0.18918918918918942 \\\\ 0.9909909909909915 & -2.9459459459459474 & 0.9369369369369374 & 1.1531531531531538 \\\\ -0.3333333333333336 & 1.0000000000000007 & -0.33333333333333354 & -0.3333333333333336 \\\\ -0.2792792792792795 & 0.6756756756756761 & 0.04504504504504491 & -0.2522522522522524 \\\\  \\end{pmatrix} \\;\\;\\;\\;\\;\\)"
      ],
      "text/plain": [
       "<IPython.core.display.Latex object>"
      ]
     },
     "metadata": {},
     "output_type": "display_data"
    },
    {
     "name": "stdout",
     "output_type": "stream",
     "text": [
      "So, our inverse is:\n"
     ]
    },
    {
     "data": {
      "text/latex": [
       "\\(   \\begin{pmatrix} 0.45945945945945965 & -0.7567567567567574 & 0.21621621621621642 & 0.18918918918918942 \\\\ 0.9909909909909915 & -2.9459459459459474 & 0.9369369369369374 & 1.1531531531531538 \\\\ -0.3333333333333336 & 1.0000000000000007 & -0.33333333333333354 & -0.3333333333333336 \\\\ -0.2792792792792795 & 0.6756756756756761 & 0.04504504504504491 & -0.2522522522522524 \\\\  \\end{pmatrix} \\;\\;\\;\\;\\;\\)"
      ],
      "text/plain": [
       "<IPython.core.display.Latex object>"
      ]
     },
     "metadata": {},
     "output_type": "display_data"
    },
    {
     "name": "stdout",
     "output_type": "stream",
     "text": [
      "or, sometimes prittier, rounded to 10 decimal places:\n"
     ]
    },
    {
     "data": {
      "text/latex": [
       "\\(   \\begin{pmatrix} 0.4594594595 & -0.7567567568 & 0.2162162162 & 0.1891891892 \\\\ 0.990990991 & -2.9459459459 & 0.9369369369 & 1.1531531532 \\\\ -0.3333333333 & 1.0 & -0.3333333333 & -0.3333333333 \\\\ -0.2792792793 & 0.6756756757 & 0.045045045 & -0.2522522523 \\\\  \\end{pmatrix} \\;\\;\\;\\;\\;\\)"
      ],
      "text/plain": [
       "<IPython.core.display.Latex object>"
      ]
     },
     "metadata": {},
     "output_type": "display_data"
    },
    {
     "name": "stdout",
     "output_type": "stream",
     "text": [
      "Trying it out:\n"
     ]
    },
    {
     "data": {
      "text/latex": [
       "\\(   \\begin{pmatrix} 5 & 2 & 9 & 1 \\\\ 2 & 3 & 10 & 2 \\\\ 1 & 1 & 1 & 4 \\\\ 0 & 6 & 17 & 1 \\\\  \\end{pmatrix} \\;\\;\\;\\;\\;   \\begin{pmatrix} 0.45945945945945965 & -0.7567567567567574 & 0.21621621621621642 & 0.18918918918918942 \\\\ 0.9909909909909915 & -2.9459459459459474 & 0.9369369369369374 & 1.1531531531531538 \\\\ -0.3333333333333336 & 1.0000000000000007 & -0.33333333333333354 & -0.3333333333333336 \\\\ -0.2792792792792795 & 0.6756756756756761 & 0.04504504504504491 & -0.2522522522522524 \\\\  \\end{pmatrix} \\;\\;\\;\\;\\;\\)"
      ],
      "text/plain": [
       "<IPython.core.display.Latex object>"
      ]
     },
     "metadata": {},
     "output_type": "display_data"
    },
    {
     "name": "stdout",
     "output_type": "stream",
     "text": [
      "=\n"
     ]
    },
    {
     "data": {
      "text/latex": [
       "\\(   \\begin{pmatrix} 1.0 & 0.0 & -0.0 & 0.0 \\\\ -0.0 & 1.0 & -0.0 & -0.0 \\\\ -0.0 & 0.0 & 1.0 & 0.0 \\\\ -0.0 & 0.0 & -0.0 & 1.0 \\\\  \\end{pmatrix} \\;\\;\\;\\;\\;\\)"
      ],
      "text/plain": [
       "<IPython.core.display.Latex object>"
      ]
     },
     "metadata": {},
     "output_type": "display_data"
    }
   ],
   "source": [
    "M44_inverse = InvertMatrix(M44)"
   ]
  },
  {
   "cell_type": "markdown",
   "metadata": {},
   "source": [
    "Now we have that inverse, we can solve the equation"
   ]
  },
  {
   "cell_type": "code",
   "execution_count": 7,
   "metadata": {
    "scrolled": true
   },
   "outputs": [
    {
     "data": {
      "text/latex": [
       "\\(   \\begin{pmatrix} 1.4324324324324338 \\\\ 3.873873873873878 \\\\ -0.6666666666666687 \\\\ 2.0900900900900874 \\\\  \\end{pmatrix} \\;\\;\\;\\;\\;\\)"
      ],
      "text/plain": [
       "<IPython.core.display.Latex object>"
      ]
     },
     "metadata": {},
     "output_type": "display_data"
    }
   ],
   "source": [
    "Sol = MultiplyMatrices(M44_inverse, b)\n",
    "ShowM(Sol)"
   ]
  },
  {
   "cell_type": "markdown",
   "metadata": {},
   "source": [
    "which represents the solution vector $ \\begin{pmatrix} x_1 \\\\ x_2 \\\\ x_3 \\\\ x_4 \\end{pmatrix} $"
   ]
  },
  {
   "cell_type": "markdown",
   "metadata": {},
   "source": [
    "## Apply the algorithm to the matrix you inverted yourself in the previous notebook"
   ]
  },
  {
   "cell_type": "code",
   "execution_count": 8,
   "metadata": {},
   "outputs": [
    {
     "name": "stdout",
     "output_type": "stream",
     "text": [
      "Our starting point is this\n"
     ]
    },
    {
     "data": {
      "text/latex": [
       "\\(   \\begin{pmatrix} 6 & 2 & 1 \\\\ 1 & -6 & -1 \\\\ -2 & 1 & 0 \\\\  \\end{pmatrix} \\;\\;\\;\\;\\;   \\begin{pmatrix} 1 & 0 & 0 \\\\ 0 & 1 & 0 \\\\ 0 & 0 & 1 \\\\  \\end{pmatrix} \\;\\;\\;\\;\\;\\)"
      ],
      "text/plain": [
       "<IPython.core.display.Latex object>"
      ]
     },
     "metadata": {},
     "output_type": "display_data"
    },
    {
     "name": "stdout",
     "output_type": "stream",
     "text": [
      "Finding pivot in column  1\n",
      "Swapping rows  1 ,  1  gives:\n"
     ]
    },
    {
     "data": {
      "text/latex": [
       "\\(   \\begin{pmatrix} 6 & 2 & 1 \\\\ 1 & -6 & -1 \\\\ -2 & 1 & 0 \\\\  \\end{pmatrix} \\;\\;\\;\\;\\;   \\begin{pmatrix} 1 & 0 & 0 \\\\ 0 & 1 & 0 \\\\ 0 & 0 & 1 \\\\  \\end{pmatrix} \\;\\;\\;\\;\\;\\)"
      ],
      "text/plain": [
       "<IPython.core.display.Latex object>"
      ]
     },
     "metadata": {},
     "output_type": "display_data"
    },
    {
     "name": "stdout",
     "output_type": "stream",
     "text": [
      "Eliminating all elements in column  1  (except in row  1 , of course) gives:\n"
     ]
    },
    {
     "data": {
      "text/latex": [
       "\\(   \\begin{pmatrix} 6 & 2 & 1 \\\\ 0.0 & -6.333333333333333 & -1.1666666666666667 \\\\ 0.0 & 1.6666666666666665 & 0.3333333333333333 \\\\  \\end{pmatrix} \\;\\;\\;\\;\\;   \\begin{pmatrix} 1 & 0 & 0 \\\\ -0.16666666666666666 & 1.0 & 0.0 \\\\ 0.3333333333333333 & 0.0 & 1.0 \\\\  \\end{pmatrix} \\;\\;\\;\\;\\;\\)"
      ],
      "text/plain": [
       "<IPython.core.display.Latex object>"
      ]
     },
     "metadata": {},
     "output_type": "display_data"
    },
    {
     "name": "stdout",
     "output_type": "stream",
     "text": [
      "Finding pivot in column  2\n",
      "Swapping rows  2 ,  2  gives:\n"
     ]
    },
    {
     "data": {
      "text/latex": [
       "\\(   \\begin{pmatrix} 6 & 2 & 1 \\\\ 0.0 & -6.333333333333333 & -1.1666666666666667 \\\\ 0.0 & 1.6666666666666665 & 0.3333333333333333 \\\\  \\end{pmatrix} \\;\\;\\;\\;\\;   \\begin{pmatrix} 1 & 0 & 0 \\\\ -0.16666666666666666 & 1.0 & 0.0 \\\\ 0.3333333333333333 & 0.0 & 1.0 \\\\  \\end{pmatrix} \\;\\;\\;\\;\\;\\)"
      ],
      "text/plain": [
       "<IPython.core.display.Latex object>"
      ]
     },
     "metadata": {},
     "output_type": "display_data"
    },
    {
     "name": "stdout",
     "output_type": "stream",
     "text": [
      "Eliminating all elements in column  2  (except in row  2 , of course) gives:\n"
     ]
    },
    {
     "data": {
      "text/latex": [
       "\\(   \\begin{pmatrix} 6.0 & 0.0 & 0.631578947368421 \\\\ 0.0 & -6.333333333333333 & -1.1666666666666667 \\\\ 0.0 & 0.0 & 0.02631578947368418 \\\\  \\end{pmatrix} \\;\\;\\;\\;\\;   \\begin{pmatrix} 0.9473684210526315 & 0.31578947368421056 & 0.0 \\\\ -0.16666666666666666 & 1.0 & 0.0 \\\\ 0.2894736842105263 & 0.2631578947368421 & 1.0 \\\\  \\end{pmatrix} \\;\\;\\;\\;\\;\\)"
      ],
      "text/plain": [
       "<IPython.core.display.Latex object>"
      ]
     },
     "metadata": {},
     "output_type": "display_data"
    },
    {
     "name": "stdout",
     "output_type": "stream",
     "text": [
      "Finding pivot in column  3\n",
      "Swapping rows  3 ,  3  gives:\n"
     ]
    },
    {
     "data": {
      "text/latex": [
       "\\(   \\begin{pmatrix} 6.0 & 0.0 & 0.631578947368421 \\\\ 0.0 & -6.333333333333333 & -1.1666666666666667 \\\\ 0.0 & 0.0 & 0.02631578947368418 \\\\  \\end{pmatrix} \\;\\;\\;\\;\\;   \\begin{pmatrix} 0.9473684210526315 & 0.31578947368421056 & 0.0 \\\\ -0.16666666666666666 & 1.0 & 0.0 \\\\ 0.2894736842105263 & 0.2631578947368421 & 1.0 \\\\  \\end{pmatrix} \\;\\;\\;\\;\\;\\)"
      ],
      "text/plain": [
       "<IPython.core.display.Latex object>"
      ]
     },
     "metadata": {},
     "output_type": "display_data"
    },
    {
     "name": "stdout",
     "output_type": "stream",
     "text": [
      "Eliminating all elements in column  3  (except in row  3 , of course) gives:\n"
     ]
    },
    {
     "data": {
      "text/latex": [
       "\\(   \\begin{pmatrix} 6.0 & 0.0 & 0.0 \\\\ 0.0 & -6.333333333333333 & 0.0 \\\\ 0.0 & 0.0 & 0.02631578947368418 \\\\  \\end{pmatrix} \\;\\;\\;\\;\\;   \\begin{pmatrix} -6.000000000000007 & -6.000000000000006 & -24.000000000000025 \\\\ 12.666666666666682 & 12.66666666666668 & 44.333333333333385 \\\\ 0.2894736842105263 & 0.2631578947368421 & 1.0 \\\\  \\end{pmatrix} \\;\\;\\;\\;\\;\\)"
      ],
      "text/plain": [
       "<IPython.core.display.Latex object>"
      ]
     },
     "metadata": {},
     "output_type": "display_data"
    },
    {
     "name": "stdout",
     "output_type": "stream",
     "text": [
      "Now multilying rows to set diagonal elements to one:\n"
     ]
    },
    {
     "data": {
      "text/latex": [
       "\\(   \\begin{pmatrix} 1.0 & 0.0 & 0.0 \\\\ -0.0 & 1.0 & -0.0 \\\\ 0.0 & 0.0 & 1.0 \\\\  \\end{pmatrix} \\;\\;\\;\\;\\;   \\begin{pmatrix} -1.000000000000001 & -1.0000000000000009 & -4.0000000000000036 \\\\ -2.0000000000000027 & -2.000000000000002 & -7.000000000000009 \\\\ 11.000000000000012 & 10.00000000000001 & 38.00000000000004 \\\\  \\end{pmatrix} \\;\\;\\;\\;\\;\\)"
      ],
      "text/plain": [
       "<IPython.core.display.Latex object>"
      ]
     },
     "metadata": {},
     "output_type": "display_data"
    },
    {
     "name": "stdout",
     "output_type": "stream",
     "text": [
      "So, our inverse is:\n"
     ]
    },
    {
     "data": {
      "text/latex": [
       "\\(   \\begin{pmatrix} -1.000000000000001 & -1.0000000000000009 & -4.0000000000000036 \\\\ -2.0000000000000027 & -2.000000000000002 & -7.000000000000009 \\\\ 11.000000000000012 & 10.00000000000001 & 38.00000000000004 \\\\  \\end{pmatrix} \\;\\;\\;\\;\\;\\)"
      ],
      "text/plain": [
       "<IPython.core.display.Latex object>"
      ]
     },
     "metadata": {},
     "output_type": "display_data"
    },
    {
     "name": "stdout",
     "output_type": "stream",
     "text": [
      "or, sometimes prittier, rounded to 10 decimal places:\n"
     ]
    },
    {
     "data": {
      "text/latex": [
       "\\(   \\begin{pmatrix} -1.0 & -1.0 & -4.0 \\\\ -2.0 & -2.0 & -7.0 \\\\ 11.0 & 10.0 & 38.0 \\\\  \\end{pmatrix} \\;\\;\\;\\;\\;\\)"
      ],
      "text/plain": [
       "<IPython.core.display.Latex object>"
      ]
     },
     "metadata": {},
     "output_type": "display_data"
    },
    {
     "name": "stdout",
     "output_type": "stream",
     "text": [
      "Trying it out:\n"
     ]
    },
    {
     "data": {
      "text/latex": [
       "\\(   \\begin{pmatrix} 6 & 2 & 1 \\\\ 1 & -6 & -1 \\\\ -2 & 1 & 0 \\\\  \\end{pmatrix} \\;\\;\\;\\;\\;   \\begin{pmatrix} -1.000000000000001 & -1.0000000000000009 & -4.0000000000000036 \\\\ -2.0000000000000027 & -2.000000000000002 & -7.000000000000009 \\\\ 11.000000000000012 & 10.00000000000001 & 38.00000000000004 \\\\  \\end{pmatrix} \\;\\;\\;\\;\\;\\)"
      ],
      "text/plain": [
       "<IPython.core.display.Latex object>"
      ]
     },
     "metadata": {},
     "output_type": "display_data"
    },
    {
     "name": "stdout",
     "output_type": "stream",
     "text": [
      "=\n"
     ]
    },
    {
     "data": {
      "text/latex": [
       "\\(   \\begin{pmatrix} 1.0 & 0.0 & 0.0 \\\\ 0.0 & 1.0 & 0.0 \\\\ -0.0 & -0.0 & 1.0 \\\\  \\end{pmatrix} \\;\\;\\;\\;\\;\\)"
      ],
      "text/plain": [
       "<IPython.core.display.Latex object>"
      ]
     },
     "metadata": {},
     "output_type": "display_data"
    },
    {
     "data": {
      "image/png": "[encoded data removed]",
      "text/latex": [
       "$\\displaystyle \\left[ \\left[ -1.0, \\  -1.0, \\  -4.0\\right], \\  \\left[ -2.0, \\  -2.0, \\  -7.00000000000001\\right], \\  \\left[ 11.0, \\  10.0, \\  38.0\\right]\\right]$"
      ],
      "text/plain": [
       "[[-1.000000000000001, -1.0000000000000009, -4.0000000000000036], [-2.00000000000\n",
       "00027, -2.000000000000002, -7.000000000000009], [11.000000000000012, 10.00000000\n",
       "000001, 38.00000000000004]]"
      ]
     },
     "execution_count": 8,
     "metadata": {},
     "output_type": "execute_result"
    }
   ],
   "source": [
    "N33= [[6, 2, 1]\n",
    "     ,[1, -6, -1]\n",
    "     ,[-2, 1, 0]]\n",
    "\n",
    "InvertMatrix(N33)"
   ]
  },
  {
   "cell_type": "markdown",
   "metadata": {},
   "source": [
    "## Playing around with the matrix inversion program:"
   ]
  },
  {
   "cell_type": "markdown",
   "metadata": {},
   "source": [
    "What will it do with a singular matrix? Let's see:"
   ]
  },
  {
   "cell_type": "code",
   "execution_count": 9,
   "metadata": {},
   "outputs": [
    {
     "name": "stdout",
     "output_type": "stream",
     "text": [
      "Our starting point is this\n"
     ]
    },
    {
     "data": {
      "text/latex": [
       "\\(   \\begin{pmatrix} 6 & 6 & 1 \\\\ 1 & 1 & -1 \\\\ -2 & -2 & 0 \\\\  \\end{pmatrix} \\;\\;\\;\\;\\;   \\begin{pmatrix} 1 & 0 & 0 \\\\ 0 & 1 & 0 \\\\ 0 & 0 & 1 \\\\  \\end{pmatrix} \\;\\;\\;\\;\\;\\)"
      ],
      "text/plain": [
       "<IPython.core.display.Latex object>"
      ]
     },
     "metadata": {},
     "output_type": "display_data"
    },
    {
     "name": "stdout",
     "output_type": "stream",
     "text": [
      "Finding pivot in column  1\n",
      "Swapping rows  1 ,  1  gives:\n"
     ]
    },
    {
     "data": {
      "text/latex": [
       "\\(   \\begin{pmatrix} 6 & 6 & 1 \\\\ 1 & 1 & -1 \\\\ -2 & -2 & 0 \\\\  \\end{pmatrix} \\;\\;\\;\\;\\;   \\begin{pmatrix} 1 & 0 & 0 \\\\ 0 & 1 & 0 \\\\ 0 & 0 & 1 \\\\  \\end{pmatrix} \\;\\;\\;\\;\\;\\)"
      ],
      "text/plain": [
       "<IPython.core.display.Latex object>"
      ]
     },
     "metadata": {},
     "output_type": "display_data"
    },
    {
     "name": "stdout",
     "output_type": "stream",
     "text": [
      "Eliminating all elements in column  1  (except in row  1 , of course) gives:\n"
     ]
    },
    {
     "data": {
      "text/latex": [
       "\\(   \\begin{pmatrix} 6 & 6 & 1 \\\\ 0.0 & 0.0 & -1.1666666666666667 \\\\ 0.0 & 0.0 & 0.3333333333333333 \\\\  \\end{pmatrix} \\;\\;\\;\\;\\;   \\begin{pmatrix} 1 & 0 & 0 \\\\ -0.16666666666666666 & 1.0 & 0.0 \\\\ 0.3333333333333333 & 0.0 & 1.0 \\\\  \\end{pmatrix} \\;\\;\\;\\;\\;\\)"
      ],
      "text/plain": [
       "<IPython.core.display.Latex object>"
      ]
     },
     "metadata": {},
     "output_type": "display_data"
    },
    {
     "name": "stdout",
     "output_type": "stream",
     "text": [
      "Finding pivot in column  2\n",
      "Singular matrix, cannot be inverted\n"
     ]
    },
    {
     "data": {
      "image/png": "[encoded data removed]",
      "text/latex": [
       "$\\displaystyle \\left[ \\left[ 1, \\  0, \\  0\\right], \\  \\left[ -0.166666666666667, \\  1.0, \\  0.0\\right], \\  \\left[ 0.333333333333333, \\  0.0, \\  1.0\\right]\\right]$"
      ],
      "text/plain": [
       "[[1, 0, 0], [-0.16666666666666666, 1.0, 0.0], [0.3333333333333333, 0.0, 1.0]]"
      ]
     },
     "execution_count": 9,
     "metadata": {},
     "output_type": "execute_result"
    }
   ],
   "source": [
    "O33= [[6, 6, 1]\n",
    "     ,[1, 1, -1]\n",
    "     ,[-2, -2, 0]]\n",
    "\n",
    "InvertMatrix(O33)"
   ]
  },
  {
   "cell_type": "markdown",
   "metadata": {},
   "source": [
    "## Improvements\n",
    "Why not write your own version or improve the algorithm by adding functionality? One potential avenue would be to improve its accuracy by using sympy, which does arithmetic manipulations and can find solutions such as $\\sqrt{2}$ and $1/3$, rather than approximating these as $1.41...$ and $0.333...$."
   ]
  },
  {
   "cell_type": "code",
   "execution_count": null,
   "metadata": {},
   "outputs": [],
   "source": []
  },
  {
   "cell_type": "code",
   "execution_count": null,
   "metadata": {},
   "outputs": [],
   "source": []
  },
  {
   "cell_type": "code",
   "execution_count": null,
   "metadata": {},
   "outputs": [],
   "source": []
  }
 ],
 "metadata": {
  "kernelspec": {
   "display_name": "Python 3 (ipykernel)",
   "language": "python",
   "name": "python3"
  },
  "language_info": {
   "codemirror_mode": {
    "name": "ipython",
    "version": 3
   },
   "file_extension": ".py",
   "mimetype": "text/x-python",
   "name": "python",
   "nbconvert_exporter": "python",
   "pygments_lexer": "ipython3",
   "version": "3.9.7"
  }
 },
 "nbformat": 4,
 "nbformat_minor": 4
}
