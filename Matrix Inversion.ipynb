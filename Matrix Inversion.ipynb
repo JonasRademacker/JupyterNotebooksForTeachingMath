{
 "cells": [
  {
   "cell_type": "markdown",
   "metadata": {},
   "source": [
    "# Matrix Inversion\n",
    "Matrix inversion through row manipulations."
   ]
  },
  {
   "cell_type": "markdown",
   "metadata": {},
   "source": [
    "https://docs.sympy.org/latest/tutorial/calculus.html\n",
    "\n",
    "https://www.tutorialspoint.com/sympy/sympy_plotting.htm\n",
    "\n",
    "https://docs.sympy.org/latest/modules/plotting.html#plotgrid-class"
   ]
  },
  {
   "cell_type": "code",
   "execution_count": 1,
   "metadata": {
    "scrolled": true
   },
   "outputs": [
    {
     "name": "stdout",
     "output_type": "stream",
     "text": [
      "IPython console for SymPy 1.9 (Python 3.9.7-64-bit) (ground types: gmpy)\n",
      "\n",
      "These commands were executed:\n",
      ">>> from __future__ import division\n",
      ">>> from sympy import *\n",
      ">>> x, y, z, t = symbols('x y z t')\n",
      ">>> k, m, n = symbols('k m n', integer=True)\n",
      ">>> f, g, h = symbols('f g h', cls=Function)\n",
      ">>> init_printing()\n",
      "\n",
      "Documentation can be found at https://docs.sympy.org/1.9/\n",
      "\n"
     ]
    }
   ],
   "source": [
    "from sympy import *\n",
    "import matplotlib.pyplot as plt\n",
    "init_session()\n",
    "init_printing(use_unicode=True)\n",
    "\n",
    "from copy import deepcopy\n",
    "from IPython.display import display, Math, Latex\n",
    "\n",
    "# remove/comment line below to get plots in a seperate window\n",
    "%matplotlib inline"
   ]
  },
  {
   "cell_type": "markdown",
   "metadata": {},
   "source": [
    "Below, we define a few routines that manipulate matrices\n",
    "\n",
    "ShowMSimple(M1, M2, ...) simply prints the matrices M1, M2, ...\n",
    "ShowM(M1, M2, ...) does the same, but prettier (using LaTeX).\n",
    "\n",
    "RowManip(factor, startRow, targetRow, M1, M2, ...)\n",
    "adds factor * startRow to target row, for all matrices M1, M2, ....\n",
    "(make sure that these rows both exist, otherwise you'll get a runtime error)\n",
    "\n",
    "RowSwap(row1, row1, M1, M2, ...)\n",
    "swaps rows 1 and 2 in matrices M1, M2, ...\n",
    "\n",
    "MultiplyRow(factor, row, M1, M2, ..) multiplies row number row with factor.\n",
    "\n",
    "MatrixMultiplication(A, B) multiplies the matrices A and B.\n",
    "\n",
    "Note that, if you are keen on efficiency, you'd want to replace these with some inbuilt routines, but for understanding what's going on, these hand-knitted ones are better."
   ]
  },
  {
   "cell_type": "code",
   "execution_count": 2,
   "metadata": {},
   "outputs": [],
   "source": [
    "def ShowMSimple(*matrices):\n",
    "    for M in matrices:\n",
    "        for row in M:\n",
    "            print(row)\n",
    "        print('')\n",
    "\n",
    "def ShowM(*matrices):\n",
    "    string=\"\\(\";    \n",
    "    for M in matrices:\n",
    "        Mstr = \"   \\\\begin{pmatrix} \"\n",
    "        for row in M:\n",
    "            doAmp=False;\n",
    "            for a in row:\n",
    "                if doAmp: Mstr += \" & \"\n",
    "                else: doAmp = True\n",
    "                Mstr += str(a)\n",
    "            Mstr += \" \\\\\\\\ \"\n",
    "        Mstr += \" \\\\end{pmatrix} \\;\\;\\;\\;\\;\"\n",
    "        string += Mstr\n",
    "    string += \"\\)\"\n",
    "    # print(string)\n",
    "    display(Latex(string))\n",
    "\n",
    "    \n",
    "# Note: we number our matrix rows and columns 1, 2, 3... not 0, 1, 2, ...\n",
    "def RowManip(factor, startRow, targetRow, *matrices):\n",
    "    sr=startRow-1\n",
    "    tr=targetRow-1\n",
    "    for M in matrices:\n",
    "        for i in range(0, len(M[tr])):\n",
    "            M[tr][i] = M[tr][i]+factor*M[sr][i]\n",
    "            \n",
    "# Note: we number our matrix rows and columns 1, 2, 3... not 0, 1, 2, ...\n",
    "def RowSwap(row1, row2, *matrices):\n",
    "    r1 = row1-1\n",
    "    r2 = row2-1\n",
    "    for M in matrices:\n",
    "        temprow = M[r2]\n",
    "        M[r2]=M[r1]\n",
    "        M[r1]=temprow\n",
    "        \n",
    "def MultiplyRow(factor, row, *matrices):\n",
    "    r=row-1\n",
    "    for M in matrices:\n",
    "        for i in range(0, len(M[r])):\n",
    "            M[r][i] = factor*M[r][i]\n",
    "            \n",
    "def MultiplyMatrices(A, B):\n",
    "    # I'm doing no checking of dimensions - make sure you pass sensible matrices\n",
    "    # (or add a check yourself)\n",
    "    #ShowM(A,B)\n",
    "    rows = len(A)\n",
    "    cols = len(B[0])\n",
    "    C = [[0 for i in range(0,cols)] for j in range(0,rows)] # init results matrix\n",
    "    \n",
    "    for m in range(0, rows):\n",
    "        for n in range(0, cols):\n",
    "            for k in range(0, len(A[m])):\n",
    "                C[m][n] += A[m][k] * B[k][n]\n",
    "                   \n",
    "    return C\n",
    "            \n"
   ]
  },
  {
   "cell_type": "markdown",
   "metadata": {},
   "source": [
    "Below we define two matrices; first the one we want to invert, second the identity matrix."
   ]
  },
  {
   "cell_type": "code",
   "execution_count": 3,
   "metadata": {},
   "outputs": [],
   "source": [
    "M33= [[1, 2, 3]\n",
    "     ,[2, 3, 4]\n",
    "     ,[2, 1, 1]]\n",
    "\n",
    "I  = [[1, 0, 0]\n",
    "     ,[0, 1, 0]\n",
    "     ,[0, 0, 1]]"
   ]
  },
  {
   "cell_type": "code",
   "execution_count": 4,
   "metadata": {},
   "outputs": [
    {
     "data": {
      "text/latex": [
       "\\(   \\begin{pmatrix} 1 & 2 & 3 \\\\ 2 & 3 & 4 \\\\ 2 & 1 & 1 \\\\  \\end{pmatrix} \\;\\;\\;\\;\\;   \\begin{pmatrix} 1 & 0 & 0 \\\\ 0 & 1 & 0 \\\\ 0 & 0 & 1 \\\\  \\end{pmatrix} \\;\\;\\;\\;\\;\\)"
      ],
      "text/plain": [
       "<IPython.core.display.Latex object>"
      ]
     },
     "metadata": {},
     "output_type": "display_data"
    }
   ],
   "source": [
    "ShowM(M33, I)"
   ]
  },
  {
   "cell_type": "markdown",
   "metadata": {},
   "source": [
    "Or aim is to convert the first matrix into the identity matrix by row manipulations. By performing the same row manipulations on what is now the identity matrix, we'll find the inverse of the first matrix."
   ]
  },
  {
   "cell_type": "markdown",
   "metadata": {},
   "source": [
    "First we will transform the matrix \n",
    "$$ M = \n",
    "\\begin{pmatrix}\n",
    "a & b & c \\\\\n",
    "d & e & f \\\\\n",
    "g & h & k \n",
    "\\end{pmatrix}\n",
    "$$\n",
    "into the shape\n",
    "$$\n",
    "\\begin{pmatrix}\n",
    "a' & b' & c' \\\\\n",
    "0 & e' & f' \\\\\n",
    "0 & h' & k' \n",
    "\\end{pmatrix}\n",
    "$$\n",
    "(where the primes as in $c'$ is just generic for \"not necessarilty the same number than $c$\", it has nothing to do with derivatives).\n",
    "\n",
    "then to\n",
    "$$\n",
    "\\begin{pmatrix}\n",
    "a' & 0 & c'' \\\\\n",
    "0 & e'' & f'' \\\\\n",
    "0 & 0 & k'' \n",
    "\\end{pmatrix}\n",
    "$$\n",
    "\n",
    "then to\n",
    "$$\n",
    "\\begin{pmatrix}\n",
    "a' & 0 & 0 \\\\\n",
    "0 & e'' & 0 \\\\\n",
    "0 & 0 & k'' \n",
    "\\end{pmatrix}\n",
    "$$\n",
    "\n",
    "then to\n",
    "$$\n",
    "\\begin{pmatrix}\n",
    "1 & 0 & 0 \\\\\n",
    "0 & 1 & 0 \\\\\n",
    "0 & 0 & 1 \n",
    "\\end{pmatrix}\n",
    "$$\n",
    "using row manipulations. <b>By performing the identical row manipulations on the unit matrix, we will obtain the inverse of $M$.</b>\n",
    "\n",
    "The first step is therefore to add suitable multiples of the first row to the other two, to eliminate the first elements of the second and the third row.\n",
    "\n",
    "For numerical stability, it is generally recommended to swap rows so that the number with the largest magnitude in column 1 is used as the \"pivot\" (in this first step, the pivot first element the first row.)\n",
    "\n",
    "For this matrix, the algorithm would work just fine without this row-swapping step. But later when we automate this process, doing this extra step will help with numerical stability: imagine a situation where the 1 in the (1,1) position is instead a 0, or a very small number; using the row with the largest number in the 2nd column will automatically swap this such that we have a larger number in the (1,1) position and thus avoid the crash that would result from division by zero; we also reduce the likelihood of situations where the program has to multiply rows with very awkward numbers like 1/e-13, which tends to lead to numerical inaccuracies.\n",
    "\n",
    "So, mainly in anticipation of automating this algorithm later, we swap the first row and the 2nd (first with third would have worked as well):"
   ]
  },
  {
   "cell_type": "code",
   "execution_count": 22,
   "metadata": {},
   "outputs": [
    {
     "data": {
      "text/latex": [
       "\\(   \\begin{pmatrix} 2 & 3 & 4 \\\\ 1 & 2 & 3 \\\\ 2 & 1 & 1 \\\\  \\end{pmatrix} \\;\\;\\;\\;\\;   \\begin{pmatrix} 0 & 1 & 0 \\\\ 1 & 0 & 0 \\\\ 0 & 0 & 1 \\\\  \\end{pmatrix} \\;\\;\\;\\;\\;\\)"
      ],
      "text/plain": [
       "<IPython.core.display.Latex object>"
      ]
     },
     "metadata": {},
     "output_type": "display_data"
    }
   ],
   "source": [
    "M33_1 = deepcopy(M33)    ## this way we keep all intermediary results. \n",
    "I_1 = deepcopy(I)        ## which can be convenient\n",
    "\n",
    "RowSwap(2, 1, M33_1, I_1)  ## note that this routine modifies the matrices passed to it.\n",
    "ShowM(M33_1, I_1)"
   ]
  },
  {
   "cell_type": "markdown",
   "metadata": {},
   "source": [
    "Now we want to eliminate the first elements of the second and third row. \n",
    "\n",
    "To eliminate the first element of the second row, we add -1/2 times the first row to the second row:"
   ]
  },
  {
   "cell_type": "code",
   "execution_count": 6,
   "metadata": {},
   "outputs": [
    {
     "data": {
      "text/latex": [
       "\\(   \\begin{pmatrix} 2 & 3 & 4 \\\\ 0.0 & 0.5 & 1.0 \\\\ 2 & 1 & 1 \\\\  \\end{pmatrix} \\;\\;\\;\\;\\;   \\begin{pmatrix} 0 & 1 & 0 \\\\ 1.0 & -0.5 & 0.0 \\\\ 0 & 0 & 1 \\\\  \\end{pmatrix} \\;\\;\\;\\;\\;\\)"
      ],
      "text/plain": [
       "<IPython.core.display.Latex object>"
      ]
     },
     "metadata": {},
     "output_type": "display_data"
    }
   ],
   "source": [
    "M33_2 = deepcopy(M33_1)  ## These copies are just there to make debugging easier, but I recommend\n",
    "I_2 = deepcopy(I_1)      ## you do this, too, when you solve your own problem below. Otherwise,\n",
    "                         ## confusing things happen when you run the same cell, twice.\n",
    "\n",
    "RowManip(-1/2, 1, 2, M33_2, I_2)\n",
    "ShowM(M33_2, I_2)"
   ]
  },
  {
   "cell_type": "markdown",
   "metadata": {},
   "source": [
    "Let us now eliminate the first element of the third row by adding -1 times the first row to the third."
   ]
  },
  {
   "cell_type": "code",
   "execution_count": 7,
   "metadata": {},
   "outputs": [
    {
     "data": {
      "text/latex": [
       "\\(   \\begin{pmatrix} 2 & 3 & 4 \\\\ 0.0 & 0.5 & 1.0 \\\\ 0 & -2 & -3 \\\\  \\end{pmatrix} \\;\\;\\;\\;\\;   \\begin{pmatrix} 0 & 1 & 0 \\\\ 1.0 & -0.5 & 0.0 \\\\ 0 & -1 & 1 \\\\  \\end{pmatrix} \\;\\;\\;\\;\\;\\)"
      ],
      "text/plain": [
       "<IPython.core.display.Latex object>"
      ]
     },
     "metadata": {},
     "output_type": "display_data"
    }
   ],
   "source": [
    "M33_3 = deepcopy(M33_2)\n",
    "I_3 = deepcopy(I_2)\n",
    "\n",
    "RowManip(-1, 1, 3, M33_3, I_3)\n",
    "ShowM(M33_3, I_3)"
   ]
  },
  {
   "cell_type": "markdown",
   "metadata": {},
   "source": [
    "Because the first elements of the second and third row are 0, can now add any multiple of the second or third row to any other row without changing the first column, $\\begin{pmatrix} 2\\\\0\\\\0\\end{pmatrix}$.\n",
    "\n",
    "With this in mind, we can now concentrate on the the second column. Our aim in this next step is to transform the matrix to a shape like this:\n",
    "\n",
    "$\n",
    "\\begin{pmatrix}\n",
    "2 & 0 & c \\\\\n",
    "0 & d & e \\\\\n",
    "0 & 0 & g \n",
    "\\end{pmatrix}\n",
    "$\n",
    "\n",
    "where, now, \"d\" is our \"pivot\". For numerical stability, it is generally recommended to use the number with the largest magnitude available as the \"pivot\", so let's start by swapping the second and third so that \"-2\" in the becomes our \"pivot\".\n",
    "\n",
    "Note that, on this matrix, the algorithm would work just fine without this row-swapping step. But especially later when we automate this process, doing this extra step will help with numerical stability: imagine a situation where the 0.5 in the (2,2) position is instead a 0, or a very small number; using the row with the largest number in the 2nd column will automatically avoid the crash that would result from division by zero, and we also reduce the likelihood of situations where the program has to multiply rows with very awkward numbers like 1/e-13, which tends to lead to numerical inaccuracies."
   ]
  },
  {
   "cell_type": "code",
   "execution_count": 8,
   "metadata": {},
   "outputs": [
    {
     "data": {
      "text/latex": [
       "\\(   \\begin{pmatrix} 2 & 3 & 4 \\\\ 0 & -2 & -3 \\\\ 0.0 & 0.5 & 1.0 \\\\  \\end{pmatrix} \\;\\;\\;\\;\\;   \\begin{pmatrix} 0 & 1 & 0 \\\\ 0 & -1 & 1 \\\\ 1.0 & -0.5 & 0.0 \\\\  \\end{pmatrix} \\;\\;\\;\\;\\;\\)"
      ],
      "text/plain": [
       "<IPython.core.display.Latex object>"
      ]
     },
     "metadata": {},
     "output_type": "display_data"
    }
   ],
   "source": [
    "M33_4 = deepcopy(M33_3)\n",
    "I_4 = deepcopy(I_3)\n",
    "\n",
    "RowSwap(2, 3, M33_4, I_4)\n",
    "ShowM(M33_4, I_4)"
   ]
  },
  {
   "cell_type": "markdown",
   "metadata": {},
   "source": [
    "Let's now eliminate (set to zero through row manipulations) all elements in the 2nd column, except our \"pivot\". To achieve this, we add 1/4 of the second row to the third, and 3/2 of the second row to the first:"
   ]
  },
  {
   "cell_type": "code",
   "execution_count": 9,
   "metadata": {},
   "outputs": [
    {
     "data": {
      "text/latex": [
       "\\(   \\begin{pmatrix} 2.0 & 0.0 & -0.5 \\\\ 0 & -2 & -3 \\\\ 0.0 & 0.0 & 0.25 \\\\  \\end{pmatrix} \\;\\;\\;\\;\\;   \\begin{pmatrix} 0.0 & -0.5 & 1.5 \\\\ 0 & -1 & 1 \\\\ 1.0 & -0.75 & 0.25 \\\\  \\end{pmatrix} \\;\\;\\;\\;\\;\\)"
      ],
      "text/plain": [
       "<IPython.core.display.Latex object>"
      ]
     },
     "metadata": {},
     "output_type": "display_data"
    }
   ],
   "source": [
    "M33_5 = deepcopy(M33_4)\n",
    "I_5 = deepcopy(I_4)\n",
    "\n",
    "RowManip( 1/4, 2, 3, M33_5, I_5)\n",
    "RowManip( 3/2, 2, 1, M33_5, I_5)\n",
    "ShowM(M33_5, I_5)"
   ]
  },
  {
   "cell_type": "markdown",
   "metadata": {},
   "source": [
    "Now we use the last row to eliminate the 3rd elements of the other rows."
   ]
  },
  {
   "cell_type": "code",
   "execution_count": 10,
   "metadata": {},
   "outputs": [
    {
     "data": {
      "text/latex": [
       "\\(   \\begin{pmatrix} 2.0 & 0.0 & 0.0 \\\\ 0.0 & -2.0 & 0.0 \\\\ 0.0 & 0.0 & 0.25 \\\\  \\end{pmatrix} \\;\\;\\;\\;\\;   \\begin{pmatrix} 2.0 & -2.0 & 2.0 \\\\ 12.0 & -10.0 & 4.0 \\\\ 1.0 & -0.75 & 0.25 \\\\  \\end{pmatrix} \\;\\;\\;\\;\\;\\)"
      ],
      "text/plain": [
       "<IPython.core.display.Latex object>"
      ]
     },
     "metadata": {},
     "output_type": "display_data"
    }
   ],
   "source": [
    "M33_6 = deepcopy(M33_5)\n",
    "I_6 = deepcopy(I_5)\n",
    "\n",
    "RowManip( 2, 3, 1, M33_6, I_6)\n",
    "RowManip( 12, 3, 2, M33_6, I_6)\n",
    "ShowM(M33_6, I_6)"
   ]
  },
  {
   "cell_type": "markdown",
   "metadata": {},
   "source": [
    "To finish it all off, we multiply the rows so we get ones as the diagonal elements of the matrix on the right."
   ]
  },
  {
   "cell_type": "code",
   "execution_count": 11,
   "metadata": {},
   "outputs": [
    {
     "data": {
      "text/latex": [
       "\\(   \\begin{pmatrix} 1.0 & 0.0 & 0.0 \\\\ -0.0 & 1.0 & -0.0 \\\\ 0.0 & 0.0 & 1.0 \\\\  \\end{pmatrix} \\;\\;\\;\\;\\;   \\begin{pmatrix} 1.0 & -1.0 & 1.0 \\\\ -6.0 & 5.0 & -2.0 \\\\ 4.0 & -3.0 & 1.0 \\\\  \\end{pmatrix} \\;\\;\\;\\;\\;\\)"
      ],
      "text/plain": [
       "<IPython.core.display.Latex object>"
      ]
     },
     "metadata": {},
     "output_type": "display_data"
    }
   ],
   "source": [
    "M33_7 = deepcopy(M33_6)\n",
    "I_7 = deepcopy(I_6)\n",
    "\n",
    "\n",
    "MultiplyRow( 1/2, 1, M33_7, I_7)\n",
    "MultiplyRow(-1/2, 2, M33_7, I_7)\n",
    "MultiplyRow(  4 , 3, M33_7, I_7)\n",
    "ShowM(M33_7, I_7)"
   ]
  },
  {
   "cell_type": "markdown",
   "metadata": {},
   "source": [
    "Now let's see if it worked:"
   ]
  },
  {
   "cell_type": "code",
   "execution_count": 12,
   "metadata": {},
   "outputs": [
    {
     "data": {
      "text/latex": [
       "\\(   \\begin{pmatrix} 1 & 2 & 3 \\\\ 2 & 3 & 4 \\\\ 2 & 1 & 1 \\\\  \\end{pmatrix} \\;\\;\\;\\;\\;   \\begin{pmatrix} 1.0 & -1.0 & 1.0 \\\\ -6.0 & 5.0 & -2.0 \\\\ 4.0 & -3.0 & 1.0 \\\\  \\end{pmatrix} \\;\\;\\;\\;\\;\\)"
      ],
      "text/plain": [
       "<IPython.core.display.Latex object>"
      ]
     },
     "metadata": {},
     "output_type": "display_data"
    },
    {
     "data": {
      "text/latex": [
       "\\(   \\begin{pmatrix} 1.0 & 0.0 & 0.0 \\\\ 0.0 & 1.0 & 0.0 \\\\ 0.0 & 0.0 & 1.0 \\\\  \\end{pmatrix} \\;\\;\\;\\;\\;\\)"
      ],
      "text/plain": [
       "<IPython.core.display.Latex object>"
      ]
     },
     "metadata": {},
     "output_type": "display_data"
    }
   ],
   "source": [
    "C = MultiplyMatrices(M33, I_7)\n",
    "ShowM(M33, I_7)\n",
    "ShowM(C)"
   ]
  },
  {
   "cell_type": "markdown",
   "metadata": {},
   "source": [
    "# Over to you"
   ]
  },
  {
   "cell_type": "markdown",
   "metadata": {},
   "source": [
    "Can you find the inverse to the matrix shown below?"
   ]
  },
  {
   "cell_type": "code",
   "execution_count": 14,
   "metadata": {},
   "outputs": [
    {
     "data": {
      "text/latex": [
       "\\(   \\begin{pmatrix} 6 & 2 & 1 \\\\ 1 & -6 & -1 \\\\ -2 & 1 & 0 \\\\  \\end{pmatrix} \\;\\;\\;\\;\\;\\)"
      ],
      "text/plain": [
       "<IPython.core.display.Latex object>"
      ]
     },
     "metadata": {},
     "output_type": "display_data"
    }
   ],
   "source": [
    "N33= [[6, 2, 1]\n",
    "     ,[1, -6, -1]\n",
    "     ,[-2, 1, 0]]\n",
    "\n",
    "ShowM(N33)"
   ]
  },
  {
   "cell_type": "markdown",
   "metadata": {},
   "source": [
    "Let's start by creating our own unit matrix"
   ]
  },
  {
   "cell_type": "code",
   "execution_count": 16,
   "metadata": {},
   "outputs": [
    {
     "data": {
      "text/latex": [
       "\\(   \\begin{pmatrix} 6 & 2 & 1 \\\\ 1 & -6 & -1 \\\\ -2 & 1 & 0 \\\\  \\end{pmatrix} \\;\\;\\;\\;\\;   \\begin{pmatrix} 1 & 0 & 0 \\\\ 0 & 1 & 0 \\\\ 0 & 0 & 1 \\\\  \\end{pmatrix} \\;\\;\\;\\;\\;\\)"
      ],
      "text/plain": [
       "<IPython.core.display.Latex object>"
      ]
     },
     "metadata": {},
     "output_type": "display_data"
    }
   ],
   "source": [
    "myI =[[1, 0, 0]\n",
    "     ,[0, 1, 0]\n",
    "     ,[0, 0, 1]]\n",
    "\n",
    "ShowM(N33, myI)"
   ]
  },
  {
   "cell_type": "markdown",
   "metadata": {},
   "source": [
    "The next step is your first row manipulation to solve this problem. The cell below is incomplet."
   ]
  },
  {
   "cell_type": "code",
   "execution_count": 21,
   "metadata": {},
   "outputs": [
    {
     "ename": "SyntaxError",
     "evalue": "invalid syntax (3618107272.py, line 4)",
     "output_type": "error",
     "traceback": [
      "\u001b[0;36m  File \u001b[0;32m\"/var/folders/cq/f3jnc45d5xg358rwbhdvrfg80000gq/T/ipykernel_99657/3618107272.py\"\u001b[0;36m, line \u001b[0;32m4\u001b[0m\n\u001b[0;31m    RowManip(   , 1, 2, N33_1, myI_1)  # enter the missing number (hint: it's -1/6)\u001b[0m\n\u001b[0m                ^\u001b[0m\n\u001b[0;31mSyntaxError\u001b[0m\u001b[0;31m:\u001b[0m invalid syntax\n"
     ]
    }
   ],
   "source": [
    "N33_1 = deepcopy(N33)\n",
    "myI_1 = deepcopy(myI)\n",
    "\n",
    "RowManip(   , 1, 2, N33_1, myI_1)  # enter the missing number (hint: it's -1/6)\n",
    "\n",
    "ShowM(N33_1, myI_1)"
   ]
  },
  {
   "cell_type": "markdown",
   "metadata": {},
   "source": [
    "That got us the a zero in the 2nd row, first column. Now let's get a zero in the 3rd row, first column:"
   ]
  },
  {
   "cell_type": "code",
   "execution_count": 20,
   "metadata": {},
   "outputs": [
    {
     "ename": "SyntaxError",
     "evalue": "invalid syntax (4167257793.py, line 4)",
     "output_type": "error",
     "traceback": [
      "\u001b[0;36m  File \u001b[0;32m\"/var/folders/cq/f3jnc45d5xg358rwbhdvrfg80000gq/T/ipykernel_99657/4167257793.py\"\u001b[0;36m, line \u001b[0;32m4\u001b[0m\n\u001b[0;31m    RowManip(  , 1, 3, N33_2, myI_2)  # enter the missing number (now it's really over to you)\u001b[0m\n\u001b[0m               ^\u001b[0m\n\u001b[0;31mSyntaxError\u001b[0m\u001b[0;31m:\u001b[0m invalid syntax\n"
     ]
    }
   ],
   "source": [
    "N33_2 = deepcopy(N33_1)\n",
    "myI_2 = deepcopy(myI_1)\n",
    "\n",
    "RowManip(  , 1, 3, N33_2, myI_2)  # enter the missing number (now it's really over to you)\n",
    "\n",
    "ShowM(N33_2, myI_2)"
   ]
  },
  {
   "cell_type": "code",
   "execution_count": null,
   "metadata": {},
   "outputs": [],
   "source": []
  }
 ],
 "metadata": {
  "kernelspec": {
   "display_name": "Python 3 (ipykernel)",
   "language": "python",
   "name": "python3"
  },
  "language_info": {
   "codemirror_mode": {
    "name": "ipython",
    "version": 3
   },
   "file_extension": ".py",
   "mimetype": "text/x-python",
   "name": "python",
   "nbconvert_exporter": "python",
   "pygments_lexer": "ipython3",
   "version": "3.9.7"
  }
 },
 "nbformat": 4,
 "nbformat_minor": 4
}
