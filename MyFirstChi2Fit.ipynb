{
 "cells": [
  {
   "cell_type": "markdown",
   "metadata": {
    "collapsed": true
   },
   "source": [
    "# A hand-made chi2 fit (incomplete - edit where indicated to make it work)"
   ]
  },
  {
   "cell_type": "markdown",
   "metadata": {},
   "source": [
    "You can view these sheets on github, but to modify them, you'll need to a version of jupyter. How to install it is explained here: http://jupyter.readthedocs.io/en/latest/install.html.\n",
    "If you want to use the functions defined below to generate your own distributions, you need to compile them first. Easiest done by clicking (once have opened this as jupyter notebook): Kernel -> Restart & Run All. (Alternatively, you can use the >| button to click your way through, but you need to start from the beginning to have access to all functions defined on this sheet). Have fun!"
   ]
  },
  {
   "cell_type": "markdown",
   "metadata": {},
   "source": [
    "Let's generate a few distributions and calculate the mean, mode, median for each.\n",
    "Start by importing the relevant libraries"
   ]
  },
  {
   "cell_type": "code",
   "execution_count": 1,
   "metadata": {},
   "outputs": [],
   "source": [
    "from math import *\n",
    "import numpy as np\n",
    "import matplotlib.mlab as mlab\n",
    "import matplotlib.pyplot as plt"
   ]
  },
  {
   "cell_type": "markdown",
   "metadata": {},
   "source": [
    "Let's generate a distribution we want to fit. We take an exponential"
   ]
  },
  {
   "cell_type": "code",
   "execution_count": 2,
   "metadata": {},
   "outputs": [],
   "source": [
    "def generateExpo(tau=1, Nevents=10000, randomSeed=-1):\n",
    "    if randomSeed >=0: np.random.seed(randomSeed)\n",
    "    expoSample = np.random.exponential(scale = tau, size=Nevents)\n",
    "    return expoSample"
   ]
  },
  {
   "cell_type": "code",
   "execution_count": 3,
   "metadata": {},
   "outputs": [
    {
     "data": {
      "image/png": "[encoded data removed]",
      "text/plain": [
       "<Figure size 432x288 with 1 Axes>"
      ]
     },
     "metadata": {},
     "output_type": "display_data"
    }
   ],
   "source": [
    "Nevents=1000\n",
    "Nbins=30\n",
    "histoRange=(0,4)\n",
    "expoSample = generateExpo(1.5, Nevents)\n",
    "timeHisto=plt.hist(expoSample, Nbins, histoRange) # make histogram\n",
    "plt.show()"
   ]
  },
  {
   "cell_type": "markdown",
   "metadata": {},
   "source": [
    "Define the theoretical distribution"
   ]
  },
  {
   "cell_type": "code",
   "execution_count": 4,
   "metadata": {},
   "outputs": [],
   "source": [
    "def expo(t, tau):\n",
    "    return np.exp(-t/tau)/tau\n",
    "def expoIntegral(t, tau, integRange=(0.0, -999.9)):\n",
    "    lower=np.exp(-integRange[0]/tau)\n",
    "    upper=0\n",
    "    if integRange[1] > -999.8: upper = np.exp(-integRange[1]/tau)\n",
    "    return lower-upper\n",
    "def expoNorm(t, tau, integRange):\n",
    "    return expo(t, tau)/expoIntegral(t, tau, integRange)"
   ]
  },
  {
   "cell_type": "markdown",
   "metadata": {},
   "source": [
    "We could continue with these  functions, but it turns out to be more convenient to cast them into a class. The reason is that it allows us to write routines like draw(), below, that will plot any function, no matter how many parameters, as long as the class has the __call__ and the mini, maxi routines defined."
   ]
  },
  {
   "cell_type": "code",
   "execution_count": 5,
   "metadata": {},
   "outputs": [],
   "source": [
    "class expoClass:\n",
    "    def __init__(self, tau=1.5, funcRange=(0.0, 100)):\n",
    "        self._tau=tau\n",
    "        self._range=funcRange\n",
    "    def setTau(self,tau):\n",
    "        self._tau=tau\n",
    "    def interval(self):\n",
    "        return self._range\n",
    "    def mini(self):\n",
    "        return self._range[0]\n",
    "    def maxi(self):\n",
    "        return self._range[1]\n",
    "    def range(self):\n",
    "        return self._range\n",
    "    def __call__(self, t):\n",
    "        #return expo(t, self._tau)\n",
    "        return expoNorm(t, self._tau, self._range)"
   ]
  },
  {
   "cell_type": "markdown",
   "metadata": {},
   "source": [
    "...let's create an instance of our expoClass:"
   ]
  },
  {
   "cell_type": "code",
   "execution_count": 6,
   "metadata": {},
   "outputs": [],
   "source": [
    "timeFct = expoClass(1.6, (0, 4))  \n",
    "# timeFct is now defined such that timeFct(t) will call whetever is in \n",
    "# the __call__ routine of expoClass, currently return expo(t, self._tau)"
   ]
  },
  {
   "cell_type": "markdown",
   "metadata": {},
   "source": [
    "... and draw it:"
   ]
  },
  {
   "cell_type": "code",
   "execution_count": 7,
   "metadata": {},
   "outputs": [
    {
     "data": {
      "image/png": "[encoded data removed]",
      "text/plain": [
       "<Figure size 432x288 with 1 Axes>"
      ]
     },
     "metadata": {},
     "output_type": "display_data"
    }
   ],
   "source": [
    "def draw(somethingLikeExpoClass, scale=1, numPoints=1000):\n",
    "    mini=somethingLikeExpoClass.mini()\n",
    "    maxi=somethingLikeExpoClass.maxi()\n",
    "    tArray=np.arange(mini, maxi, (maxi-mini)/numPoints)\n",
    "    plt.plot(tArray,scale*somethingLikeExpoClass(tArray))\n",
    "\n",
    "draw(timeFct)"
   ]
  },
  {
   "cell_type": "markdown",
   "metadata": {},
   "source": [
    "Now we define a function that calculates the chi2 between the histogram and the theoretical distribution\n",
    "# edit the function below to calculate the chi-squared"
   ]
  },
  {
   "cell_type": "code",
   "execution_count": 12,
   "metadata": {},
   "outputs": [],
   "source": [
    "def chi2(h, functionClass):\n",
    "    ## Note that the theoretical function is normalised to one. \n",
    "    ## To get the expected number of events, we \n",
    "    ## will need the total number of events, and the binwidth.\n",
    "    N=fsum(h[0])\n",
    "    chi2sum=0\n",
    "    for Nbin, bin_low, bin_up in zip(h[0], h[1], h[1][1:]):\n",
    "        binCentre=0.5*(bin_low + bin_up)\n",
    "        binWidth= bin_up - bin_low\n",
    "        #theory=N*binWidth*functionClass(binCentre) # <<<< uncomment this line and make sure you understand it\n",
    "        measured=Nbin\n",
    "        # error_squared= # <<<<<<<<<<<<<<<<<<<<<<< uncomment and complete this line\n",
    "        # chi2sum +=     # <<<<<<<<<<<<<<<<<<<<<<< uncomment and complete this line\n",
    "    return np.random.rand()*functionClass(binCentre) + 1 # <<<<<<<<<<<<<<<<<<<<<<< remove this line!!!!\n",
    "#    return chi2sum      # <<<<<<<<<<<<<<<<<<<<<<< uncomment this line\n",
    "        "
   ]
  },
  {
   "cell_type": "markdown",
   "metadata": {},
   "source": [
    "Now we have all the ingredients to calculate the chi2. Let's do it:"
   ]
  },
  {
   "cell_type": "code",
   "execution_count": 13,
   "metadata": {},
   "outputs": [
    {
     "data": {
      "text/plain": [
       "array([1.03295308, 1.03298064, 1.0330082 , 1.03303575, 1.03306331,\n",
       "       1.03309087, 1.03311842, 1.03314597, 1.03317353, 1.03320108,\n",
       "       1.03322863, 1.03325618, 1.03328373, 1.03331128, 1.03333883,\n",
       "       1.03336637, 1.03339392, 1.03342147, 1.03344901, 1.03347655,\n",
       "       1.0335041 , 1.03353164, 1.03355918, 1.03358672, 1.03361426,\n",
       "       1.0336418 , 1.03366933, 1.03369687, 1.03372441, 1.03375194,\n",
       "       1.03377947, 1.03380701, 1.03383454, 1.03386207, 1.0338896 ,\n",
       "       1.03391712, 1.03394465, 1.03397218, 1.0339997 , 1.03402723,\n",
       "       1.03405475, 1.03408227, 1.03410979, 1.03413731, 1.03416483,\n",
       "       1.03419235, 1.03421986, 1.03424738, 1.03427489, 1.0343024 ,\n",
       "       1.03432992, 1.03435743, 1.03438494, 1.03441244, 1.03443995,\n",
       "       1.03446746, 1.03449496, 1.03452246, 1.03454996, 1.03457746,\n",
       "       1.03460496, 1.03463246, 1.03465996, 1.03468745, 1.03471495,\n",
       "       1.03474244, 1.03476993, 1.03479742, 1.03482491, 1.03485239,\n",
       "       1.03487988, 1.03490736, 1.03493485, 1.03496233, 1.03498981,\n",
       "       1.03501729, 1.03504476, 1.03507224, 1.03509971, 1.03512719,\n",
       "       1.03515466, 1.03518213, 1.0352096 , 1.03523706, 1.03526453,\n",
       "       1.03529199, 1.03531945, 1.03534692, 1.03537437, 1.03540183,\n",
       "       1.03542929, 1.03545674, 1.0354842 , 1.03551165, 1.0355391 ,\n",
       "       1.03556654, 1.03559399, 1.03562144, 1.03564888, 1.03567632,\n",
       "       1.03570376, 1.0357312 , 1.03575864, 1.03578607, 1.0358135 ,\n",
       "       1.03584093, 1.03586836, 1.03589579, 1.03592322, 1.03595064,\n",
       "       1.03597807, 1.03600549, 1.03603291, 1.03606032, 1.03608774,\n",
       "       1.03611515, 1.03614257, 1.03616998, 1.03619739, 1.03622479,\n",
       "       1.0362522 , 1.0362796 , 1.036307  , 1.0363344 , 1.0363618 ,\n",
       "       1.03638919, 1.03641659, 1.03644398, 1.03647137, 1.03649876,\n",
       "       1.03652614, 1.03655353, 1.03658091, 1.03660829, 1.03663567,\n",
       "       1.03666304, 1.03669042, 1.03671779, 1.03674516, 1.03677253,\n",
       "       1.0367999 , 1.03682726, 1.03685462, 1.03688198, 1.03690934,\n",
       "       1.0369367 , 1.03696405, 1.03699141, 1.03701876, 1.0370461 ,\n",
       "       1.03707345, 1.03710079, 1.03712814, 1.03715548, 1.03718281,\n",
       "       1.03721015, 1.03723748, 1.03726481, 1.03729214, 1.03731947,\n",
       "       1.03734679, 1.03737412, 1.03740144, 1.03742876, 1.03745607,\n",
       "       1.03748339, 1.0375107 , 1.03753801, 1.03756531, 1.03759262,\n",
       "       1.03761992, 1.03764722, 1.03767452, 1.03770182, 1.03772911,\n",
       "       1.0377564 , 1.03778369, 1.03781098, 1.03783826, 1.03786554,\n",
       "       1.03789282, 1.0379201 , 1.03794738, 1.03797465, 1.03800192,\n",
       "       1.03802919, 1.03805645, 1.03808372, 1.03811098, 1.03813824,\n",
       "       1.03816549, 1.03819275, 1.03822   , 1.03824725, 1.0382745 ,\n",
       "       1.03830174, 1.03832898, 1.03835622, 1.03838346, 1.03841069,\n",
       "       1.03843792, 1.03846515, 1.03849238, 1.03851961, 1.03854683,\n",
       "       1.03857405, 1.03860126, 1.03862848, 1.03865569, 1.0386829 ,\n",
       "       1.03871011, 1.03873731, 1.03876451, 1.03879171, 1.03881891,\n",
       "       1.0388461 , 1.03887329, 1.03890048, 1.03892767, 1.03895485,\n",
       "       1.03898203, 1.03900921, 1.03903639, 1.03906356, 1.03909073,\n",
       "       1.0391179 , 1.03914507, 1.03917223, 1.03919939, 1.03922655,\n",
       "       1.0392537 , 1.03928085, 1.039308  , 1.03933515, 1.03936229,\n",
       "       1.03938943, 1.03941657, 1.03944371, 1.03947084, 1.03949797,\n",
       "       1.0395251 , 1.03955222, 1.03957934, 1.03960646, 1.03963358,\n",
       "       1.03966069, 1.0396878 , 1.03971491, 1.03974202, 1.03976912,\n",
       "       1.03979622, 1.03982332, 1.03985041, 1.0398775 , 1.03990459,\n",
       "       1.03993167, 1.03995876, 1.03998584, 1.04001291, 1.04003999,\n",
       "       1.04006706, 1.04009413, 1.04012119, 1.04014825, 1.04017531,\n",
       "       1.04020237, 1.04022942, 1.04025647, 1.04028352, 1.04031057,\n",
       "       1.04033761, 1.04036465, 1.04039168, 1.04041872, 1.04044575,\n",
       "       1.04047277, 1.0404998 , 1.04052682, 1.04055384, 1.04058085,\n",
       "       1.04060786, 1.04063487, 1.04066188, 1.04068888, 1.04071588,\n",
       "       1.04074288, 1.04076987, 1.04079686, 1.04082385, 1.04085083,\n",
       "       1.04087782, 1.04090479, 1.04093177, 1.04095874, 1.04098571,\n",
       "       1.04101268, 1.04103964, 1.0410666 , 1.04109356, 1.04112051,\n",
       "       1.04114746, 1.04117441, 1.04120135, 1.04122829, 1.04125523,\n",
       "       1.04128217, 1.0413091 , 1.04133603, 1.04136295, 1.04138987,\n",
       "       1.04141679, 1.04144371, 1.04147062, 1.04149753, 1.04152444,\n",
       "       1.04155134, 1.04157824, 1.04160513, 1.04163203, 1.04165892,\n",
       "       1.0416858 , 1.04171269, 1.04173957, 1.04176644, 1.04179332,\n",
       "       1.04182019, 1.04184706, 1.04187392, 1.04190078, 1.04192764,\n",
       "       1.04195449, 1.04198134, 1.04200819, 1.04203503, 1.04206187,\n",
       "       1.04208871, 1.04211554, 1.04214237, 1.0421692 , 1.04219603,\n",
       "       1.04222285, 1.04224966, 1.04227648, 1.04230329, 1.04233009,\n",
       "       1.0423569 , 1.0423837 , 1.04241049, 1.04243729, 1.04246408,\n",
       "       1.04249086, 1.04251765, 1.04254443, 1.0425712 , 1.04259798,\n",
       "       1.04262475, 1.04265151, 1.04267827, 1.04270503, 1.04273179,\n",
       "       1.04275854, 1.04278529, 1.04281203, 1.04283878, 1.04286551,\n",
       "       1.04289225, 1.04291898, 1.04294571, 1.04297243, 1.04299915,\n",
       "       1.04302587, 1.04305258, 1.04307929, 1.043106  , 1.0431327 ,\n",
       "       1.0431594 , 1.0431861 , 1.04321279, 1.04323948, 1.04326616,\n",
       "       1.04329285, 1.04331952, 1.0433462 , 1.04337287, 1.04339954,\n",
       "       1.0434262 , 1.04345286, 1.04347952, 1.04350617, 1.04353282,\n",
       "       1.04355946, 1.04358611, 1.04361274, 1.04363938, 1.04366601,\n",
       "       1.04369264, 1.04371926, 1.04374588, 1.0437725 , 1.04379911,\n",
       "       1.04382572, 1.04385232, 1.04387893, 1.04390552, 1.04393212,\n",
       "       1.04395871, 1.0439853 , 1.04401188, 1.04403846, 1.04406504,\n",
       "       1.04409161, 1.04411818, 1.04414474, 1.0441713 , 1.04419786,\n",
       "       1.04422441, 1.04425096, 1.04427751, 1.04430405, 1.04433059,\n",
       "       1.04435712, 1.04438365, 1.04441018, 1.04443671, 1.04446323,\n",
       "       1.04448974, 1.04451625, 1.04454276, 1.04456927, 1.04459577,\n",
       "       1.04462226, 1.04464876, 1.04467525, 1.04470173, 1.04472821,\n",
       "       1.04475469, 1.04478116, 1.04480763, 1.0448341 , 1.04486056,\n",
       "       1.04488702, 1.04491348, 1.04493993, 1.04496637, 1.04499282,\n",
       "       1.04501926, 1.04504569, 1.04507212, 1.04509855, 1.04512497,\n",
       "       1.04515139, 1.04517781, 1.04520422, 1.04523063, 1.04525703,\n",
       "       1.04528343, 1.04530983, 1.04533622, 1.04536261, 1.04538899,\n",
       "       1.04541537, 1.04544175, 1.04546812, 1.04549449, 1.04552086,\n",
       "       1.04554722, 1.04557357, 1.04559993, 1.04562628, 1.04565262,\n",
       "       1.04567896, 1.0457053 , 1.04573163, 1.04575796, 1.04578429,\n",
       "       1.04581061, 1.04583692, 1.04586324, 1.04588954, 1.04591585,\n",
       "       1.04594215, 1.04596845, 1.04599474, 1.04602103, 1.04604731,\n",
       "       1.04607359, 1.04609987, 1.04612614, 1.04615241, 1.04617868,\n",
       "       1.04620494, 1.04623119, 1.04625745, 1.04628369, 1.04630994,\n",
       "       1.04633618, 1.04636241, 1.04638865, 1.04641487, 1.0464411 ,\n",
       "       1.04646732, 1.04649353, 1.04651974, 1.04654595, 1.04657215,\n",
       "       1.04659835, 1.04662455, 1.04665074, 1.04667693, 1.04670311,\n",
       "       1.04672929, 1.04675546, 1.04678163, 1.0468078 , 1.04683396,\n",
       "       1.04686012, 1.04688627, 1.04691242, 1.04693856, 1.0469647 ,\n",
       "       1.04699084, 1.04701697, 1.0470431 , 1.04706923, 1.04709535,\n",
       "       1.04712146, 1.04714757, 1.04717368, 1.04719979, 1.04722588,\n",
       "       1.04725198, 1.04727807, 1.04730416, 1.04733024, 1.04735632,\n",
       "       1.04738239, 1.04740846, 1.04743453, 1.04746059, 1.04748664,\n",
       "       1.0475127 , 1.04753874, 1.04756479, 1.04759083, 1.04761686,\n",
       "       1.0476429 , 1.04766892, 1.04769495, 1.04772096, 1.04774698,\n",
       "       1.04777299, 1.04779899, 1.04782499, 1.04785099, 1.04787698,\n",
       "       1.04790297, 1.04792896, 1.04795494, 1.04798091, 1.04800688,\n",
       "       1.04803285, 1.04805881, 1.04808477, 1.04811073, 1.04813668,\n",
       "       1.04816262, 1.04818856, 1.0482145 , 1.04824043, 1.04826636,\n",
       "       1.04829228, 1.0483182 , 1.04834412, 1.04837003, 1.04839594,\n",
       "       1.04842184, 1.04844773, 1.04847363, 1.04849952, 1.0485254 ,\n",
       "       1.04855128, 1.04857716, 1.04860303, 1.0486289 , 1.04865476,\n",
       "       1.04868062, 1.04870647, 1.04873232, 1.04875816, 1.04878401,\n",
       "       1.04880984, 1.04883567, 1.0488615 , 1.04888732, 1.04891314,\n",
       "       1.04893896, 1.04896477, 1.04899057, 1.04901637, 1.04904217,\n",
       "       1.04906796, 1.04909375, 1.04911953, 1.04914531, 1.04917108,\n",
       "       1.04919685, 1.04922262, 1.04924838, 1.04927414, 1.04929989,\n",
       "       1.04932564, 1.04935138, 1.04937712, 1.04940285, 1.04942858,\n",
       "       1.04945431, 1.04948003, 1.04950574, 1.04953145, 1.04955716,\n",
       "       1.04958286, 1.04960856, 1.04963426, 1.04965995, 1.04968563,\n",
       "       1.04971131, 1.04973699, 1.04976266, 1.04978832, 1.04981399,\n",
       "       1.04983964, 1.0498653 , 1.04989095, 1.04991659, 1.04994223,\n",
       "       1.04996786, 1.04999349, 1.05001912, 1.05004474, 1.05007036,\n",
       "       1.05009597, 1.05012158, 1.05014718, 1.05017278, 1.05019837,\n",
       "       1.05022396, 1.05024955, 1.05027513, 1.0503007 , 1.05032628,\n",
       "       1.05035184, 1.0503774 , 1.05040296, 1.05042852, 1.05045406,\n",
       "       1.05047961, 1.05050515, 1.05053068, 1.05055621, 1.05058174,\n",
       "       1.05060726, 1.05063277, 1.05065828, 1.05068379, 1.05070929,\n",
       "       1.05073479, 1.05076029, 1.05078577, 1.05081126, 1.05083674,\n",
       "       1.05086221, 1.05088768, 1.05091315, 1.05093861, 1.05096406,\n",
       "       1.05098952, 1.05101496, 1.05104041, 1.05106584, 1.05109128,\n",
       "       1.0511167 , 1.05114213, 1.05116755, 1.05119296, 1.05121837,\n",
       "       1.05124378, 1.05126918, 1.05129457, 1.05131996, 1.05134535,\n",
       "       1.05137073, 1.05139611, 1.05142148, 1.05144685, 1.05147221,\n",
       "       1.05149757, 1.05152292, 1.05154827, 1.05157362, 1.05159896,\n",
       "       1.05162429, 1.05164962, 1.05167495, 1.05170027, 1.05172558,\n",
       "       1.0517509 , 1.0517762 , 1.05180151, 1.0518268 , 1.0518521 ,\n",
       "       1.05187738, 1.05190267, 1.05192794, 1.05195322, 1.05197849,\n",
       "       1.05200375, 1.05202901, 1.05205427, 1.05207952, 1.05210476,\n",
       "       1.05213   , 1.05215524, 1.05218047, 1.0522057 , 1.05223092,\n",
       "       1.05225613, 1.05228135, 1.05230655, 1.05233176, 1.05235696,\n",
       "       1.05238215, 1.05240734, 1.05243252, 1.0524577 , 1.05248287,\n",
       "       1.05250804, 1.05253321, 1.05255837, 1.05258352, 1.05260867,\n",
       "       1.05263382, 1.05265896, 1.0526841 , 1.05270923, 1.05273435,\n",
       "       1.05275948, 1.05278459, 1.0528097 , 1.05283481, 1.05285991,\n",
       "       1.05288501, 1.0529101 , 1.05293519, 1.05296028, 1.05298535,\n",
       "       1.05301043, 1.0530355 , 1.05306056, 1.05308562, 1.05311068,\n",
       "       1.05313573, 1.05316077, 1.05318581, 1.05321085, 1.05323588,\n",
       "       1.0532609 , 1.05328592, 1.05331094, 1.05333595, 1.05336096,\n",
       "       1.05338596, 1.05341095, 1.05343595, 1.05346093, 1.05348591,\n",
       "       1.05351089, 1.05353586, 1.05356083, 1.05358579, 1.05361075,\n",
       "       1.05363571, 1.05366065, 1.0536856 , 1.05371054, 1.05373547,\n",
       "       1.0537604 , 1.05378532, 1.05381024, 1.05383516, 1.05386007,\n",
       "       1.05388497, 1.05390987, 1.05393476, 1.05395965, 1.05398454,\n",
       "       1.05400942, 1.05403429, 1.05405917, 1.05408403, 1.05410889,\n",
       "       1.05413375, 1.0541586 , 1.05418344, 1.05420829, 1.05423312,\n",
       "       1.05425795, 1.05428278, 1.0543076 , 1.05433242, 1.05435723,\n",
       "       1.05438204, 1.05440684, 1.05443164, 1.05445643, 1.05448122,\n",
       "       1.054506  , 1.05453078, 1.05455555, 1.05458032, 1.05460508,\n",
       "       1.05462984, 1.05465459, 1.05467934, 1.05470408, 1.05472882,\n",
       "       1.05475355, 1.05477828, 1.054803  , 1.05482772, 1.05485244,\n",
       "       1.05487714, 1.05490185, 1.05492655, 1.05495124, 1.05497593,\n",
       "       1.05500061, 1.05502529, 1.05504997, 1.05507464, 1.0550993 ,\n",
       "       1.05512396, 1.05514861, 1.05517326, 1.05519791, 1.05522255,\n",
       "       1.05524718, 1.05527181, 1.05529644, 1.05532106, 1.05534567,\n",
       "       1.05537028, 1.05539489, 1.05541949, 1.05544408, 1.05546867,\n",
       "       1.05549326, 1.05551784, 1.05554241, 1.05556698, 1.05559155,\n",
       "       1.05561611, 1.05564066, 1.05566521, 1.05568976, 1.0557143 ,\n",
       "       1.05573884, 1.05576337, 1.05578789, 1.05581241, 1.05583693,\n",
       "       1.05586144, 1.05588594, 1.05591044, 1.05593494, 1.05595943,\n",
       "       1.05598392, 1.0560084 , 1.05603287, 1.05605734, 1.05608181,\n",
       "       1.05610627, 1.05613073, 1.05615518, 1.05617962, 1.05620406,\n",
       "       1.0562285 , 1.05625293, 1.05627736, 1.05630178, 1.05632619,\n",
       "       1.0563506 , 1.05637501, 1.05639941, 1.05642381, 1.0564482 ,\n",
       "       1.05647258, 1.05649696, 1.05652134, 1.05654571, 1.05657007,\n",
       "       1.05659444, 1.05661879, 1.05664314, 1.05666749, 1.05669183,\n",
       "       1.05671616, 1.05674049, 1.05676482, 1.05678914, 1.05681346,\n",
       "       1.05683777, 1.05686207, 1.05688637, 1.05691067, 1.05693496,\n",
       "       1.05695924, 1.05698352, 1.0570078 , 1.05703207, 1.05705634,\n",
       "       1.0570806 , 1.05710485, 1.0571291 , 1.05715335, 1.05717759,\n",
       "       1.05720182, 1.05722605, 1.05725028, 1.0572745 , 1.05729871,\n",
       "       1.05732292, 1.05734713, 1.05737133, 1.05739552, 1.05741971,\n",
       "       1.05744389, 1.05746807, 1.05749225, 1.05751642, 1.05754058,\n",
       "       1.05756474, 1.0575889 , 1.05761305, 1.05763719, 1.05766133,\n",
       "       1.05768546, 1.05770959, 1.05773372, 1.05775784, 1.05778195,\n",
       "       1.05780606, 1.05783016, 1.05785426, 1.05787835, 1.05790244,\n",
       "       1.05792653, 1.05795061, 1.05797468, 1.05799875, 1.05802281,\n",
       "       1.05804687, 1.05807092, 1.05809497, 1.05811901, 1.05814305,\n",
       "       1.05816708, 1.05819111, 1.05821513, 1.05823915, 1.05826316,\n",
       "       1.05828717, 1.05831117, 1.05833517, 1.05835916, 1.05838315,\n",
       "       1.05840713, 1.05843111, 1.05845508, 1.05847905, 1.05850301,\n",
       "       1.05852697, 1.05855092, 1.05857486, 1.05859881, 1.05862274,\n",
       "       1.05864667, 1.0586706 , 1.05869452, 1.05871844, 1.05874235,\n",
       "       1.05876625, 1.05879015, 1.05881405, 1.05883794, 1.05886183,\n",
       "       1.05888571, 1.05890958, 1.05893345, 1.05895732, 1.05898118])"
      ]
     },
     "execution_count": 13,
     "metadata": {},
     "output_type": "execute_result"
    }
   ],
   "source": [
    "chi2(timeHisto,timeFct)"
   ]
  },
  {
   "cell_type": "markdown",
   "metadata": {},
   "source": [
    "Let's try different values of tau"
   ]
  },
  {
   "cell_type": "code",
   "execution_count": 14,
   "metadata": {},
   "outputs": [
    {
     "name": "stdout",
     "output_type": "stream",
     "text": [
      "1.010314359005178\n",
      "1.026881140192327\n",
      "1.0509414110935897\n"
     ]
    }
   ],
   "source": [
    "timeFct.setTau(1)\n",
    "print(chi2(timeHisto, timeFct))\n",
    "timeFct.setTau(1.5)\n",
    "print(chi2(timeHisto, timeFct))\n",
    "timeFct.setTau(2)\n",
    "print(chi2(timeHisto, timeFct))"
   ]
  },
  {
   "cell_type": "markdown",
   "metadata": {},
   "source": [
    "That was informative, as it suggests the fit value is somewhere between 1 and 2. But we need to make this a bit more systematic:"
   ]
  },
  {
   "cell_type": "code",
   "execution_count": 15,
   "metadata": {},
   "outputs": [
    {
     "name": "stdout",
     "output_type": "stream",
     "text": [
      "min at  1.3  +  -999.9  -  -999.9 \n",
      "with chi2 at min of  1.029556275355972\n"
     ]
    },
    {
     "data": {
      "image/png": "[encoded data removed]",
      "text/plain": [
       "<Figure size 432x288 with 1 Axes>"
      ]
     },
     "metadata": {},
     "output_type": "display_data"
    }
   ],
   "source": [
    "class Chi2Scan:\n",
    "    def __init__(self, h, fcn):\n",
    "        self._h = h\n",
    "        self._fcn =fcn\n",
    "        self._tArray=[]\n",
    "        self._chi2Array=[]\n",
    "        self._minChi2=-999.9\n",
    "        self._taumin=-999.9\n",
    "        self._error_low=-999.9\n",
    "        self._error_high=-999.9\n",
    "    def Chi2_of_tau(self, tau):\n",
    "        self._fcn.setTau(tau)\n",
    "        return chi2(self._h, self._fcn)\n",
    "\n",
    "    def scan(self, interval, numsteps):\n",
    "        stepsize = (interval[1]-interval[0])/numsteps\n",
    "        self._tArray=np.arange(interval[0], interval[1], stepsize)\n",
    "        self._chi2Array=self.Chi2_of_tau(self._tArray)\n",
    "        \n",
    "    def plot(self, interval=(0,0), numsteps=0):\n",
    "        if numsteps > 0: # only then re-do scan\n",
    "            self.scan(interval, numsteps)\n",
    "        plt.plot(self._tArray,self._chi2Array)\n",
    "        plt.show\n",
    "        \n",
    "    def findMin(self, interval=(0,0), numsteps=0):\n",
    "        if numsteps > 0: # only then re-do scan\n",
    "            self.scan(interval, numsteps)\n",
    "        self._minChi2=self._chi2Array[0]\n",
    "        self._taumin=self._tArray[0]\n",
    "        for time, chi2 in zip(self._tArray, self._chi2Array):\n",
    "            if chi2 < self._minChi2:\n",
    "                self._minChi2=chi2\n",
    "                self._taumin=time\n",
    "        return self._taumin, self._minChi2\n",
    "    \n",
    "    def findErrors(self, interval=(0,0), numsteps=0):\n",
    "        if numsteps > 0: # only then re-do scan\n",
    "            self.scan(interval, numsteps)\n",
    "            findMin()\n",
    "        shiftedChi2 = self._chi2Array - self._minChi2 - 1\n",
    "        prevChi2=shiftedChi2[0]\n",
    "        prevTime=self._tArray[0]\n",
    "        for time, chi2 in zip(self._tArray, shiftedChi2):\n",
    "            if prevChi2*chi2 < 0:\n",
    "                if time < self._taumin:\n",
    "                    self._error_low = -(0.5*(time + prevTime)-self._taumin)\n",
    "                if time > self._taumin:\n",
    "                    self._error_high = 0.5*(time + prevTime)-self._taumin\n",
    "            prevChi2=chi2\n",
    "            prevTime=time\n",
    "\n",
    "        return self._error_low, self._error_high\n",
    "\n",
    "TimeChi2Scan=Chi2Scan(timeHisto, timeFct)\n",
    "TimeChi2Scan.scan((1.3,1.8), 1000)   ## <<<<<<<< this scan scans through 1000 points - check if this is enough.\n",
    "taumin, chi2min = TimeChi2Scan.findMin()\n",
    "err_lo, err_hi = TimeChi2Scan.findErrors()\n",
    "TimeChi2Scan.plot()\n",
    "\n",
    "print(\"min at \", taumin, \" + \", err_hi, \" - \", err_lo, \"\\nwith chi2 at min of \", chi2min)\n",
    "\n"
   ]
  },
  {
   "cell_type": "markdown",
   "metadata": {},
   "source": [
    "Let's write a function that can draw the data with the fit superimposed to see if it makes any sense:"
   ]
  },
  {
   "cell_type": "code",
   "execution_count": 16,
   "metadata": {},
   "outputs": [],
   "source": [
    "def drawHistoWithFit(histo, fit):\n",
    "    fig, ax = plt.subplots()\n",
    "    #plt.plot(timeHisto[1][0:-1], timeHisto[0][0:], drawstyle=\"steps-pre\")#, align='edge')\n",
    "    error=np.sqrt(timeHisto[0])\n",
    "    #plt.bar([0,1,2, 9], [9, 10, 11, 90], align='edge')\n",
    "    ax.errorbar(timeHisto[1][0:-1], timeHisto[0][0:],\n",
    "       yerr=error,fmt=\"r+\")\n",
    "    N=fsum(timeHisto[0])\n",
    "    binwidth=timeHisto[1][1]-timeHisto[1][0]\n",
    "    draw(timeFct, scale=N*binwidth)\n",
    "    plt.show()"
   ]
  },
  {
   "cell_type": "markdown",
   "metadata": {},
   "source": [
    "and use it - down't forget to set tau to the fit result:"
   ]
  },
  {
   "cell_type": "code",
   "execution_count": 17,
   "metadata": {},
   "outputs": [
    {
     "data": {
      "image/png": "[encoded data removed]",
      "text/plain": [
       "<Figure size 432x288 with 1 Axes>"
      ]
     },
     "metadata": {},
     "output_type": "display_data"
    }
   ],
   "source": [
    "timeFct.setTau(taumin)\n",
    "drawHistoWithFit(timeHisto, timeFct)"
   ]
  },
  {
   "cell_type": "markdown",
   "metadata": {},
   "source": [
    "pull study:"
   ]
  },
  {
   "cell_type": "code",
   "execution_count": 18,
   "metadata": {},
   "outputs": [],
   "source": [
    "def pullStudy(func=timeFct, numEvents=1000, numExperiments=100\n",
    "              , trueTau=1.5, scanrange=(0,0), numTimeBins=50):\n",
    "    pull=[]\n",
    "    pullSum=0.0\n",
    "    pullSumSq=0.0\n",
    "    for counter in range(numExperiments):\n",
    "        simulatedData = generateExpo(trueTau, numEvents)\n",
    "        histo=plt.hist(simulatedData, numTimeBins, timeFct.range()) # make histogram\n",
    "        scanner=Chi2Scan(histo, func)\n",
    "        \n",
    "        localScanRange=scanrange\n",
    "        if(scanrange[0] >= scanrange[1]): # if scanrage not set, make one up\n",
    "            scanmin = trueTau - 8*trueTau/sqrt(numEvents)\n",
    "            scanmax = trueTau + 8*trueTau/sqrt(numEvents)\n",
    "            if trueTau - scanmin < 1: scanmin = trueTau-1\n",
    "            if scanmax - trueTau < 1: scanmax = trueTau+1\n",
    "            localScanRange=(scanmin, scanmax)\n",
    "        \n",
    "        scanner.scan(localScanRange, 1000)\n",
    "        taumin, chi2min = scanner.findMin()\n",
    "        err_lo, err_hi = scanner.findErrors()\n",
    "    # note: I'll take the average error, but taking upper and lower into account\n",
    "    # seperately, depending on whether your fit is above or below the true value,\n",
    "    # is more accurate - something you might want to implement.\n",
    "        err = 0.5*(err_lo + err_hi)\n",
    "        thisPull = (taumin-trueTau)/err\n",
    "        pull.append(thisPull)\n",
    "        pullSum += thisPull\n",
    "        pullSumSq += thisPull**2\n",
    "        \n",
    "    mean=pullSum/numExperiments\n",
    "    var=pullSumSq/numExperiments - mean*mean\n",
    "    sigma=np.sqrt(var)\n",
    "    sigma_on_mean=sigma/sqrt(numExperiments)\n",
    "    sigma_on_sigma=sigma/sqrt(2*numExperiments)\n",
    "    print(\"mean pull (should be 0)\", mean, \" +- \", sigma_on_mean)\n",
    "    print(\"sigma pull (should be 1)\", sigma, \" +- \", sigma_on_sigma)\n",
    "    plt.clf()\n",
    "    plt.hist(pull, 20, (-5, 5))\n",
    "    plt.show()"
   ]
  },
  {
   "cell_type": "code",
   "execution_count": 19,
   "metadata": {},
   "outputs": [
    {
     "name": "stdout",
     "output_type": "stream",
     "text": [
      "mean pull (should be 0) 0.0010001000100010005  +-  2.0579515874459976e-12\n",
      "sigma pull (should be 1) 2.0579515874459978e-11  +-  1.4551915228366853e-12\n"
     ]
    },
    {
     "data": {
      "image/png": "[encoded data removed]",
      "text/plain": [
       "<Figure size 432x288 with 1 Axes>"
      ]
     },
     "metadata": {},
     "output_type": "display_data"
    }
   ],
   "source": [
    "pullStudy(timeFct, numEvents=1000, numExperiments=100\n",
    "          , trueTau=1.5, scanrange=(0.5, 3), numTimeBins=100) \n",
    "# why might you get a bias in this fit? "
   ]
  },
  {
   "cell_type": "markdown",
   "metadata": {},
   "source": [
    "# With the default settings, you will get a bias in the fit. \n",
    "# Why? How can you reduce it?"
   ]
  },
  {
   "cell_type": "code",
   "execution_count": null,
   "metadata": {},
   "outputs": [],
   "source": []
  }
 ],
 "metadata": {
  "kernelspec": {
   "display_name": "Python 3",
   "language": "python",
   "name": "python3"
  },
  "language_info": {
   "codemirror_mode": {
    "name": "ipython",
    "version": 3
   },
   "file_extension": ".py",
   "mimetype": "text/x-python",
   "name": "python",
   "nbconvert_exporter": "python",
   "pygments_lexer": "ipython3",
   "version": "3.8.3"
  }
 },
 "nbformat": 4,
 "nbformat_minor": 2
}
