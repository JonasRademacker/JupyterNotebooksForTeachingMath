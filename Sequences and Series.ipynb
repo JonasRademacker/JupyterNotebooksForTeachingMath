{
 "cells": [
  {
   "cell_type": "markdown",
   "metadata": {
    "collapsed": true
   },
   "source": [
    "# Sequences and Series"
   ]
  },
  {
   "cell_type": "markdown",
   "metadata": {},
   "source": [
    "You can view these sheets on github, but to modify them, you'll need to a version of jupyter. How to install it is explained here: http://jupyter.readthedocs.io/en/latest/install.html.\n",
    "If you want to use the functions defined below to generate your own distributions, you need to compile them first. Easiest done by clicking (once have opened this as jupyter notebook): Kernel -> Restart & Run All. (Alternatively, you can use the >| button to click your way through, but you need to start from the beginning to have access to all functions defined on this sheet). Have fun!"
   ]
  },
  {
   "cell_type": "markdown",
   "metadata": {},
   "source": [
    "Start by importing the relevant libraries"
   ]
  },
  {
   "cell_type": "code",
   "execution_count": 1,
   "metadata": {},
   "outputs": [],
   "source": [
    "from math import *\n",
    "import numpy as np\n",
    "import matplotlib.mlab as mlab\n",
    "import matplotlib.pyplot as plt"
   ]
  },
  {
   "cell_type": "markdown",
   "metadata": {},
   "source": [
    "Let us define a few sequences. "
   ]
  },
  {
   "cell_type": "markdown",
   "metadata": {},
   "source": [
    "## The geometric *Sequence* (not series!) $a_n = 1/n$"
   ]
  },
  {
   "cell_type": "markdown",
   "metadata": {},
   "source": [
    "Below The call method is the one used when you use the class as if it were a function, as in classInstance = class(parameter1, parameter2) y=classInstance(x) That classInstance(x) executes the call method."
   ]
  },
  {
   "cell_type": "code",
   "execution_count": 2,
   "metadata": {},
   "outputs": [],
   "source": [
    "class harmonicSequence:\n",
    "    def generateSequence(self):\n",
    "        self._Sn = 1/np.arange(self._min, self._max) \n",
    "        # What happened here?\n",
    "        # np.arange creates a numpy array filled with 1, 2, 3, ...,  self._max-1\n",
    "        # 1/np.arange evaluates to an array filled with 1/1, 1/2, 1/3, ..., 1/(self._max-1)\n",
    "        # That's generally how operations on numpy arrays work: element by element.\n",
    "\n",
    "    def __init__(self, order=10):\n",
    "        self._max=order + 1\n",
    "        self._min=1\n",
    "        self.generateSequence()\n",
    "\n",
    "    def mini(self):\n",
    "        return self._min\n",
    "    def maxi(self):\n",
    "        return self._max\n",
    "    \n",
    "    def __call__(self):\n",
    "        return self._Sn"
   ]
  },
  {
   "cell_type": "markdown",
   "metadata": {},
   "source": [
    "Let's define a class to draw this:"
   ]
  },
  {
   "cell_type": "code",
   "execution_count": 3,
   "metadata": {},
   "outputs": [],
   "source": [
    "def draw(mySeriousSeries, label=\" \", labelposition=\"lower left\", xlabel=\"n\", ylabel=\"$S_n$\", scale=1):\n",
    "    nArray=np.arange(mySeriousSeries.mini(), mySeriousSeries.maxi())\n",
    "    plt.plot(nArray,scale*mySeriousSeries(), label=label)\n",
    "    plt.xlabel(xlabel)\n",
    "    plt.ylabel(ylabel)\n",
    "    plt.legend(loc=labelposition)"
   ]
  },
  {
   "cell_type": "markdown",
   "metadata": {},
   "source": [
    "We define an instance of our sequence class:"
   ]
  },
  {
   "cell_type": "code",
   "execution_count": 4,
   "metadata": {},
   "outputs": [],
   "source": [
    "n=10\n",
    "harmonicSequenceArray = harmonicSequence(n)  "
   ]
  },
  {
   "cell_type": "markdown",
   "metadata": {},
   "source": [
    "I'd also like to draw the limit. Now $\\lim\\limits_{n\\to \\infty} \\frac{1}{n} = 0$, so to draw that into the plot as a straight line, I generate an array of zeroes."
   ]
  },
  {
   "cell_type": "code",
   "execution_count": 5,
   "metadata": {},
   "outputs": [],
   "source": [
    "harmonicLimitArray = np.zeros(10+1)"
   ]
  },
  {
   "cell_type": "markdown",
   "metadata": {},
   "source": [
    "Now we are ready to draw it:"
   ]
  },
  {
   "cell_type": "code",
   "execution_count": 6,
   "metadata": {},
   "outputs": [
    {
     "data": {
      "image/png": "[encoded data removed]",
      "text/plain": [
       "<Figure size 432x288 with 1 Axes>"
      ]
     },
     "metadata": {
      "needs_background": "light"
     },
     "output_type": "display_data"
    }
   ],
   "source": [
    "draw(harmonicSequenceArray, label=\"Harmonic sequence, $a_n = 1/n$. Converges to 0\", ylabel=\"$a_n$\")\n",
    "plt.plot(harmonicLimitArray)\n",
    "plt.show()"
   ]
  },
  {
   "cell_type": "markdown",
   "metadata": {},
   "source": [
    "## The geometric series $S_n = a_0 \\sum\\limits_{k=0}^n q^n$ with $|q| < 1$"
   ]
  },
  {
   "cell_type": "code",
   "execution_count": 7,
   "metadata": {},
   "outputs": [],
   "source": [
    "class geometricSeries:\n",
    "    def generateSeries(self):\n",
    "        su=0\n",
    "        r=1\n",
    "        for i in range(0, self._max):\n",
    "            su += r\n",
    "            self._Sn[i] = su\n",
    "            r *= q\n",
    "            \n",
    "        self._Sn *= self._a\n",
    "            \n",
    "    def __init__(self, order=10, q=1/2, a0=1): # order corresponds to n in equation above\n",
    "        self._max=order+1\n",
    "        self._min=0\n",
    "        self._q=q\n",
    "        self._a=a0\n",
    "        self._Sn = np.zeros(self._max - self._min)\n",
    "        self.generateSeries()\n",
    "\n",
    "    def mini(self):\n",
    "        return self._min\n",
    "    def maxi(self):\n",
    "        return self._max\n",
    "    \n",
    "    def __call__(self):\n",
    "        return self._Sn\n",
    "\n"
   ]
  },
  {
   "cell_type": "markdown",
   "metadata": {},
   "source": [
    "Now we define an instance of our harmonic series class with $q = \\frac{1}{2}$ and $a_0=1$, so we calculate $S_n = \\sum\\limits_{k=0}^n \\frac{1}{2^n}$."
   ]
  },
  {
   "cell_type": "code",
   "execution_count": 8,
   "metadata": {},
   "outputs": [],
   "source": [
    "n=10\n",
    "q=1/2\n",
    "a0=1.0\n",
    "geometricSeriesArray = geometricSeries(n, q, a0)  \n",
    "geometricLimitArray = np.ones(n+1)*a0/(1.0-q)"
   ]
  },
  {
   "cell_type": "markdown",
   "metadata": {},
   "source": [
    "Let's draw it:"
   ]
  },
  {
   "cell_type": "code",
   "execution_count": 9,
   "metadata": {
    "scrolled": false
   },
   "outputs": [
    {
     "data": {
      "image/png": "[encoded data removed]",
      "text/plain": [
       "<Figure size 432x288 with 1 Axes>"
      ]
     },
     "metadata": {
      "needs_background": "light"
     },
     "output_type": "display_data"
    }
   ],
   "source": [
    "draw(geometricSeriesArray, label=\"Geometric series, $S_n =\\sum_{k=0}^n 1/2^k$. Converges to 2.\")\n",
    "plt.plot(geometricLimitArray)\n",
    "plt.show()"
   ]
  },
  {
   "cell_type": "markdown",
   "metadata": {},
   "source": [
    "## The arithmetic series $S_n = a_0 + d\\sum\\limits_{k=1}^{n}k$ \n",
    "(diverges)"
   ]
  },
  {
   "cell_type": "code",
   "execution_count": 10,
   "metadata": {},
   "outputs": [],
   "source": [
    "class arithmeticSeries:\n",
    "    def generateSeries(self):\n",
    "        su=self._a\n",
    "        for i in range(self._min, self._max):\n",
    "            self._Sn[i-self._min] = su\n",
    "            su += d*i\n",
    "            \n",
    "    def __init__(self, order=10, a0=0, d=1): # order corresponds to n in equation above\n",
    "        self._max=order+1\n",
    "        self._min=1\n",
    "        self._a=a0\n",
    "        self._d=1\n",
    "        self._Sn = np.zeros(self._max - self._min)\n",
    "        self.generateSeries()\n",
    "\n",
    "    def mini(self):\n",
    "        return self._min\n",
    "    def maxi(self):\n",
    "        return self._max\n",
    "    \n",
    "    def __call__(self):\n",
    "        return self._Sn\n",
    "\n"
   ]
  },
  {
   "cell_type": "markdown",
   "metadata": {},
   "source": [
    "Now we define an instance of our arithmetic series class with $a_0=0$ and $d=1$ so we calculate $S_n = \\sum\\limits_{k=1}^n k$."
   ]
  },
  {
   "cell_type": "code",
   "execution_count": 11,
   "metadata": {},
   "outputs": [],
   "source": [
    "n=10\n",
    "a0=1.0\n",
    "d=1\n",
    "arithmeticSeriesArray = arithmeticSeries(n, a0, d)  "
   ]
  },
  {
   "cell_type": "markdown",
   "metadata": {},
   "source": [
    "Let's draw it:"
   ]
  },
  {
   "cell_type": "code",
   "execution_count": 12,
   "metadata": {
    "scrolled": false
   },
   "outputs": [
    {
     "data": {
      "image/png": "[encoded data removed]",
      "text/plain": [
       "<Figure size 432x288 with 1 Axes>"
      ]
     },
     "metadata": {
      "needs_background": "light"
     },
     "output_type": "display_data"
    }
   ],
   "source": [
    "draw(arithmeticSeriesArray\n",
    "     , label=\"Arithmetic series, $S_n =\\sum_{k=1}^n k$. Diverges quickly.\"\n",
    "     , labelposition=\"upper left\")\n",
    "plt.show()"
   ]
  },
  {
   "cell_type": "markdown",
   "metadata": {},
   "source": [
    "## Alternating harmonic series, $S_n = \\sum\\limits_{k=1}^n (-1)^{(n+1)} \\frac{1}{k}$"
   ]
  },
  {
   "cell_type": "code",
   "execution_count": 13,
   "metadata": {},
   "outputs": [],
   "source": [
    "class alternatingHarmonicSeries:\n",
    "    def generateSeries(self):\n",
    "        i=1\n",
    "        sum=0\n",
    "        for k in range(self._min, self._max): \n",
    "            sum += i/k\n",
    "            self._Sn[k-self._min] = sum  # I'm filling the kth element into the k-1st position of the numpy array, whose indexing starts at zero\n",
    "            i*=-1\n",
    "\n",
    "    def __init__(self, order=10): # order corresponds to n in equation above\n",
    "        self._max=order+1\n",
    "        self._min=1\n",
    "        self._Sn = np.zeros(self._max - self._min)\n",
    "        self.generateSeries()\n",
    "\n",
    "    def mini(self):\n",
    "        return self._min\n",
    "    def maxi(self):\n",
    "        return self._max\n",
    "    \n",
    "    def __call__(self):\n",
    "        return self._Sn\n",
    "\n"
   ]
  },
  {
   "cell_type": "markdown",
   "metadata": {},
   "source": [
    "Let's create an instance of it (and one for the limit)"
   ]
  },
  {
   "cell_type": "code",
   "execution_count": 14,
   "metadata": {},
   "outputs": [],
   "source": [
    "n=30\n",
    "alternatingHarmonicArray = alternatingHarmonicSeries(n)  \n",
    "alternatingHarmonicLimitArray = np.ones(n+1)*np.math.log(2)"
   ]
  },
  {
   "cell_type": "markdown",
   "metadata": {},
   "source": [
    "and draw it"
   ]
  },
  {
   "cell_type": "code",
   "execution_count": 15,
   "metadata": {},
   "outputs": [
    {
     "data": {
      "image/png": "[encoded data removed]",
      "text/plain": [
       "<Figure size 432x288 with 1 Axes>"
      ]
     },
     "metadata": {
      "needs_background": "light"
     },
     "output_type": "display_data"
    }
   ],
   "source": [
    "draw(alternatingHarmonicArray\n",
    "     , label=\"Alternating harmonic series $S_n=\\sum_{k=1}^n (-1)^{n+1}1/k$\\n Converges (slowly) to ln2.\"\n",
    "     , labelposition=\"upper right\")\n",
    "plt.plot(alternatingHarmonicLimitArray)\n",
    "plt.show()"
   ]
  },
  {
   "cell_type": "markdown",
   "metadata": {},
   "source": [
    "## The (diverging) harmonic series, $S_n = \\sum\\limits_{k=1}^n \\frac{1}{k}$"
   ]
  },
  {
   "cell_type": "code",
   "execution_count": 16,
   "metadata": {},
   "outputs": [],
   "source": [
    "class harmonicSeries:\n",
    "    def generateSeries(self):\n",
    "        sum=0\n",
    "        for k in range(self._min, self._max): \n",
    "            sum += 1/k\n",
    "            self._Sn[k-self._min] = sum  # I'm filling the kth element into the k-1st position of the numpy array, whose indexing starts at zero\n",
    "\n",
    "    def __init__(self, order=10):\n",
    "        self._max=order+1\n",
    "        self._min=1\n",
    "        self._Sn = np.zeros(self._max - self._min)\n",
    "        self.generateSeries()\n",
    "\n",
    "    def mini(self):\n",
    "        return self._min\n",
    "    def maxi(self):\n",
    "        return self._max\n",
    "    \n",
    "    def __call__(self):\n",
    "        return self._Sn\n",
    "\n"
   ]
  },
  {
   "cell_type": "markdown",
   "metadata": {},
   "source": [
    "Let's create an instance of it (and one for the limit)"
   ]
  },
  {
   "cell_type": "code",
   "execution_count": 17,
   "metadata": {},
   "outputs": [],
   "source": [
    "n=100\n",
    "harmonicArray = harmonicSeries(n)  "
   ]
  },
  {
   "cell_type": "markdown",
   "metadata": {},
   "source": [
    "and draw it"
   ]
  },
  {
   "cell_type": "code",
   "execution_count": 18,
   "metadata": {},
   "outputs": [
    {
     "data": {
      "image/png": "[encoded data removed]",
      "text/plain": [
       "<Figure size 432x288 with 1 Axes>"
      ]
     },
     "metadata": {
      "needs_background": "light"
     },
     "output_type": "display_data"
    }
   ],
   "source": [
    "draw(harmonicArray, label=\"Harmonic series $S_n = \\sum_{k=1}^n 1/k$. Divergent, but slowly.\")\n",
    "plt.show()"
   ]
  },
  {
   "cell_type": "markdown",
   "metadata": {},
   "source": [
    "Note that on a computer, the series will *appear* to converge because the computer can only store a finite number of digits (typically about 16 decimal digits in double precision), and at some point, for very large $n$, $S_{n+1} = S_{n} + \\frac{1}{n+1}$ will be approximated as $S_n$ due to the rounding error. Maybe you can find out when this happens on your computer. It will require a fast computer and a bit of patience as you'll need to get to (or near) $\\frac{S_n}{1/n} = n S_n \\approx 10^{16}$. The maximum I managed to do on my computer in a reasonable time was $n=10^8, nS_n\\approx 10^9$. For that, the computer's accuracy is still good enough."
   ]
  },
  {
   "cell_type": "markdown",
   "metadata": {},
   "source": [
    "## The series $\\sum\\limits_{k=0}^n \\frac{1}{k!}$"
   ]
  },
  {
   "cell_type": "code",
   "execution_count": 19,
   "metadata": {},
   "outputs": [],
   "source": [
    "class expoSeries:\n",
    "    def generateSeries(self):\n",
    "        a=1.0\n",
    "        su=1.0\n",
    "        self._Sn[0]=su\n",
    "        for n in range(1, self._max):\n",
    "            a*=self._x/n\n",
    "            su+=a\n",
    "            self._Sn[n]=su\n",
    "            \n",
    "    def __init__(self, order=10, x=1):\n",
    "        self._max=order+1\n",
    "        self._min=0\n",
    "        self._x=x\n",
    "        self._Sn = np.zeros(self._max - self._min)\n",
    "        self.generateSeries()\n",
    "\n",
    "    def mini(self):\n",
    "        return 0\n",
    "    def maxi(self):\n",
    "        return self._max\n",
    "    \n",
    "    def __call__(self):\n",
    "        return self._Sn\n",
    "    "
   ]
  },
  {
   "cell_type": "markdown",
   "metadata": {},
   "source": [
    "Let's create an instance of it (and one for the limit)"
   ]
  },
  {
   "cell_type": "code",
   "execution_count": 20,
   "metadata": {},
   "outputs": [],
   "source": [
    "n=10\n",
    "expoArray = expoSeries(n)  \n",
    "expoLimitArray = np.ones(n+1)*np.exp(1) # this series converges to e"
   ]
  },
  {
   "cell_type": "markdown",
   "metadata": {},
   "source": [
    "and draw it"
   ]
  },
  {
   "cell_type": "code",
   "execution_count": 21,
   "metadata": {},
   "outputs": [
    {
     "data": {
      "image/png": "[encoded data removed]",
      "text/plain": [
       "<Figure size 432x288 with 1 Axes>"
      ]
     },
     "metadata": {
      "needs_background": "light"
     },
     "output_type": "display_data"
    }
   ],
   "source": [
    "draw(expoArray, label=\"$S_n = \\sum_{k=0}^n (1/k!)$. Converges to $e$.\")\n",
    "plt.plot(expoLimitArray)\n",
    "plt.show()"
   ]
  },
  {
   "cell_type": "markdown",
   "metadata": {},
   "source": [
    "## The sequence $a_n = \\left(1 + \\frac{1}{n}\\right)^n$\n",
    "This seqence, just like the series above, converges to $e$, but much more slowly."
   ]
  },
  {
   "cell_type": "code",
   "execution_count": 22,
   "metadata": {},
   "outputs": [],
   "source": [
    "class slowExpSequence:\n",
    "    def generateSequence(self):\n",
    "        n = np.arange(self._min, self._max)\n",
    "        self._Sn = (1 + 1/n)**n\n",
    "\n",
    "    def __init__(self, order=10):\n",
    "        self._max=order + 1\n",
    "        self._min=1\n",
    "        self.generateSequence()\n",
    "\n",
    "    def mini(self):\n",
    "        return self._min\n",
    "    def maxi(self):\n",
    "        return self._max\n",
    "    \n",
    "    def __call__(self):\n",
    "        return self._Sn\n",
    "\n"
   ]
  },
  {
   "cell_type": "markdown",
   "metadata": {},
   "source": [
    "Let's create an instance of the slow, the fast and the limit of the series/sequence that converge to an exponential"
   ]
  },
  {
   "cell_type": "code",
   "execution_count": 23,
   "metadata": {},
   "outputs": [],
   "source": [
    "n=10\n",
    "slowExpoArray = slowExpSequence(n)\n",
    "fastExpoArray = expoSeries(n)  \n",
    "expoLimitArray = np.ones(n+1)*np.exp(1) "
   ]
  },
  {
   "cell_type": "markdown",
   "metadata": {},
   "source": [
    "and let's draw it into the same plot as the fast one."
   ]
  },
  {
   "cell_type": "code",
   "execution_count": 24,
   "metadata": {
    "scrolled": true
   },
   "outputs": [
    {
     "data": {
      "image/png": "[encoded data removed]",
      "text/plain": [
       "<Figure size 432x288 with 1 Axes>"
      ]
     },
     "metadata": {
      "needs_background": "light"
     },
     "output_type": "display_data"
    }
   ],
   "source": [
    "draw(slowExpoArray, label=\"slow exp sequence $S_n=(1+1/n)^n$\")\n",
    "draw(fastExpoArray, label=\"fast exp series $S_n=\\sum_0^n(1/k!)$\")\n",
    "plt.plot(expoLimitArray)\n",
    "plt.show()"
   ]
  },
  {
   "cell_type": "markdown",
   "metadata": {},
   "source": [
    "## Power series, $S_n = \\sum\\limits_{k=1}^n \\frac{1}{k^p}$\n",
    "Converges for $p > 1$ (for p=1, it's the same as the harmonic array we've looked at above).\n",
    "Its limit is called the Rieman zeta function, $\\zeta(p)=\\sum\\limits_{k=1}^{\\infty} \\frac{1}{k^p}$. (In that context, $p$ is generally a complex variable with $\\mathrm{Re}(p) > 1$, but here, we'll keep it real.)"
   ]
  },
  {
   "cell_type": "code",
   "execution_count": 25,
   "metadata": {},
   "outputs": [],
   "source": [
    "class powerSeries:\n",
    "    def generateSeries(self):\n",
    "        sum=0\n",
    "        for k in range(self._min, self._max): \n",
    "            sum += 1/(k**self._power)\n",
    "            self._Sn[k-self._min] = sum  # I'm filling the kth element into the k-1st position of the numpy array, whose indexing starts at zero\n",
    "\n",
    "    def __init__(self, order=10, power=2):\n",
    "        self._max=order+1\n",
    "        self._min=1\n",
    "        self._power = power\n",
    "        self._Sn = np.zeros(self._max - self._min)\n",
    "        self.generateSeries()\n",
    "\n",
    "    def mini(self):\n",
    "        return self._min\n",
    "    def maxi(self):\n",
    "        return self._max\n",
    "    \n",
    "    def __call__(self):\n",
    "        return self._Sn\n",
    "\n"
   ]
  },
  {
   "cell_type": "markdown",
   "metadata": {},
   "source": [
    "### $S_n = \\sum\\limits_{k=1}^n \\frac{1}{k^2}$\n",
    "This converges to $\\zeta(2) = \\lim\\limits_{n\\to\\infty} \\sum\\limits_{k=1}^n \\frac{1}{k^2} = \\frac{\\pi^2}{6}$."
   ]
  },
  {
   "cell_type": "markdown",
   "metadata": {},
   "source": [
    "Let's create an instance of this series, and an array for plotting the limit."
   ]
  },
  {
   "cell_type": "code",
   "execution_count": 26,
   "metadata": {},
   "outputs": [],
   "source": [
    "n=30\n",
    "inverseSquareArray = powerSeries(n, 2)  \n",
    "inverseSquareLimitArray = np.ones(n+1)*np.math.pi**2/6"
   ]
  },
  {
   "cell_type": "markdown",
   "metadata": {},
   "source": [
    "and draw it"
   ]
  },
  {
   "cell_type": "code",
   "execution_count": 27,
   "metadata": {},
   "outputs": [
    {
     "data": {
      "image/png": "[encoded data removed]",
      "text/plain": [
       "<Figure size 432x288 with 1 Axes>"
      ]
     },
     "metadata": {
      "needs_background": "light"
     },
     "output_type": "display_data"
    }
   ],
   "source": [
    "draw(inverseSquareArray, label=\"$S_n = \\sum_{k=1}^n 1/k^2$. Converges to $\\pi^2/6$.\")\n",
    "plt.plot(inverseSquareLimitArray)\n",
    "plt.show()"
   ]
  },
  {
   "cell_type": "markdown",
   "metadata": {},
   "source": [
    "### $S_n = \\sum\\limits_{k=1}^{n} \\frac{1}{k^3}$ \n",
    "This converges to $\\zeta(3) = \\sum\\limits_{k=1}^{\\infty} \\frac{1}{k^3}=1.2020569031595942853997\\ldots$, known as Apéry's constant (https://en.wikipedia.org/wiki/Ap%C3%A9ry%27s_constant)"
   ]
  },
  {
   "cell_type": "code",
   "execution_count": 28,
   "metadata": {},
   "outputs": [
    {
     "data": {
      "image/png": "[encoded data removed]",
      "text/plain": [
       "<Figure size 432x288 with 1 Axes>"
      ]
     },
     "metadata": {
      "needs_background": "light"
     },
     "output_type": "display_data"
    }
   ],
   "source": [
    "n=10\n",
    "RiemanZeta3Array = powerSeries(n, 3)\n",
    "RiemanZeta3LimitArray = np.ones(n+1)*1.202056903159594285399738161511449990764986292\n",
    "draw(RiemanZeta3Array, label=\"$S_n = \\sum_{k=1}^n 1/k^2$. Converges to 1.202056903...\")\n",
    "plt.plot(RiemanZeta3LimitArray)\n",
    "plt.show()"
   ]
  },
  {
   "cell_type": "code",
   "execution_count": null,
   "metadata": {},
   "outputs": [],
   "source": []
  }
 ],
 "metadata": {
  "kernelspec": {
   "display_name": "Python 3",
   "language": "python",
   "name": "python3"
  },
  "language_info": {
   "codemirror_mode": {
    "name": "ipython",
    "version": 3
   },
   "file_extension": ".py",
   "mimetype": "text/x-python",
   "name": "python",
   "nbconvert_exporter": "python",
   "pygments_lexer": "ipython3",
   "version": "3.8.3"
  }
 },
 "nbformat": 4,
 "nbformat_minor": 2
}
