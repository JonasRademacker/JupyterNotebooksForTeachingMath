{
 "cells": [
  {
   "cell_type": "markdown",
   "metadata": {
    "collapsed": true
   },
   "source": [
    "# Sequences and Series"
   ]
  },
  {
   "cell_type": "markdown",
   "metadata": {},
   "source": [
    "You can view these sheets on github, but to modify them, you'll need to a version of jupyter. How to install it is explained here: http://jupyter.readthedocs.io/en/latest/install.html.\n",
    "If you want to use the functions defined below to generate your own distributions, you need to compile them first. Easiest done by clicking (once have opened this as jupyter notebook): Kernel -> Restart & Run All. (Alternatively, you can use the >| button to click your way through, but you need to start from the beginning to have access to all functions defined on this sheet). Have fun!"
   ]
  },
  {
   "cell_type": "markdown",
   "metadata": {},
   "source": [
    "Start by importing the relevant libraries"
   ]
  },
  {
   "cell_type": "code",
   "execution_count": 1,
   "metadata": {},
   "outputs": [],
   "source": [
    "from math import *\n",
    "import numpy as np\n",
    "import matplotlib.mlab as mlab\n",
    "import matplotlib.pyplot as plt"
   ]
  },
  {
   "cell_type": "markdown",
   "metadata": {},
   "source": [
    "Let us define a few sequences. "
   ]
  },
  {
   "cell_type": "markdown",
   "metadata": {},
   "source": [
    "## The geometric *Sequence* (not series!) $a_n = 1/n$"
   ]
  },
  {
   "cell_type": "markdown",
   "metadata": {},
   "source": [
    "Below The call method is the one used when you use the class as if it were a function, as in classInstance = class(parameter1, parameter2) y=classInstance(x) That classInstance(x) executes the call method."
   ]
  },
  {
   "cell_type": "code",
   "execution_count": 2,
   "metadata": {},
   "outputs": [],
   "source": [
    "class harmonicSequence:\n",
    "    def generateSequence(self):\n",
    "        self._Sn = 1/np.arange(1, self._max)\n",
    "            \n",
    "    def __init__(self, order=10):\n",
    "        self._max=order + 1\n",
    "        self.generateSequence()\n",
    "\n",
    "    def mini(self):\n",
    "        return 1\n",
    "    def maxi(self):\n",
    "        return self._max\n",
    "    \n",
    "    def __call__(self):\n",
    "        return self._Sn"
   ]
  },
  {
   "cell_type": "markdown",
   "metadata": {},
   "source": [
    "Let's define a class to draw this:"
   ]
  },
  {
   "cell_type": "code",
   "execution_count": 3,
   "metadata": {},
   "outputs": [],
   "source": [
    "def draw(mySeriousSeries, label=\" \", scale=1):\n",
    "    nArray=np.arange(mySeriousSeries.mini(), mySeriousSeries.maxi())\n",
    "    plt.plot(nArray,scale*mySeriousSeries(), label=label)\n",
    "    plt.legend(loc=\"lower left\")"
   ]
  },
  {
   "cell_type": "markdown",
   "metadata": {},
   "source": [
    "We define an instance of our sequence class:"
   ]
  },
  {
   "cell_type": "code",
   "execution_count": 4,
   "metadata": {},
   "outputs": [],
   "source": [
    "n=10\n",
    "harmonicSequenceArray = harmonicSequence(n)  "
   ]
  },
  {
   "cell_type": "markdown",
   "metadata": {},
   "source": [
    "I'd also like to draw the limit. Now $\\lim\\limits_{n\\to \\infty} \\frac{1}{n} = 0$, so to draw that into the plot as a straight line, I generate an array of zeroes."
   ]
  },
  {
   "cell_type": "code",
   "execution_count": 5,
   "metadata": {},
   "outputs": [],
   "source": [
    "harmonicLimitArray = np.zeros(10+1)"
   ]
  },
  {
   "cell_type": "markdown",
   "metadata": {},
   "source": [
    "Now I'm ready to draw it:"
   ]
  },
  {
   "cell_type": "code",
   "execution_count": 6,
   "metadata": {},
   "outputs": [
    {
     "data": {
      "image/png": "[encoded data removed]",
      "text/plain": [
       "<Figure size 432x288 with 1 Axes>"
      ]
     },
     "metadata": {
      "needs_background": "light"
     },
     "output_type": "display_data"
    }
   ],
   "source": [
    "draw(harmonicSequenceArray, label=\"harmonic sequence\")\n",
    "plt.plot(harmonicLimitArray)\n",
    "plt.show()"
   ]
  },
  {
   "cell_type": "markdown",
   "metadata": {},
   "source": [
    "## The geometric series $S_n = a_0 \\sum\\limits_{k=0}^n q^n$ with $|q| < 1$"
   ]
  },
  {
   "cell_type": "code",
   "execution_count": 14,
   "metadata": {},
   "outputs": [],
   "source": [
    "class geometricSeries:\n",
    "    def generateSeries(self):\n",
    "        su=0\n",
    "        r=1\n",
    "        for i in range(0, self._max):\n",
    "            su += r\n",
    "            self._Sn[i] = su\n",
    "            r *= q\n",
    "            \n",
    "        self._Sn *= self._a\n",
    "            \n",
    "    def __init__(self, order=10, q=1/2, a0=1): # order corresponds to n in equation above\n",
    "        self._max=order+1\n",
    "        self._min=0\n",
    "        self._q=q\n",
    "        self._a=a0\n",
    "        self._Sn = np.zeros(self._max - self._min)\n",
    "        self.generateSeries()\n",
    "\n",
    "    def mini(self):\n",
    "        return self._min\n",
    "    def maxi(self):\n",
    "        return self._max\n",
    "    \n",
    "    def __call__(self):\n",
    "        return self._Sn\n",
    "\n"
   ]
  },
  {
   "cell_type": "markdown",
   "metadata": {},
   "source": [
    "Now we can define an instance of our harmonic series class"
   ]
  },
  {
   "cell_type": "code",
   "execution_count": 15,
   "metadata": {},
   "outputs": [],
   "source": [
    "n=10\n",
    "q=1/2\n",
    "a0=1.0\n",
    "geometricSeriesArray = geometricSeries(n, q, a0)  \n",
    "geometricLimitArray = np.ones(n+1)*a0/(1.0-q)"
   ]
  },
  {
   "cell_type": "markdown",
   "metadata": {},
   "source": [
    "... and draw it:"
   ]
  },
  {
   "cell_type": "code",
   "execution_count": 16,
   "metadata": {},
   "outputs": [
    {
     "data": {
      "image/png": "[encoded data removed]",
      "text/plain": [
       "<Figure size 432x288 with 1 Axes>"
      ]
     },
     "metadata": {
      "needs_background": "light"
     },
     "output_type": "display_data"
    }
   ],
   "source": [
    "draw(geometricSeriesArray, label=\"geometric\")\n",
    "plt.plot(geometricLimitArray)\n",
    "plt.show()"
   ]
  },
  {
   "cell_type": "markdown",
   "metadata": {},
   "source": [
    "## Alternating harmonic series, $S_n = \\sum\\limits_{k=1}^n (-1)^{(n+1)} \\frac{1}{k}$"
   ]
  },
  {
   "cell_type": "code",
   "execution_count": 17,
   "metadata": {},
   "outputs": [],
   "source": [
    "class alternatingHarmonicSeries:\n",
    "    def generateSeries(self):\n",
    "        i=1\n",
    "        sum=0\n",
    "        for k in range(1, self._max): \n",
    "            sum += i/k\n",
    "            self._Sn[k-1] = sum  # I'm filling the kth element into the k-1st position of the numpy array, whose indexing starts at zero\n",
    "            i*=-1\n",
    "\n",
    "    def __init__(self, order=10): # order corresponds to n in equation above\n",
    "        self._max=order+1\n",
    "        self._min=1\n",
    "        self._Sn = np.zeros(self._max - self._min)\n",
    "        self.generateSeries()\n",
    "\n",
    "    def mini(self):\n",
    "        return self._min\n",
    "    def maxi(self):\n",
    "        return self._max\n",
    "    \n",
    "    def __call__(self):\n",
    "        return self._Sn\n",
    "\n"
   ]
  },
  {
   "cell_type": "markdown",
   "metadata": {},
   "source": [
    "Let's create an instance of it (and one for the limit)"
   ]
  },
  {
   "cell_type": "code",
   "execution_count": 20,
   "metadata": {},
   "outputs": [],
   "source": [
    "n=30\n",
    "alternatingHarmonicArray = alternatingHarmonicSeries(n)  \n",
    "alternatingHarmonicLimitArray = np.ones(n+1)*np.math.log(2)"
   ]
  },
  {
   "cell_type": "markdown",
   "metadata": {},
   "source": [
    "and draw it"
   ]
  },
  {
   "cell_type": "code",
   "execution_count": 21,
   "metadata": {},
   "outputs": [
    {
     "data": {
      "image/png": "[encoded data removed]",
      "text/plain": [
       "<Figure size 432x288 with 1 Axes>"
      ]
     },
     "metadata": {
      "needs_background": "light"
     },
     "output_type": "display_data"
    }
   ],
   "source": [
    "draw(alternatingHarmonicArray, label=\"alternating harmonic series (converges slowly to ln2)\")\n",
    "plt.plot(alternatingHarmonicLimitArray)\n",
    "plt.show()"
   ]
  },
  {
   "cell_type": "markdown",
   "metadata": {},
   "source": [
    "## The (diverging) harmonic series, $S_n = \\sum\\limits_{k=1}^n \\frac{1}{k}$"
   ]
  },
  {
   "cell_type": "code",
   "execution_count": 22,
   "metadata": {},
   "outputs": [],
   "source": [
    "class harmonicSeries:\n",
    "    def generateSeries(self):\n",
    "        sum=0\n",
    "        for k in range(1, self._max): \n",
    "            sum += 1/k\n",
    "            self._Sn[k-1] = sum  # I'm filling the kth element into the k-1st position of the numpy array, whose indexing starts at zero\n",
    "\n",
    "    def __init__(self, order=10):\n",
    "        self._max=order+1\n",
    "        self._min=1\n",
    "        self._Sn = np.zeros(self._max - self._min)\n",
    "        self.generateSeries()\n",
    "\n",
    "    def mini(self):\n",
    "        return self._min\n",
    "    def maxi(self):\n",
    "        return self._max\n",
    "    \n",
    "    def __call__(self):\n",
    "        return self._Sn\n",
    "\n"
   ]
  },
  {
   "cell_type": "markdown",
   "metadata": {},
   "source": [
    "Let's create an instance of it (and one for the limit)"
   ]
  },
  {
   "cell_type": "code",
   "execution_count": 23,
   "metadata": {},
   "outputs": [],
   "source": [
    "n=30\n",
    "harmonicArray = harmonicSeries(n)  "
   ]
  },
  {
   "cell_type": "markdown",
   "metadata": {},
   "source": [
    "and draw it"
   ]
  },
  {
   "cell_type": "code",
   "execution_count": 24,
   "metadata": {},
   "outputs": [
    {
     "data": {
      "image/png": "[encoded data removed]",
      "text/plain": [
       "<Figure size 432x288 with 1 Axes>"
      ]
     },
     "metadata": {
      "needs_background": "light"
     },
     "output_type": "display_data"
    }
   ],
   "source": [
    "draw(harmonicArray, label=\"harmonic series - divergent, but slowly\")\n",
    "plt.show()"
   ]
  },
  {
   "cell_type": "markdown",
   "metadata": {},
   "source": [
    "## The series $\\sum\\limits_{k=0}^n \\frac{1}{k!}$"
   ]
  },
  {
   "cell_type": "code",
   "execution_count": 25,
   "metadata": {},
   "outputs": [],
   "source": [
    "class expoSeries:\n",
    "    def generateSeries(self):\n",
    "        a=1.0\n",
    "        su=1.0\n",
    "        self._Sn[0]=su\n",
    "        for n in range(1, self._max):\n",
    "            a*=self._x/n\n",
    "            su+=a\n",
    "            self._Sn[n]=su\n",
    "            \n",
    "    def __init__(self, order=10, x=1):\n",
    "        self._max=order+1\n",
    "        self._min=0\n",
    "        self._x=x\n",
    "        self._Sn = np.zeros(self._max - self._min)\n",
    "        self.generateSeries()\n",
    "\n",
    "    def mini(self):\n",
    "        return 0\n",
    "    def maxi(self):\n",
    "        return self._max\n",
    "    \n",
    "    def __call__(self):\n",
    "        return self._Sn\n",
    "    "
   ]
  },
  {
   "cell_type": "markdown",
   "metadata": {},
   "source": [
    "Let's create an instance of it (and one for the limit)"
   ]
  },
  {
   "cell_type": "code",
   "execution_count": 26,
   "metadata": {},
   "outputs": [],
   "source": [
    "n=10\n",
    "expoArray = expoSeries(n)  \n",
    "expoLimitArray = np.ones(n+1)*np.exp(1) # this series converges to e"
   ]
  },
  {
   "cell_type": "markdown",
   "metadata": {},
   "source": [
    "and draw it"
   ]
  },
  {
   "cell_type": "code",
   "execution_count": 27,
   "metadata": {},
   "outputs": [
    {
     "data": {
      "image/png": "[encoded data removed]",
      "text/plain": [
       "<Figure size 432x288 with 1 Axes>"
      ]
     },
     "metadata": {
      "needs_background": "light"
     },
     "output_type": "display_data"
    }
   ],
   "source": [
    "draw(expoArray, label=\"exp\")\n",
    "plt.plot(expoLimitArray)\n",
    "plt.show()"
   ]
  },
  {
   "cell_type": "markdown",
   "metadata": {},
   "source": [
    "## The sequence $a_n = \\left(1 + \\frac{1}{n}\\right)^n$\n",
    "This seqence, just like the series above, converges to $e$, but much more slowly."
   ]
  },
  {
   "cell_type": "code",
   "execution_count": 28,
   "metadata": {},
   "outputs": [],
   "source": [
    "class slowExpSequence:\n",
    "    def generateSequence(self):\n",
    "        n = np.arange(1, self._max)\n",
    "        self._Sn = (1 + 1/n)**n\n",
    "\n",
    "    def __init__(self, order=10):\n",
    "        self._max=order + 1\n",
    "        self._min=0\n",
    "        self.generateSequence()\n",
    "\n",
    "    def mini(self):\n",
    "        return 1\n",
    "    def maxi(self):\n",
    "        return self._max\n",
    "    \n",
    "    def __call__(self):\n",
    "        return self._Sn\n",
    "\n"
   ]
  },
  {
   "cell_type": "markdown",
   "metadata": {},
   "source": [
    "Let's create an instance of the slow, the fast and the limit of the series/sequence that converge to an exponential"
   ]
  },
  {
   "cell_type": "code",
   "execution_count": 29,
   "metadata": {},
   "outputs": [],
   "source": [
    "n=10\n",
    "slowExpoArray = slowExpSequence(n)\n",
    "fastExpoArray = expoSeries(n)  \n",
    "expoLimitArray = np.ones(n+1)*np.exp(1) "
   ]
  },
  {
   "cell_type": "markdown",
   "metadata": {},
   "source": [
    "and let's draw it into the same plot as the fast one."
   ]
  },
  {
   "cell_type": "code",
   "execution_count": null,
   "metadata": {},
   "outputs": [],
   "source": [
    "draw(slowExpoArray, label=\"slow exp sequence (1+1/n)^n\")\n",
    "draw(fastExpoArray, label=\"fast exp series sum_0^n(1/k!)\")\n",
    "plt.plot(expoLimitArray)\n",
    "plt.show()"
   ]
  },
  {
   "cell_type": "code",
   "execution_count": null,
   "metadata": {},
   "outputs": [],
   "source": []
  }
 ],
 "metadata": {
  "kernelspec": {
   "display_name": "Python 3",
   "language": "python",
   "name": "python3"
  },
  "language_info": {
   "codemirror_mode": {
    "name": "ipython",
    "version": 3
   },
   "file_extension": ".py",
   "mimetype": "text/x-python",
   "name": "python",
   "nbconvert_exporter": "python",
   "pygments_lexer": "ipython3",
   "version": "3.8.3"
  }
 },
 "nbformat": 4,
 "nbformat_minor": 2
}
